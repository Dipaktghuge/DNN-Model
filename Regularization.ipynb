{
  "cells": [
    {
      "cell_type": "code",
      "execution_count": 1,
      "metadata": {
        "id": "dI_nL080Scvq"
      },
      "outputs": [],
      "source": [
        "import tensorflow as tf\n",
        "from tensorflow.keras.models import Sequential\n",
        "from tensorflow.keras.layers import Flatten\n",
        "from tensorflow.keras.layers import Dense\n",
        "from tensorflow.keras.layers import Activation\n",
        "from tensorflow.keras.layers import Dropout\n",
        "from tensorflow.keras.callbacks import EarlyStopping, ModelCheckpoint\n",
        "from sklearn.datasets import load_iris\n",
        "from keras import models\n",
        "from keras import layers\n",
        "import numpy as np\n",
        "from keras import regularizers"
      ]
    },
    {
      "cell_type": "markdown",
      "source": [
        "MNIST DATASET"
      ],
      "metadata": {
        "id": "bEzSlB69GPVB"
      }
    },
    {
      "cell_type": "code",
      "execution_count": 2,
      "metadata": {
        "colab": {
          "base_uri": "https://localhost:8080/"
        },
        "id": "lcemBqIQ5eBU",
        "outputId": "4662ca46-09aa-43d9-f469-d558ddefbbd4"
      },
      "outputs": [
        {
          "output_type": "stream",
          "name": "stdout",
          "text": [
            "Downloading data from https://storage.googleapis.com/tensorflow/tf-keras-datasets/mnist.npz\n",
            "11490434/11490434 [==============================] - 1s 0us/step\n"
          ]
        },
        {
          "output_type": "execute_result",
          "data": {
            "text/plain": [
              "array([[[0., 0., 0., ..., 0., 0., 0.],\n",
              "        [0., 0., 0., ..., 0., 0., 0.],\n",
              "        [0., 0., 0., ..., 0., 0., 0.],\n",
              "        ...,\n",
              "        [0., 0., 0., ..., 0., 0., 0.],\n",
              "        [0., 0., 0., ..., 0., 0., 0.],\n",
              "        [0., 0., 0., ..., 0., 0., 0.]],\n",
              "\n",
              "       [[0., 0., 0., ..., 0., 0., 0.],\n",
              "        [0., 0., 0., ..., 0., 0., 0.],\n",
              "        [0., 0., 0., ..., 0., 0., 0.],\n",
              "        ...,\n",
              "        [0., 0., 0., ..., 0., 0., 0.],\n",
              "        [0., 0., 0., ..., 0., 0., 0.],\n",
              "        [0., 0., 0., ..., 0., 0., 0.]],\n",
              "\n",
              "       [[0., 0., 0., ..., 0., 0., 0.],\n",
              "        [0., 0., 0., ..., 0., 0., 0.],\n",
              "        [0., 0., 0., ..., 0., 0., 0.],\n",
              "        ...,\n",
              "        [0., 0., 0., ..., 0., 0., 0.],\n",
              "        [0., 0., 0., ..., 0., 0., 0.],\n",
              "        [0., 0., 0., ..., 0., 0., 0.]],\n",
              "\n",
              "       ...,\n",
              "\n",
              "       [[0., 0., 0., ..., 0., 0., 0.],\n",
              "        [0., 0., 0., ..., 0., 0., 0.],\n",
              "        [0., 0., 0., ..., 0., 0., 0.],\n",
              "        ...,\n",
              "        [0., 0., 0., ..., 0., 0., 0.],\n",
              "        [0., 0., 0., ..., 0., 0., 0.],\n",
              "        [0., 0., 0., ..., 0., 0., 0.]],\n",
              "\n",
              "       [[0., 0., 0., ..., 0., 0., 0.],\n",
              "        [0., 0., 0., ..., 0., 0., 0.],\n",
              "        [0., 0., 0., ..., 0., 0., 0.],\n",
              "        ...,\n",
              "        [0., 0., 0., ..., 0., 0., 0.],\n",
              "        [0., 0., 0., ..., 0., 0., 0.],\n",
              "        [0., 0., 0., ..., 0., 0., 0.]],\n",
              "\n",
              "       [[0., 0., 0., ..., 0., 0., 0.],\n",
              "        [0., 0., 0., ..., 0., 0., 0.],\n",
              "        [0., 0., 0., ..., 0., 0., 0.],\n",
              "        ...,\n",
              "        [0., 0., 0., ..., 0., 0., 0.],\n",
              "        [0., 0., 0., ..., 0., 0., 0.],\n",
              "        [0., 0., 0., ..., 0., 0., 0.]]])"
            ]
          },
          "metadata": {},
          "execution_count": 2
        }
      ],
      "source": [
        "(x_train, y_train), (x_test, y_test) = tf.keras.datasets.mnist.load_data()\n",
        "max_value = 255\n",
        "x_train /max_value\n",
        "x_test /max_value"
      ]
    },
    {
      "cell_type": "code",
      "execution_count": 3,
      "metadata": {
        "id": "EMs8PDeV5lOP"
      },
      "outputs": [],
      "source": [
        "from sklearn.model_selection import train_test_split\n",
        "from sklearn.model_selection import cross_val_score\n",
        "X_train, X_val, Y_train, Y_val = train_test_split(x_train, y_train, test_size = 0.2, random_state=2)"
      ]
    },
    {
      "cell_type": "code",
      "execution_count": 4,
      "metadata": {
        "id": "xxDiAOk25pYR"
      },
      "outputs": [],
      "source": [
        "model = Sequential([Flatten(input_shape=(28, 28)),Dense(512, activation='sigmoid',kernel_regularizer=regularizers.l2(0.0001)),Dense(128, activation='sigmoid'),Dropout(0.5),Dense(10, activation='softmax'),\n",
        "])"
      ]
    },
    {
      "cell_type": "code",
      "execution_count": 5,
      "metadata": {
        "id": "jxwcvQKY533f"
      },
      "outputs": [],
      "source": [
        "model.compile(optimizer='adam',loss='sparse_categorical_crossentropy',metrics=['accuracy'])"
      ]
    },
    {
      "cell_type": "code",
      "execution_count": 6,
      "metadata": {
        "colab": {
          "base_uri": "https://localhost:8080/"
        },
        "id": "PBbc1SSV6OgX",
        "outputId": "4a1c06e2-3229-4c84-f472-64573e31225d"
      },
      "outputs": [
        {
          "output_type": "stream",
          "name": "stdout",
          "text": [
            "Epoch 1/100\n",
            "4/4 [==============================] - 3s 497ms/step - loss: 2.4184 - accuracy: 0.1693 - val_loss: 1.8634 - val_accuracy: 0.5990\n",
            "Epoch 2/100\n",
            "4/4 [==============================] - 2s 435ms/step - loss: 1.8557 - accuracy: 0.4246 - val_loss: 1.4910 - val_accuracy: 0.7792\n",
            "Epoch 3/100\n",
            "4/4 [==============================] - 2s 434ms/step - loss: 1.5006 - accuracy: 0.5981 - val_loss: 1.2050 - val_accuracy: 0.8022\n",
            "Epoch 4/100\n",
            "4/4 [==============================] - 2s 437ms/step - loss: 1.2428 - accuracy: 0.6841 - val_loss: 0.9953 - val_accuracy: 0.8174\n",
            "Epoch 5/100\n",
            "4/4 [==============================] - 2s 444ms/step - loss: 1.0631 - accuracy: 0.7345 - val_loss: 0.8414 - val_accuracy: 0.8420\n",
            "Epoch 6/100\n",
            "4/4 [==============================] - 2s 449ms/step - loss: 0.9171 - accuracy: 0.7776 - val_loss: 0.7297 - val_accuracy: 0.8570\n",
            "Epoch 7/100\n",
            "4/4 [==============================] - 2s 433ms/step - loss: 0.8065 - accuracy: 0.8071 - val_loss: 0.6441 - val_accuracy: 0.8689\n",
            "Epoch 8/100\n",
            "4/4 [==============================] - 2s 442ms/step - loss: 0.7217 - accuracy: 0.8317 - val_loss: 0.5786 - val_accuracy: 0.8796\n",
            "Epoch 9/100\n",
            "4/4 [==============================] - 2s 434ms/step - loss: 0.6505 - accuracy: 0.8486 - val_loss: 0.5275 - val_accuracy: 0.8863\n",
            "Epoch 10/100\n",
            "4/4 [==============================] - 2s 441ms/step - loss: 0.5940 - accuracy: 0.8629 - val_loss: 0.4858 - val_accuracy: 0.8923\n",
            "Epoch 11/100\n",
            "4/4 [==============================] - 2s 439ms/step - loss: 0.5515 - accuracy: 0.8713 - val_loss: 0.4538 - val_accuracy: 0.8971\n",
            "Epoch 12/100\n",
            "4/4 [==============================] - 2s 454ms/step - loss: 0.5119 - accuracy: 0.8824 - val_loss: 0.4282 - val_accuracy: 0.9008\n",
            "Epoch 13/100\n",
            "4/4 [==============================] - 2s 442ms/step - loss: 0.4815 - accuracy: 0.8888 - val_loss: 0.4069 - val_accuracy: 0.9044\n",
            "Epoch 14/100\n",
            "4/4 [==============================] - 2s 443ms/step - loss: 0.4542 - accuracy: 0.8961 - val_loss: 0.3895 - val_accuracy: 0.9076\n",
            "Epoch 15/100\n",
            "4/4 [==============================] - 2s 437ms/step - loss: 0.4296 - accuracy: 0.9014 - val_loss: 0.3743 - val_accuracy: 0.9111\n",
            "Epoch 16/100\n",
            "4/4 [==============================] - 2s 451ms/step - loss: 0.4098 - accuracy: 0.9069 - val_loss: 0.3617 - val_accuracy: 0.9135\n",
            "Epoch 17/100\n",
            "4/4 [==============================] - 2s 441ms/step - loss: 0.3921 - accuracy: 0.9114 - val_loss: 0.3502 - val_accuracy: 0.9150\n",
            "Epoch 18/100\n",
            "4/4 [==============================] - 2s 448ms/step - loss: 0.3761 - accuracy: 0.9148 - val_loss: 0.3408 - val_accuracy: 0.9182\n",
            "Epoch 19/100\n",
            "4/4 [==============================] - 2s 438ms/step - loss: 0.3632 - accuracy: 0.9179 - val_loss: 0.3318 - val_accuracy: 0.9191\n",
            "Epoch 20/100\n",
            "4/4 [==============================] - 2s 443ms/step - loss: 0.3508 - accuracy: 0.9216 - val_loss: 0.3241 - val_accuracy: 0.9199\n",
            "Epoch 21/100\n",
            "4/4 [==============================] - 2s 603ms/step - loss: 0.3394 - accuracy: 0.9237 - val_loss: 0.3162 - val_accuracy: 0.9211\n",
            "Epoch 22/100\n",
            "4/4 [==============================] - 2s 463ms/step - loss: 0.3268 - accuracy: 0.9251 - val_loss: 0.3099 - val_accuracy: 0.9235\n",
            "Epoch 23/100\n",
            "4/4 [==============================] - 2s 435ms/step - loss: 0.3179 - accuracy: 0.9286 - val_loss: 0.3046 - val_accuracy: 0.9248\n",
            "Epoch 24/100\n",
            "4/4 [==============================] - 2s 439ms/step - loss: 0.3084 - accuracy: 0.9316 - val_loss: 0.2994 - val_accuracy: 0.9255\n",
            "Epoch 25/100\n",
            "4/4 [==============================] - 2s 440ms/step - loss: 0.3006 - accuracy: 0.9327 - val_loss: 0.2935 - val_accuracy: 0.9277\n",
            "Epoch 26/100\n",
            "4/4 [==============================] - 2s 436ms/step - loss: 0.2917 - accuracy: 0.9348 - val_loss: 0.2896 - val_accuracy: 0.9281\n",
            "Epoch 27/100\n",
            "4/4 [==============================] - 2s 438ms/step - loss: 0.2837 - accuracy: 0.9377 - val_loss: 0.2847 - val_accuracy: 0.9298\n",
            "Epoch 28/100\n",
            "4/4 [==============================] - 2s 442ms/step - loss: 0.2776 - accuracy: 0.9385 - val_loss: 0.2803 - val_accuracy: 0.9304\n",
            "Epoch 29/100\n",
            "4/4 [==============================] - 2s 437ms/step - loss: 0.2699 - accuracy: 0.9407 - val_loss: 0.2761 - val_accuracy: 0.9312\n",
            "Epoch 30/100\n",
            "4/4 [==============================] - 2s 439ms/step - loss: 0.2637 - accuracy: 0.9428 - val_loss: 0.2717 - val_accuracy: 0.9332\n",
            "Epoch 31/100\n",
            "4/4 [==============================] - 2s 443ms/step - loss: 0.2554 - accuracy: 0.9451 - val_loss: 0.2683 - val_accuracy: 0.9340\n",
            "Epoch 32/100\n",
            "4/4 [==============================] - 2s 435ms/step - loss: 0.2527 - accuracy: 0.9449 - val_loss: 0.2657 - val_accuracy: 0.9343\n",
            "Epoch 33/100\n",
            "4/4 [==============================] - 2s 440ms/step - loss: 0.2465 - accuracy: 0.9463 - val_loss: 0.2621 - val_accuracy: 0.9356\n",
            "Epoch 34/100\n",
            "4/4 [==============================] - 2s 444ms/step - loss: 0.2412 - accuracy: 0.9484 - val_loss: 0.2586 - val_accuracy: 0.9372\n",
            "Epoch 35/100\n",
            "4/4 [==============================] - 2s 434ms/step - loss: 0.2350 - accuracy: 0.9507 - val_loss: 0.2558 - val_accuracy: 0.9356\n",
            "Epoch 36/100\n",
            "4/4 [==============================] - 2s 435ms/step - loss: 0.2317 - accuracy: 0.9510 - val_loss: 0.2527 - val_accuracy: 0.9371\n",
            "Epoch 37/100\n",
            "4/4 [==============================] - 2s 439ms/step - loss: 0.2238 - accuracy: 0.9537 - val_loss: 0.2504 - val_accuracy: 0.9377\n",
            "Epoch 38/100\n",
            "4/4 [==============================] - 2s 436ms/step - loss: 0.2222 - accuracy: 0.9532 - val_loss: 0.2483 - val_accuracy: 0.9380\n",
            "Epoch 39/100\n",
            "4/4 [==============================] - 2s 436ms/step - loss: 0.2173 - accuracy: 0.9547 - val_loss: 0.2464 - val_accuracy: 0.9391\n",
            "Epoch 40/100\n",
            "4/4 [==============================] - 2s 441ms/step - loss: 0.2132 - accuracy: 0.9551 - val_loss: 0.2426 - val_accuracy: 0.9392\n",
            "Epoch 41/100\n",
            "4/4 [==============================] - 2s 432ms/step - loss: 0.2109 - accuracy: 0.9557 - val_loss: 0.2408 - val_accuracy: 0.9391\n",
            "Epoch 42/100\n",
            "4/4 [==============================] - 2s 435ms/step - loss: 0.2063 - accuracy: 0.9572 - val_loss: 0.2389 - val_accuracy: 0.9403\n",
            "Epoch 43/100\n",
            "4/4 [==============================] - 2s 443ms/step - loss: 0.2004 - accuracy: 0.9591 - val_loss: 0.2368 - val_accuracy: 0.9415\n",
            "Epoch 44/100\n",
            "4/4 [==============================] - 2s 436ms/step - loss: 0.2000 - accuracy: 0.9581 - val_loss: 0.2341 - val_accuracy: 0.9415\n",
            "Epoch 45/100\n",
            "4/4 [==============================] - 2s 438ms/step - loss: 0.1937 - accuracy: 0.9610 - val_loss: 0.2320 - val_accuracy: 0.9413\n",
            "Epoch 46/100\n",
            "4/4 [==============================] - 2s 439ms/step - loss: 0.1911 - accuracy: 0.9611 - val_loss: 0.2299 - val_accuracy: 0.9407\n"
          ]
        },
        {
          "output_type": "execute_result",
          "data": {
            "text/plain": [
              "<keras.callbacks.History at 0x7fbfd7a8b790>"
            ]
          },
          "metadata": {},
          "execution_count": 6
        }
      ],
      "source": [
        "callbacks = [EarlyStopping(monitor='val_accuracy', patience=3)]\n",
        "model.fit(X_train, Y_train, epochs=100,batch_size=10000, validation_split = 0.2, callbacks=callbacks)"
      ]
    },
    {
      "cell_type": "markdown",
      "metadata": {
        "id": "UxuxT9Xd6l40"
      },
      "source": []
    },
    {
      "cell_type": "code",
      "execution_count": 7,
      "metadata": {
        "id": "Drl9TGHW6h1P"
      },
      "outputs": [],
      "source": [
        "results = model.evaluate(x_test,  y_test, verbose = 0)"
      ]
    },
    {
      "cell_type": "code",
      "execution_count": 8,
      "metadata": {
        "colab": {
          "base_uri": "https://localhost:8080/"
        },
        "id": "AOekzWeC6aG_",
        "outputId": "ee686796-83cd-4581-ef9a-4ffc0ff0aa8f"
      },
      "outputs": [
        {
          "output_type": "stream",
          "name": "stdout",
          "text": [
            "test loss, test acc: [0.2105828821659088, 0.9476000070571899]\n"
          ]
        }
      ],
      "source": [
        "print('test loss, test acc:', results)"
      ]
    },
    {
      "cell_type": "code",
      "execution_count": 9,
      "metadata": {
        "id": "Fz67psaK6sjb"
      },
      "outputs": [],
      "source": [
        "model = Sequential([Flatten(input_shape=(28, 28)),Dense(512, activation='relu'),Dropout(0.4),Dense(128, activation='relu'),Dropout(0.4),Dense(10, activation='sigmoid'),])"
      ]
    },
    {
      "cell_type": "code",
      "execution_count": 10,
      "metadata": {
        "id": "tJA9CRFe7HlW"
      },
      "outputs": [],
      "source": [
        "model.compile(optimizer='sgd',loss='sparse_categorical_crossentropy',metrics=['categorical_accuracy'])"
      ]
    },
    {
      "cell_type": "code",
      "execution_count": 11,
      "metadata": {
        "colab": {
          "base_uri": "https://localhost:8080/"
        },
        "id": "9dw_aH767QDu",
        "outputId": "5fa9a7f6-6db2-4c36-b92c-412226eb49fe"
      },
      "outputs": [
        {
          "output_type": "execute_result",
          "data": {
            "text/plain": [
              "((48000, 28, 28),\n",
              " (48000,),\n",
              " (12000, 28, 28),\n",
              " (12000,),\n",
              " (10000, 28, 28),\n",
              " (10000,))"
            ]
          },
          "metadata": {},
          "execution_count": 11
        }
      ],
      "source": [
        "X_train.shape, Y_train.shape, X_val.shape, Y_val.shape, x_test.shape, y_test.shape"
      ]
    },
    {
      "cell_type": "code",
      "execution_count": 12,
      "metadata": {
        "colab": {
          "base_uri": "https://localhost:8080/"
        },
        "id": "_1zpA41o7TWU",
        "outputId": "c2733695-aa34-45c5-fa86-bdc1d1746b90"
      },
      "outputs": [
        {
          "output_type": "stream",
          "name": "stdout",
          "text": [
            "Epoch 1/100\n",
            "7/7 [==============================] - ETA: 0s - loss: 13074.1621 - categorical_accuracy: 0.1920"
          ]
        },
        {
          "output_type": "stream",
          "name": "stderr",
          "text": [
            "WARNING:tensorflow:Early stopping conditioned on metric `val_accuracy` which is not available. Available metrics are: loss,categorical_accuracy,val_loss,val_categorical_accuracy\n"
          ]
        },
        {
          "output_type": "stream",
          "name": "stdout",
          "text": [
            "\b\b\b\b\b\b\b\b\b\b\b\b\b\b\b\b\b\b\b\b\b\b\b\b\b\b\b\b\b\b\b\b\b\b\b\b\b\b\b\b\b\b\b\b\b\b\b\b\b\b\b\b\b\b\b\b\b\b\b\b\b\b\b\b\b\b\b\b\b\b\b\b\b\b\b\b\b\b\b\b\b\b\b\b\b\b\b\b\b\b\b\b\b\b\b\b\r7/7 [==============================] - 2s 298ms/step - loss: 13074.1621 - categorical_accuracy: 0.1920 - val_loss: 66548.2500 - val_categorical_accuracy: 0.0000e+00\n",
            "Epoch 2/100\n",
            "7/7 [==============================] - ETA: 0s - loss: 519835328.0000 - categorical_accuracy: 0.1552"
          ]
        },
        {
          "output_type": "stream",
          "name": "stderr",
          "text": [
            "WARNING:tensorflow:Early stopping conditioned on metric `val_accuracy` which is not available. Available metrics are: loss,categorical_accuracy,val_loss,val_categorical_accuracy\n"
          ]
        },
        {
          "output_type": "stream",
          "name": "stdout",
          "text": [
            "\b\b\b\b\b\b\b\b\b\b\b\b\b\b\b\b\b\b\b\b\b\b\b\b\b\b\b\b\b\b\b\b\b\b\b\b\b\b\b\b\b\b\b\b\b\b\b\b\b\b\b\b\b\b\b\b\b\b\b\b\b\b\b\b\b\b\b\b\b\b\b\b\b\b\b\b\b\b\b\b\b\b\b\b\b\b\b\b\b\b\b\b\b\b\b\b\b\b\b\b\r7/7 [==============================] - 2s 274ms/step - loss: 519835328.0000 - categorical_accuracy: 0.1552 - val_loss: 958998446080.0000 - val_categorical_accuracy: 1.0000\n",
            "Epoch 3/100\n",
            "7/7 [==============================] - ETA: 0s - loss: nan - categorical_accuracy: 0.3608                                 "
          ]
        },
        {
          "output_type": "stream",
          "name": "stderr",
          "text": [
            "WARNING:tensorflow:Early stopping conditioned on metric `val_accuracy` which is not available. Available metrics are: loss,categorical_accuracy,val_loss,val_categorical_accuracy\n"
          ]
        },
        {
          "output_type": "stream",
          "name": "stdout",
          "text": [
            "\b\b\b\b\b\b\b\b\b\b\b\b\b\b\b\b\b\b\b\b\b\b\b\b\b\b\b\b\b\b\b\b\b\b\b\b\b\b\b\b\b\b\b\b\b\b\b\b\b\b\b\b\b\b\b\b\b\b\b\b\b\b\b\b\b\b\b\b\b\b\b\b\b\b\b\b\b\b\b\b\b\b\b\b\b\b\b\b\b\r7/7 [==============================] - 2s 273ms/step - loss: nan - categorical_accuracy: 0.3608 - val_loss: nan - val_categorical_accuracy: 1.0000\n",
            "Epoch 4/100\n",
            "7/7 [==============================] - ETA: 0s - loss: nan - categorical_accuracy: 1.0000"
          ]
        },
        {
          "output_type": "stream",
          "name": "stderr",
          "text": [
            "WARNING:tensorflow:Early stopping conditioned on metric `val_accuracy` which is not available. Available metrics are: loss,categorical_accuracy,val_loss,val_categorical_accuracy\n"
          ]
        },
        {
          "output_type": "stream",
          "name": "stdout",
          "text": [
            "\b\b\b\b\b\b\b\b\b\b\b\b\b\b\b\b\b\b\b\b\b\b\b\b\b\b\b\b\b\b\b\b\b\b\b\b\b\b\b\b\b\b\b\b\b\b\b\b\b\b\b\b\b\b\b\b\b\b\b\b\b\b\b\b\b\b\b\b\b\b\b\b\b\b\b\b\b\b\b\b\b\b\b\b\b\b\b\b\b\r7/7 [==============================] - 2s 274ms/step - loss: nan - categorical_accuracy: 1.0000 - val_loss: nan - val_categorical_accuracy: 1.0000\n",
            "Epoch 5/100\n",
            "7/7 [==============================] - ETA: 0s - loss: nan - categorical_accuracy: 1.0000"
          ]
        },
        {
          "output_type": "stream",
          "name": "stderr",
          "text": [
            "WARNING:tensorflow:Early stopping conditioned on metric `val_accuracy` which is not available. Available metrics are: loss,categorical_accuracy,val_loss,val_categorical_accuracy\n"
          ]
        },
        {
          "output_type": "stream",
          "name": "stdout",
          "text": [
            "\b\b\b\b\b\b\b\b\b\b\b\b\b\b\b\b\b\b\b\b\b\b\b\b\b\b\b\b\b\b\b\b\b\b\b\b\b\b\b\b\b\b\b\b\b\b\b\b\b\b\b\b\b\b\b\b\b\b\b\b\b\b\b\b\b\b\b\b\b\b\b\b\b\b\b\b\b\b\b\b\b\b\b\b\b\b\b\b\b\r7/7 [==============================] - 2s 273ms/step - loss: nan - categorical_accuracy: 1.0000 - val_loss: nan - val_categorical_accuracy: 1.0000\n",
            "Epoch 6/100\n",
            "7/7 [==============================] - ETA: 0s - loss: nan - categorical_accuracy: 1.0000"
          ]
        },
        {
          "output_type": "stream",
          "name": "stderr",
          "text": [
            "WARNING:tensorflow:Early stopping conditioned on metric `val_accuracy` which is not available. Available metrics are: loss,categorical_accuracy,val_loss,val_categorical_accuracy\n"
          ]
        },
        {
          "output_type": "stream",
          "name": "stdout",
          "text": [
            "\b\b\b\b\b\b\b\b\b\b\b\b\b\b\b\b\b\b\b\b\b\b\b\b\b\b\b\b\b\b\b\b\b\b\b\b\b\b\b\b\b\b\b\b\b\b\b\b\b\b\b\b\b\b\b\b\b\b\b\b\b\b\b\b\b\b\b\b\b\b\b\b\b\b\b\b\b\b\b\b\b\b\b\b\b\b\b\b\b\r7/7 [==============================] - 2s 274ms/step - loss: nan - categorical_accuracy: 1.0000 - val_loss: nan - val_categorical_accuracy: 1.0000\n",
            "Epoch 7/100\n",
            "7/7 [==============================] - ETA: 0s - loss: nan - categorical_accuracy: 1.0000"
          ]
        },
        {
          "output_type": "stream",
          "name": "stderr",
          "text": [
            "WARNING:tensorflow:Early stopping conditioned on metric `val_accuracy` which is not available. Available metrics are: loss,categorical_accuracy,val_loss,val_categorical_accuracy\n"
          ]
        },
        {
          "output_type": "stream",
          "name": "stdout",
          "text": [
            "\b\b\b\b\b\b\b\b\b\b\b\b\b\b\b\b\b\b\b\b\b\b\b\b\b\b\b\b\b\b\b\b\b\b\b\b\b\b\b\b\b\b\b\b\b\b\b\b\b\b\b\b\b\b\b\b\b\b\b\b\b\b\b\b\b\b\b\b\b\b\b\b\b\b\b\b\b\b\b\b\b\b\b\b\b\b\b\b\b\r7/7 [==============================] - 2s 274ms/step - loss: nan - categorical_accuracy: 1.0000 - val_loss: nan - val_categorical_accuracy: 1.0000\n",
            "Epoch 8/100\n",
            "7/7 [==============================] - ETA: 0s - loss: nan - categorical_accuracy: 1.0000"
          ]
        },
        {
          "output_type": "stream",
          "name": "stderr",
          "text": [
            "WARNING:tensorflow:Early stopping conditioned on metric `val_accuracy` which is not available. Available metrics are: loss,categorical_accuracy,val_loss,val_categorical_accuracy\n"
          ]
        },
        {
          "output_type": "stream",
          "name": "stdout",
          "text": [
            "\b\b\b\b\b\b\b\b\b\b\b\b\b\b\b\b\b\b\b\b\b\b\b\b\b\b\b\b\b\b\b\b\b\b\b\b\b\b\b\b\b\b\b\b\b\b\b\b\b\b\b\b\b\b\b\b\b\b\b\b\b\b\b\b\b\b\b\b\b\b\b\b\b\b\b\b\b\b\b\b\b\b\b\b\b\b\b\b\b\r7/7 [==============================] - 2s 277ms/step - loss: nan - categorical_accuracy: 1.0000 - val_loss: nan - val_categorical_accuracy: 1.0000\n",
            "Epoch 9/100\n",
            "7/7 [==============================] - ETA: 0s - loss: nan - categorical_accuracy: 1.0000"
          ]
        },
        {
          "output_type": "stream",
          "name": "stderr",
          "text": [
            "WARNING:tensorflow:Early stopping conditioned on metric `val_accuracy` which is not available. Available metrics are: loss,categorical_accuracy,val_loss,val_categorical_accuracy\n"
          ]
        },
        {
          "output_type": "stream",
          "name": "stdout",
          "text": [
            "\b\b\b\b\b\b\b\b\b\b\b\b\b\b\b\b\b\b\b\b\b\b\b\b\b\b\b\b\b\b\b\b\b\b\b\b\b\b\b\b\b\b\b\b\b\b\b\b\b\b\b\b\b\b\b\b\b\b\b\b\b\b\b\b\b\b\b\b\b\b\b\b\b\b\b\b\b\b\b\b\b\b\b\b\b\b\b\b\b\r7/7 [==============================] - 2s 276ms/step - loss: nan - categorical_accuracy: 1.0000 - val_loss: nan - val_categorical_accuracy: 1.0000\n",
            "Epoch 10/100\n",
            "7/7 [==============================] - ETA: 0s - loss: nan - categorical_accuracy: 1.0000"
          ]
        },
        {
          "output_type": "stream",
          "name": "stderr",
          "text": [
            "WARNING:tensorflow:Early stopping conditioned on metric `val_accuracy` which is not available. Available metrics are: loss,categorical_accuracy,val_loss,val_categorical_accuracy\n"
          ]
        },
        {
          "output_type": "stream",
          "name": "stdout",
          "text": [
            "\b\b\b\b\b\b\b\b\b\b\b\b\b\b\b\b\b\b\b\b\b\b\b\b\b\b\b\b\b\b\b\b\b\b\b\b\b\b\b\b\b\b\b\b\b\b\b\b\b\b\b\b\b\b\b\b\b\b\b\b\b\b\b\b\b\b\b\b\b\b\b\b\b\b\b\b\b\b\b\b\b\b\b\b\b\b\b\b\b\r7/7 [==============================] - 2s 273ms/step - loss: nan - categorical_accuracy: 1.0000 - val_loss: nan - val_categorical_accuracy: 1.0000\n",
            "Epoch 11/100\n",
            "7/7 [==============================] - ETA: 0s - loss: nan - categorical_accuracy: 1.0000"
          ]
        },
        {
          "output_type": "stream",
          "name": "stderr",
          "text": [
            "WARNING:tensorflow:Early stopping conditioned on metric `val_accuracy` which is not available. Available metrics are: loss,categorical_accuracy,val_loss,val_categorical_accuracy\n"
          ]
        },
        {
          "output_type": "stream",
          "name": "stdout",
          "text": [
            "\b\b\b\b\b\b\b\b\b\b\b\b\b\b\b\b\b\b\b\b\b\b\b\b\b\b\b\b\b\b\b\b\b\b\b\b\b\b\b\b\b\b\b\b\b\b\b\b\b\b\b\b\b\b\b\b\b\b\b\b\b\b\b\b\b\b\b\b\b\b\b\b\b\b\b\b\b\b\b\b\b\b\b\b\b\b\b\b\b\r7/7 [==============================] - 2s 273ms/step - loss: nan - categorical_accuracy: 1.0000 - val_loss: nan - val_categorical_accuracy: 1.0000\n",
            "Epoch 12/100\n",
            "7/7 [==============================] - ETA: 0s - loss: nan - categorical_accuracy: 1.0000"
          ]
        },
        {
          "output_type": "stream",
          "name": "stderr",
          "text": [
            "WARNING:tensorflow:Early stopping conditioned on metric `val_accuracy` which is not available. Available metrics are: loss,categorical_accuracy,val_loss,val_categorical_accuracy\n"
          ]
        },
        {
          "output_type": "stream",
          "name": "stdout",
          "text": [
            "\b\b\b\b\b\b\b\b\b\b\b\b\b\b\b\b\b\b\b\b\b\b\b\b\b\b\b\b\b\b\b\b\b\b\b\b\b\b\b\b\b\b\b\b\b\b\b\b\b\b\b\b\b\b\b\b\b\b\b\b\b\b\b\b\b\b\b\b\b\b\b\b\b\b\b\b\b\b\b\b\b\b\b\b\b\b\b\b\b\r7/7 [==============================] - 2s 271ms/step - loss: nan - categorical_accuracy: 1.0000 - val_loss: nan - val_categorical_accuracy: 1.0000\n",
            "Epoch 13/100\n",
            "7/7 [==============================] - ETA: 0s - loss: nan - categorical_accuracy: 1.0000"
          ]
        },
        {
          "output_type": "stream",
          "name": "stderr",
          "text": [
            "WARNING:tensorflow:Early stopping conditioned on metric `val_accuracy` which is not available. Available metrics are: loss,categorical_accuracy,val_loss,val_categorical_accuracy\n"
          ]
        },
        {
          "output_type": "stream",
          "name": "stdout",
          "text": [
            "\b\b\b\b\b\b\b\b\b\b\b\b\b\b\b\b\b\b\b\b\b\b\b\b\b\b\b\b\b\b\b\b\b\b\b\b\b\b\b\b\b\b\b\b\b\b\b\b\b\b\b\b\b\b\b\b\b\b\b\b\b\b\b\b\b\b\b\b\b\b\b\b\b\b\b\b\b\b\b\b\b\b\b\b\b\b\b\b\b\r7/7 [==============================] - 2s 271ms/step - loss: nan - categorical_accuracy: 1.0000 - val_loss: nan - val_categorical_accuracy: 1.0000\n",
            "Epoch 14/100\n",
            "7/7 [==============================] - ETA: 0s - loss: nan - categorical_accuracy: 1.0000"
          ]
        },
        {
          "output_type": "stream",
          "name": "stderr",
          "text": [
            "WARNING:tensorflow:Early stopping conditioned on metric `val_accuracy` which is not available. Available metrics are: loss,categorical_accuracy,val_loss,val_categorical_accuracy\n"
          ]
        },
        {
          "output_type": "stream",
          "name": "stdout",
          "text": [
            "\b\b\b\b\b\b\b\b\b\b\b\b\b\b\b\b\b\b\b\b\b\b\b\b\b\b\b\b\b\b\b\b\b\b\b\b\b\b\b\b\b\b\b\b\b\b\b\b\b\b\b\b\b\b\b\b\b\b\b\b\b\b\b\b\b\b\b\b\b\b\b\b\b\b\b\b\b\b\b\b\b\b\b\b\b\b\b\b\b\r7/7 [==============================] - 2s 277ms/step - loss: nan - categorical_accuracy: 1.0000 - val_loss: nan - val_categorical_accuracy: 1.0000\n",
            "Epoch 15/100\n",
            "7/7 [==============================] - ETA: 0s - loss: nan - categorical_accuracy: 1.0000"
          ]
        },
        {
          "output_type": "stream",
          "name": "stderr",
          "text": [
            "WARNING:tensorflow:Early stopping conditioned on metric `val_accuracy` which is not available. Available metrics are: loss,categorical_accuracy,val_loss,val_categorical_accuracy\n"
          ]
        },
        {
          "output_type": "stream",
          "name": "stdout",
          "text": [
            "\b\b\b\b\b\b\b\b\b\b\b\b\b\b\b\b\b\b\b\b\b\b\b\b\b\b\b\b\b\b\b\b\b\b\b\b\b\b\b\b\b\b\b\b\b\b\b\b\b\b\b\b\b\b\b\b\b\b\b\b\b\b\b\b\b\b\b\b\b\b\b\b\b\b\b\b\b\b\b\b\b\b\b\b\b\b\b\b\b\r7/7 [==============================] - 2s 274ms/step - loss: nan - categorical_accuracy: 1.0000 - val_loss: nan - val_categorical_accuracy: 1.0000\n",
            "Epoch 16/100\n",
            "7/7 [==============================] - ETA: 0s - loss: nan - categorical_accuracy: 1.0000"
          ]
        },
        {
          "output_type": "stream",
          "name": "stderr",
          "text": [
            "WARNING:tensorflow:Early stopping conditioned on metric `val_accuracy` which is not available. Available metrics are: loss,categorical_accuracy,val_loss,val_categorical_accuracy\n"
          ]
        },
        {
          "output_type": "stream",
          "name": "stdout",
          "text": [
            "\b\b\b\b\b\b\b\b\b\b\b\b\b\b\b\b\b\b\b\b\b\b\b\b\b\b\b\b\b\b\b\b\b\b\b\b\b\b\b\b\b\b\b\b\b\b\b\b\b\b\b\b\b\b\b\b\b\b\b\b\b\b\b\b\b\b\b\b\b\b\b\b\b\b\b\b\b\b\b\b\b\b\b\b\b\b\b\b\b\r7/7 [==============================] - 2s 274ms/step - loss: nan - categorical_accuracy: 1.0000 - val_loss: nan - val_categorical_accuracy: 1.0000\n",
            "Epoch 17/100\n",
            "7/7 [==============================] - ETA: 0s - loss: nan - categorical_accuracy: 1.0000"
          ]
        },
        {
          "output_type": "stream",
          "name": "stderr",
          "text": [
            "WARNING:tensorflow:Early stopping conditioned on metric `val_accuracy` which is not available. Available metrics are: loss,categorical_accuracy,val_loss,val_categorical_accuracy\n"
          ]
        },
        {
          "output_type": "stream",
          "name": "stdout",
          "text": [
            "\b\b\b\b\b\b\b\b\b\b\b\b\b\b\b\b\b\b\b\b\b\b\b\b\b\b\b\b\b\b\b\b\b\b\b\b\b\b\b\b\b\b\b\b\b\b\b\b\b\b\b\b\b\b\b\b\b\b\b\b\b\b\b\b\b\b\b\b\b\b\b\b\b\b\b\b\b\b\b\b\b\b\b\b\b\b\b\b\b\r7/7 [==============================] - 2s 274ms/step - loss: nan - categorical_accuracy: 1.0000 - val_loss: nan - val_categorical_accuracy: 1.0000\n",
            "Epoch 18/100\n",
            "7/7 [==============================] - ETA: 0s - loss: nan - categorical_accuracy: 1.0000"
          ]
        },
        {
          "output_type": "stream",
          "name": "stderr",
          "text": [
            "WARNING:tensorflow:Early stopping conditioned on metric `val_accuracy` which is not available. Available metrics are: loss,categorical_accuracy,val_loss,val_categorical_accuracy\n"
          ]
        },
        {
          "output_type": "stream",
          "name": "stdout",
          "text": [
            "\b\b\b\b\b\b\b\b\b\b\b\b\b\b\b\b\b\b\b\b\b\b\b\b\b\b\b\b\b\b\b\b\b\b\b\b\b\b\b\b\b\b\b\b\b\b\b\b\b\b\b\b\b\b\b\b\b\b\b\b\b\b\b\b\b\b\b\b\b\b\b\b\b\b\b\b\b\b\b\b\b\b\b\b\b\b\b\b\b\r7/7 [==============================] - 2s 271ms/step - loss: nan - categorical_accuracy: 1.0000 - val_loss: nan - val_categorical_accuracy: 1.0000\n",
            "Epoch 19/100\n",
            "7/7 [==============================] - ETA: 0s - loss: nan - categorical_accuracy: 1.0000"
          ]
        },
        {
          "output_type": "stream",
          "name": "stderr",
          "text": [
            "WARNING:tensorflow:Early stopping conditioned on metric `val_accuracy` which is not available. Available metrics are: loss,categorical_accuracy,val_loss,val_categorical_accuracy\n"
          ]
        },
        {
          "output_type": "stream",
          "name": "stdout",
          "text": [
            "\b\b\b\b\b\b\b\b\b\b\b\b\b\b\b\b\b\b\b\b\b\b\b\b\b\b\b\b\b\b\b\b\b\b\b\b\b\b\b\b\b\b\b\b\b\b\b\b\b\b\b\b\b\b\b\b\b\b\b\b\b\b\b\b\b\b\b\b\b\b\b\b\b\b\b\b\b\b\b\b\b\b\b\b\b\b\b\b\b\r7/7 [==============================] - 2s 271ms/step - loss: nan - categorical_accuracy: 1.0000 - val_loss: nan - val_categorical_accuracy: 1.0000\n",
            "Epoch 20/100\n",
            "7/7 [==============================] - ETA: 0s - loss: nan - categorical_accuracy: 1.0000"
          ]
        },
        {
          "output_type": "stream",
          "name": "stderr",
          "text": [
            "WARNING:tensorflow:Early stopping conditioned on metric `val_accuracy` which is not available. Available metrics are: loss,categorical_accuracy,val_loss,val_categorical_accuracy\n"
          ]
        },
        {
          "output_type": "stream",
          "name": "stdout",
          "text": [
            "\b\b\b\b\b\b\b\b\b\b\b\b\b\b\b\b\b\b\b\b\b\b\b\b\b\b\b\b\b\b\b\b\b\b\b\b\b\b\b\b\b\b\b\b\b\b\b\b\b\b\b\b\b\b\b\b\b\b\b\b\b\b\b\b\b\b\b\b\b\b\b\b\b\b\b\b\b\b\b\b\b\b\b\b\b\b\b\b\b\r7/7 [==============================] - 2s 272ms/step - loss: nan - categorical_accuracy: 1.0000 - val_loss: nan - val_categorical_accuracy: 1.0000\n",
            "Epoch 21/100\n",
            "7/7 [==============================] - ETA: 0s - loss: nan - categorical_accuracy: 1.0000"
          ]
        },
        {
          "output_type": "stream",
          "name": "stderr",
          "text": [
            "WARNING:tensorflow:Early stopping conditioned on metric `val_accuracy` which is not available. Available metrics are: loss,categorical_accuracy,val_loss,val_categorical_accuracy\n"
          ]
        },
        {
          "output_type": "stream",
          "name": "stdout",
          "text": [
            "\b\b\b\b\b\b\b\b\b\b\b\b\b\b\b\b\b\b\b\b\b\b\b\b\b\b\b\b\b\b\b\b\b\b\b\b\b\b\b\b\b\b\b\b\b\b\b\b\b\b\b\b\b\b\b\b\b\b\b\b\b\b\b\b\b\b\b\b\b\b\b\b\b\b\b\b\b\b\b\b\b\b\b\b\b\b\b\b\b\r7/7 [==============================] - 2s 272ms/step - loss: nan - categorical_accuracy: 1.0000 - val_loss: nan - val_categorical_accuracy: 1.0000\n",
            "Epoch 22/100\n",
            "7/7 [==============================] - ETA: 0s - loss: nan - categorical_accuracy: 1.0000"
          ]
        },
        {
          "output_type": "stream",
          "name": "stderr",
          "text": [
            "WARNING:tensorflow:Early stopping conditioned on metric `val_accuracy` which is not available. Available metrics are: loss,categorical_accuracy,val_loss,val_categorical_accuracy\n"
          ]
        },
        {
          "output_type": "stream",
          "name": "stdout",
          "text": [
            "\b\b\b\b\b\b\b\b\b\b\b\b\b\b\b\b\b\b\b\b\b\b\b\b\b\b\b\b\b\b\b\b\b\b\b\b\b\b\b\b\b\b\b\b\b\b\b\b\b\b\b\b\b\b\b\b\b\b\b\b\b\b\b\b\b\b\b\b\b\b\b\b\b\b\b\b\b\b\b\b\b\b\b\b\b\b\b\b\b\r7/7 [==============================] - 2s 274ms/step - loss: nan - categorical_accuracy: 1.0000 - val_loss: nan - val_categorical_accuracy: 1.0000\n",
            "Epoch 23/100\n",
            "7/7 [==============================] - ETA: 0s - loss: nan - categorical_accuracy: 1.0000"
          ]
        },
        {
          "output_type": "stream",
          "name": "stderr",
          "text": [
            "WARNING:tensorflow:Early stopping conditioned on metric `val_accuracy` which is not available. Available metrics are: loss,categorical_accuracy,val_loss,val_categorical_accuracy\n"
          ]
        },
        {
          "output_type": "stream",
          "name": "stdout",
          "text": [
            "\b\b\b\b\b\b\b\b\b\b\b\b\b\b\b\b\b\b\b\b\b\b\b\b\b\b\b\b\b\b\b\b\b\b\b\b\b\b\b\b\b\b\b\b\b\b\b\b\b\b\b\b\b\b\b\b\b\b\b\b\b\b\b\b\b\b\b\b\b\b\b\b\b\b\b\b\b\b\b\b\b\b\b\b\b\b\b\b\b\r7/7 [==============================] - 2s 276ms/step - loss: nan - categorical_accuracy: 1.0000 - val_loss: nan - val_categorical_accuracy: 1.0000\n",
            "Epoch 24/100\n",
            "7/7 [==============================] - ETA: 0s - loss: nan - categorical_accuracy: 1.0000"
          ]
        },
        {
          "output_type": "stream",
          "name": "stderr",
          "text": [
            "WARNING:tensorflow:Early stopping conditioned on metric `val_accuracy` which is not available. Available metrics are: loss,categorical_accuracy,val_loss,val_categorical_accuracy\n"
          ]
        },
        {
          "output_type": "stream",
          "name": "stdout",
          "text": [
            "\b\b\b\b\b\b\b\b\b\b\b\b\b\b\b\b\b\b\b\b\b\b\b\b\b\b\b\b\b\b\b\b\b\b\b\b\b\b\b\b\b\b\b\b\b\b\b\b\b\b\b\b\b\b\b\b\b\b\b\b\b\b\b\b\b\b\b\b\b\b\b\b\b\b\b\b\b\b\b\b\b\b\b\b\b\b\b\b\b\r7/7 [==============================] - 2s 274ms/step - loss: nan - categorical_accuracy: 1.0000 - val_loss: nan - val_categorical_accuracy: 1.0000\n",
            "Epoch 25/100\n",
            "7/7 [==============================] - ETA: 0s - loss: nan - categorical_accuracy: 1.0000"
          ]
        },
        {
          "output_type": "stream",
          "name": "stderr",
          "text": [
            "WARNING:tensorflow:Early stopping conditioned on metric `val_accuracy` which is not available. Available metrics are: loss,categorical_accuracy,val_loss,val_categorical_accuracy\n"
          ]
        },
        {
          "output_type": "stream",
          "name": "stdout",
          "text": [
            "\b\b\b\b\b\b\b\b\b\b\b\b\b\b\b\b\b\b\b\b\b\b\b\b\b\b\b\b\b\b\b\b\b\b\b\b\b\b\b\b\b\b\b\b\b\b\b\b\b\b\b\b\b\b\b\b\b\b\b\b\b\b\b\b\b\b\b\b\b\b\b\b\b\b\b\b\b\b\b\b\b\b\b\b\b\b\b\b\b\r7/7 [==============================] - 2s 272ms/step - loss: nan - categorical_accuracy: 1.0000 - val_loss: nan - val_categorical_accuracy: 1.0000\n",
            "Epoch 26/100\n",
            "7/7 [==============================] - ETA: 0s - loss: nan - categorical_accuracy: 1.0000"
          ]
        },
        {
          "output_type": "stream",
          "name": "stderr",
          "text": [
            "WARNING:tensorflow:Early stopping conditioned on metric `val_accuracy` which is not available. Available metrics are: loss,categorical_accuracy,val_loss,val_categorical_accuracy\n"
          ]
        },
        {
          "output_type": "stream",
          "name": "stdout",
          "text": [
            "\b\b\b\b\b\b\b\b\b\b\b\b\b\b\b\b\b\b\b\b\b\b\b\b\b\b\b\b\b\b\b\b\b\b\b\b\b\b\b\b\b\b\b\b\b\b\b\b\b\b\b\b\b\b\b\b\b\b\b\b\b\b\b\b\b\b\b\b\b\b\b\b\b\b\b\b\b\b\b\b\b\b\b\b\b\b\b\b\b\r7/7 [==============================] - 2s 271ms/step - loss: nan - categorical_accuracy: 1.0000 - val_loss: nan - val_categorical_accuracy: 1.0000\n",
            "Epoch 27/100\n",
            "7/7 [==============================] - ETA: 0s - loss: nan - categorical_accuracy: 1.0000"
          ]
        },
        {
          "output_type": "stream",
          "name": "stderr",
          "text": [
            "WARNING:tensorflow:Early stopping conditioned on metric `val_accuracy` which is not available. Available metrics are: loss,categorical_accuracy,val_loss,val_categorical_accuracy\n"
          ]
        },
        {
          "output_type": "stream",
          "name": "stdout",
          "text": [
            "\b\b\b\b\b\b\b\b\b\b\b\b\b\b\b\b\b\b\b\b\b\b\b\b\b\b\b\b\b\b\b\b\b\b\b\b\b\b\b\b\b\b\b\b\b\b\b\b\b\b\b\b\b\b\b\b\b\b\b\b\b\b\b\b\b\b\b\b\b\b\b\b\b\b\b\b\b\b\b\b\b\b\b\b\b\b\b\b\b\r7/7 [==============================] - 2s 271ms/step - loss: nan - categorical_accuracy: 1.0000 - val_loss: nan - val_categorical_accuracy: 1.0000\n",
            "Epoch 28/100\n",
            "7/7 [==============================] - ETA: 0s - loss: nan - categorical_accuracy: 1.0000"
          ]
        },
        {
          "output_type": "stream",
          "name": "stderr",
          "text": [
            "WARNING:tensorflow:Early stopping conditioned on metric `val_accuracy` which is not available. Available metrics are: loss,categorical_accuracy,val_loss,val_categorical_accuracy\n"
          ]
        },
        {
          "output_type": "stream",
          "name": "stdout",
          "text": [
            "\b\b\b\b\b\b\b\b\b\b\b\b\b\b\b\b\b\b\b\b\b\b\b\b\b\b\b\b\b\b\b\b\b\b\b\b\b\b\b\b\b\b\b\b\b\b\b\b\b\b\b\b\b\b\b\b\b\b\b\b\b\b\b\b\b\b\b\b\b\b\b\b\b\b\b\b\b\b\b\b\b\b\b\b\b\b\b\b\b\r7/7 [==============================] - 2s 273ms/step - loss: nan - categorical_accuracy: 1.0000 - val_loss: nan - val_categorical_accuracy: 1.0000\n",
            "Epoch 29/100\n",
            "7/7 [==============================] - ETA: 0s - loss: nan - categorical_accuracy: 1.0000"
          ]
        },
        {
          "output_type": "stream",
          "name": "stderr",
          "text": [
            "WARNING:tensorflow:Early stopping conditioned on metric `val_accuracy` which is not available. Available metrics are: loss,categorical_accuracy,val_loss,val_categorical_accuracy\n"
          ]
        },
        {
          "output_type": "stream",
          "name": "stdout",
          "text": [
            "\b\b\b\b\b\b\b\b\b\b\b\b\b\b\b\b\b\b\b\b\b\b\b\b\b\b\b\b\b\b\b\b\b\b\b\b\b\b\b\b\b\b\b\b\b\b\b\b\b\b\b\b\b\b\b\b\b\b\b\b\b\b\b\b\b\b\b\b\b\b\b\b\b\b\b\b\b\b\b\b\b\b\b\b\b\b\b\b\b\r7/7 [==============================] - 2s 272ms/step - loss: nan - categorical_accuracy: 1.0000 - val_loss: nan - val_categorical_accuracy: 1.0000\n",
            "Epoch 30/100\n",
            "7/7 [==============================] - ETA: 0s - loss: nan - categorical_accuracy: 1.0000"
          ]
        },
        {
          "output_type": "stream",
          "name": "stderr",
          "text": [
            "WARNING:tensorflow:Early stopping conditioned on metric `val_accuracy` which is not available. Available metrics are: loss,categorical_accuracy,val_loss,val_categorical_accuracy\n"
          ]
        },
        {
          "output_type": "stream",
          "name": "stdout",
          "text": [
            "\b\b\b\b\b\b\b\b\b\b\b\b\b\b\b\b\b\b\b\b\b\b\b\b\b\b\b\b\b\b\b\b\b\b\b\b\b\b\b\b\b\b\b\b\b\b\b\b\b\b\b\b\b\b\b\b\b\b\b\b\b\b\b\b\b\b\b\b\b\b\b\b\b\b\b\b\b\b\b\b\b\b\b\b\b\b\b\b\b\r7/7 [==============================] - 2s 273ms/step - loss: nan - categorical_accuracy: 1.0000 - val_loss: nan - val_categorical_accuracy: 1.0000\n",
            "Epoch 31/100\n",
            "7/7 [==============================] - ETA: 0s - loss: nan - categorical_accuracy: 1.0000"
          ]
        },
        {
          "output_type": "stream",
          "name": "stderr",
          "text": [
            "WARNING:tensorflow:Early stopping conditioned on metric `val_accuracy` which is not available. Available metrics are: loss,categorical_accuracy,val_loss,val_categorical_accuracy\n"
          ]
        },
        {
          "output_type": "stream",
          "name": "stdout",
          "text": [
            "\b\b\b\b\b\b\b\b\b\b\b\b\b\b\b\b\b\b\b\b\b\b\b\b\b\b\b\b\b\b\b\b\b\b\b\b\b\b\b\b\b\b\b\b\b\b\b\b\b\b\b\b\b\b\b\b\b\b\b\b\b\b\b\b\b\b\b\b\b\b\b\b\b\b\b\b\b\b\b\b\b\b\b\b\b\b\b\b\b\r7/7 [==============================] - 2s 278ms/step - loss: nan - categorical_accuracy: 1.0000 - val_loss: nan - val_categorical_accuracy: 1.0000\n",
            "Epoch 32/100\n",
            "7/7 [==============================] - ETA: 0s - loss: nan - categorical_accuracy: 1.0000"
          ]
        },
        {
          "output_type": "stream",
          "name": "stderr",
          "text": [
            "WARNING:tensorflow:Early stopping conditioned on metric `val_accuracy` which is not available. Available metrics are: loss,categorical_accuracy,val_loss,val_categorical_accuracy\n"
          ]
        },
        {
          "output_type": "stream",
          "name": "stdout",
          "text": [
            "\b\b\b\b\b\b\b\b\b\b\b\b\b\b\b\b\b\b\b\b\b\b\b\b\b\b\b\b\b\b\b\b\b\b\b\b\b\b\b\b\b\b\b\b\b\b\b\b\b\b\b\b\b\b\b\b\b\b\b\b\b\b\b\b\b\b\b\b\b\b\b\b\b\b\b\b\b\b\b\b\b\b\b\b\b\b\b\b\b\r7/7 [==============================] - 2s 273ms/step - loss: nan - categorical_accuracy: 1.0000 - val_loss: nan - val_categorical_accuracy: 1.0000\n",
            "Epoch 33/100\n",
            "7/7 [==============================] - ETA: 0s - loss: nan - categorical_accuracy: 1.0000"
          ]
        },
        {
          "output_type": "stream",
          "name": "stderr",
          "text": [
            "WARNING:tensorflow:Early stopping conditioned on metric `val_accuracy` which is not available. Available metrics are: loss,categorical_accuracy,val_loss,val_categorical_accuracy\n"
          ]
        },
        {
          "output_type": "stream",
          "name": "stdout",
          "text": [
            "\b\b\b\b\b\b\b\b\b\b\b\b\b\b\b\b\b\b\b\b\b\b\b\b\b\b\b\b\b\b\b\b\b\b\b\b\b\b\b\b\b\b\b\b\b\b\b\b\b\b\b\b\b\b\b\b\b\b\b\b\b\b\b\b\b\b\b\b\b\b\b\b\b\b\b\b\b\b\b\b\b\b\b\b\b\b\b\b\b\r7/7 [==============================] - 2s 273ms/step - loss: nan - categorical_accuracy: 1.0000 - val_loss: nan - val_categorical_accuracy: 1.0000\n",
            "Epoch 34/100\n",
            "7/7 [==============================] - ETA: 0s - loss: nan - categorical_accuracy: 1.0000"
          ]
        },
        {
          "output_type": "stream",
          "name": "stderr",
          "text": [
            "WARNING:tensorflow:Early stopping conditioned on metric `val_accuracy` which is not available. Available metrics are: loss,categorical_accuracy,val_loss,val_categorical_accuracy\n"
          ]
        },
        {
          "output_type": "stream",
          "name": "stdout",
          "text": [
            "\b\b\b\b\b\b\b\b\b\b\b\b\b\b\b\b\b\b\b\b\b\b\b\b\b\b\b\b\b\b\b\b\b\b\b\b\b\b\b\b\b\b\b\b\b\b\b\b\b\b\b\b\b\b\b\b\b\b\b\b\b\b\b\b\b\b\b\b\b\b\b\b\b\b\b\b\b\b\b\b\b\b\b\b\b\b\b\b\b\r7/7 [==============================] - 2s 274ms/step - loss: nan - categorical_accuracy: 1.0000 - val_loss: nan - val_categorical_accuracy: 1.0000\n",
            "Epoch 35/100\n",
            "7/7 [==============================] - ETA: 0s - loss: nan - categorical_accuracy: 1.0000"
          ]
        },
        {
          "output_type": "stream",
          "name": "stderr",
          "text": [
            "WARNING:tensorflow:Early stopping conditioned on metric `val_accuracy` which is not available. Available metrics are: loss,categorical_accuracy,val_loss,val_categorical_accuracy\n"
          ]
        },
        {
          "output_type": "stream",
          "name": "stdout",
          "text": [
            "\b\b\b\b\b\b\b\b\b\b\b\b\b\b\b\b\b\b\b\b\b\b\b\b\b\b\b\b\b\b\b\b\b\b\b\b\b\b\b\b\b\b\b\b\b\b\b\b\b\b\b\b\b\b\b\b\b\b\b\b\b\b\b\b\b\b\b\b\b\b\b\b\b\b\b\b\b\b\b\b\b\b\b\b\b\b\b\b\b\r7/7 [==============================] - 2s 286ms/step - loss: nan - categorical_accuracy: 1.0000 - val_loss: nan - val_categorical_accuracy: 1.0000\n",
            "Epoch 36/100\n",
            "7/7 [==============================] - ETA: 0s - loss: nan - categorical_accuracy: 1.0000"
          ]
        },
        {
          "output_type": "stream",
          "name": "stderr",
          "text": [
            "WARNING:tensorflow:Early stopping conditioned on metric `val_accuracy` which is not available. Available metrics are: loss,categorical_accuracy,val_loss,val_categorical_accuracy\n"
          ]
        },
        {
          "output_type": "stream",
          "name": "stdout",
          "text": [
            "\b\b\b\b\b\b\b\b\b\b\b\b\b\b\b\b\b\b\b\b\b\b\b\b\b\b\b\b\b\b\b\b\b\b\b\b\b\b\b\b\b\b\b\b\b\b\b\b\b\b\b\b\b\b\b\b\b\b\b\b\b\b\b\b\b\b\b\b\b\b\b\b\b\b\b\b\b\b\b\b\b\b\b\b\b\b\b\b\b\r7/7 [==============================] - 2s 276ms/step - loss: nan - categorical_accuracy: 1.0000 - val_loss: nan - val_categorical_accuracy: 1.0000\n",
            "Epoch 37/100\n",
            "7/7 [==============================] - ETA: 0s - loss: nan - categorical_accuracy: 1.0000"
          ]
        },
        {
          "output_type": "stream",
          "name": "stderr",
          "text": [
            "WARNING:tensorflow:Early stopping conditioned on metric `val_accuracy` which is not available. Available metrics are: loss,categorical_accuracy,val_loss,val_categorical_accuracy\n"
          ]
        },
        {
          "output_type": "stream",
          "name": "stdout",
          "text": [
            "\b\b\b\b\b\b\b\b\b\b\b\b\b\b\b\b\b\b\b\b\b\b\b\b\b\b\b\b\b\b\b\b\b\b\b\b\b\b\b\b\b\b\b\b\b\b\b\b\b\b\b\b\b\b\b\b\b\b\b\b\b\b\b\b\b\b\b\b\b\b\b\b\b\b\b\b\b\b\b\b\b\b\b\b\b\b\b\b\b\r7/7 [==============================] - 2s 274ms/step - loss: nan - categorical_accuracy: 1.0000 - val_loss: nan - val_categorical_accuracy: 1.0000\n",
            "Epoch 38/100\n",
            "7/7 [==============================] - ETA: 0s - loss: nan - categorical_accuracy: 1.0000"
          ]
        },
        {
          "output_type": "stream",
          "name": "stderr",
          "text": [
            "WARNING:tensorflow:Early stopping conditioned on metric `val_accuracy` which is not available. Available metrics are: loss,categorical_accuracy,val_loss,val_categorical_accuracy\n"
          ]
        },
        {
          "output_type": "stream",
          "name": "stdout",
          "text": [
            "\b\b\b\b\b\b\b\b\b\b\b\b\b\b\b\b\b\b\b\b\b\b\b\b\b\b\b\b\b\b\b\b\b\b\b\b\b\b\b\b\b\b\b\b\b\b\b\b\b\b\b\b\b\b\b\b\b\b\b\b\b\b\b\b\b\b\b\b\b\b\b\b\b\b\b\b\b\b\b\b\b\b\b\b\b\b\b\b\b\r7/7 [==============================] - 2s 275ms/step - loss: nan - categorical_accuracy: 1.0000 - val_loss: nan - val_categorical_accuracy: 1.0000\n",
            "Epoch 39/100\n",
            "7/7 [==============================] - ETA: 0s - loss: nan - categorical_accuracy: 1.0000"
          ]
        },
        {
          "output_type": "stream",
          "name": "stderr",
          "text": [
            "WARNING:tensorflow:Early stopping conditioned on metric `val_accuracy` which is not available. Available metrics are: loss,categorical_accuracy,val_loss,val_categorical_accuracy\n"
          ]
        },
        {
          "output_type": "stream",
          "name": "stdout",
          "text": [
            "\b\b\b\b\b\b\b\b\b\b\b\b\b\b\b\b\b\b\b\b\b\b\b\b\b\b\b\b\b\b\b\b\b\b\b\b\b\b\b\b\b\b\b\b\b\b\b\b\b\b\b\b\b\b\b\b\b\b\b\b\b\b\b\b\b\b\b\b\b\b\b\b\b\b\b\b\b\b\b\b\b\b\b\b\b\b\b\b\b\r7/7 [==============================] - 2s 272ms/step - loss: nan - categorical_accuracy: 1.0000 - val_loss: nan - val_categorical_accuracy: 1.0000\n",
            "Epoch 40/100\n",
            "7/7 [==============================] - ETA: 0s - loss: nan - categorical_accuracy: 1.0000"
          ]
        },
        {
          "output_type": "stream",
          "name": "stderr",
          "text": [
            "WARNING:tensorflow:Early stopping conditioned on metric `val_accuracy` which is not available. Available metrics are: loss,categorical_accuracy,val_loss,val_categorical_accuracy\n"
          ]
        },
        {
          "output_type": "stream",
          "name": "stdout",
          "text": [
            "\b\b\b\b\b\b\b\b\b\b\b\b\b\b\b\b\b\b\b\b\b\b\b\b\b\b\b\b\b\b\b\b\b\b\b\b\b\b\b\b\b\b\b\b\b\b\b\b\b\b\b\b\b\b\b\b\b\b\b\b\b\b\b\b\b\b\b\b\b\b\b\b\b\b\b\b\b\b\b\b\b\b\b\b\b\b\b\b\b\r7/7 [==============================] - 2s 275ms/step - loss: nan - categorical_accuracy: 1.0000 - val_loss: nan - val_categorical_accuracy: 1.0000\n",
            "Epoch 41/100\n",
            "7/7 [==============================] - ETA: 0s - loss: nan - categorical_accuracy: 1.0000"
          ]
        },
        {
          "output_type": "stream",
          "name": "stderr",
          "text": [
            "WARNING:tensorflow:Early stopping conditioned on metric `val_accuracy` which is not available. Available metrics are: loss,categorical_accuracy,val_loss,val_categorical_accuracy\n"
          ]
        },
        {
          "output_type": "stream",
          "name": "stdout",
          "text": [
            "\b\b\b\b\b\b\b\b\b\b\b\b\b\b\b\b\b\b\b\b\b\b\b\b\b\b\b\b\b\b\b\b\b\b\b\b\b\b\b\b\b\b\b\b\b\b\b\b\b\b\b\b\b\b\b\b\b\b\b\b\b\b\b\b\b\b\b\b\b\b\b\b\b\b\b\b\b\b\b\b\b\b\b\b\b\b\b\b\b\r7/7 [==============================] - 2s 276ms/step - loss: nan - categorical_accuracy: 1.0000 - val_loss: nan - val_categorical_accuracy: 1.0000\n",
            "Epoch 42/100\n",
            "7/7 [==============================] - ETA: 0s - loss: nan - categorical_accuracy: 1.0000"
          ]
        },
        {
          "output_type": "stream",
          "name": "stderr",
          "text": [
            "WARNING:tensorflow:Early stopping conditioned on metric `val_accuracy` which is not available. Available metrics are: loss,categorical_accuracy,val_loss,val_categorical_accuracy\n"
          ]
        },
        {
          "output_type": "stream",
          "name": "stdout",
          "text": [
            "\b\b\b\b\b\b\b\b\b\b\b\b\b\b\b\b\b\b\b\b\b\b\b\b\b\b\b\b\b\b\b\b\b\b\b\b\b\b\b\b\b\b\b\b\b\b\b\b\b\b\b\b\b\b\b\b\b\b\b\b\b\b\b\b\b\b\b\b\b\b\b\b\b\b\b\b\b\b\b\b\b\b\b\b\b\b\b\b\b\r7/7 [==============================] - 2s 274ms/step - loss: nan - categorical_accuracy: 1.0000 - val_loss: nan - val_categorical_accuracy: 1.0000\n",
            "Epoch 43/100\n",
            "7/7 [==============================] - ETA: 0s - loss: nan - categorical_accuracy: 1.0000"
          ]
        },
        {
          "output_type": "stream",
          "name": "stderr",
          "text": [
            "WARNING:tensorflow:Early stopping conditioned on metric `val_accuracy` which is not available. Available metrics are: loss,categorical_accuracy,val_loss,val_categorical_accuracy\n"
          ]
        },
        {
          "output_type": "stream",
          "name": "stdout",
          "text": [
            "\b\b\b\b\b\b\b\b\b\b\b\b\b\b\b\b\b\b\b\b\b\b\b\b\b\b\b\b\b\b\b\b\b\b\b\b\b\b\b\b\b\b\b\b\b\b\b\b\b\b\b\b\b\b\b\b\b\b\b\b\b\b\b\b\b\b\b\b\b\b\b\b\b\b\b\b\b\b\b\b\b\b\b\b\b\b\b\b\b\r7/7 [==============================] - 2s 276ms/step - loss: nan - categorical_accuracy: 1.0000 - val_loss: nan - val_categorical_accuracy: 1.0000\n",
            "Epoch 44/100\n",
            "7/7 [==============================] - ETA: 0s - loss: nan - categorical_accuracy: 1.0000"
          ]
        },
        {
          "output_type": "stream",
          "name": "stderr",
          "text": [
            "WARNING:tensorflow:Early stopping conditioned on metric `val_accuracy` which is not available. Available metrics are: loss,categorical_accuracy,val_loss,val_categorical_accuracy\n"
          ]
        },
        {
          "output_type": "stream",
          "name": "stdout",
          "text": [
            "\b\b\b\b\b\b\b\b\b\b\b\b\b\b\b\b\b\b\b\b\b\b\b\b\b\b\b\b\b\b\b\b\b\b\b\b\b\b\b\b\b\b\b\b\b\b\b\b\b\b\b\b\b\b\b\b\b\b\b\b\b\b\b\b\b\b\b\b\b\b\b\b\b\b\b\b\b\b\b\b\b\b\b\b\b\b\b\b\b\r7/7 [==============================] - 2s 275ms/step - loss: nan - categorical_accuracy: 1.0000 - val_loss: nan - val_categorical_accuracy: 1.0000\n",
            "Epoch 45/100\n",
            "7/7 [==============================] - ETA: 0s - loss: nan - categorical_accuracy: 1.0000"
          ]
        },
        {
          "output_type": "stream",
          "name": "stderr",
          "text": [
            "WARNING:tensorflow:Early stopping conditioned on metric `val_accuracy` which is not available. Available metrics are: loss,categorical_accuracy,val_loss,val_categorical_accuracy\n"
          ]
        },
        {
          "output_type": "stream",
          "name": "stdout",
          "text": [
            "\b\b\b\b\b\b\b\b\b\b\b\b\b\b\b\b\b\b\b\b\b\b\b\b\b\b\b\b\b\b\b\b\b\b\b\b\b\b\b\b\b\b\b\b\b\b\b\b\b\b\b\b\b\b\b\b\b\b\b\b\b\b\b\b\b\b\b\b\b\b\b\b\b\b\b\b\b\b\b\b\b\b\b\b\b\b\b\b\b\r7/7 [==============================] - 2s 275ms/step - loss: nan - categorical_accuracy: 1.0000 - val_loss: nan - val_categorical_accuracy: 1.0000\n",
            "Epoch 46/100\n",
            "7/7 [==============================] - ETA: 0s - loss: nan - categorical_accuracy: 1.0000"
          ]
        },
        {
          "output_type": "stream",
          "name": "stderr",
          "text": [
            "WARNING:tensorflow:Early stopping conditioned on metric `val_accuracy` which is not available. Available metrics are: loss,categorical_accuracy,val_loss,val_categorical_accuracy\n"
          ]
        },
        {
          "output_type": "stream",
          "name": "stdout",
          "text": [
            "\b\b\b\b\b\b\b\b\b\b\b\b\b\b\b\b\b\b\b\b\b\b\b\b\b\b\b\b\b\b\b\b\b\b\b\b\b\b\b\b\b\b\b\b\b\b\b\b\b\b\b\b\b\b\b\b\b\b\b\b\b\b\b\b\b\b\b\b\b\b\b\b\b\b\b\b\b\b\b\b\b\b\b\b\b\b\b\b\b\r7/7 [==============================] - 2s 273ms/step - loss: nan - categorical_accuracy: 1.0000 - val_loss: nan - val_categorical_accuracy: 1.0000\n",
            "Epoch 47/100\n",
            "7/7 [==============================] - ETA: 0s - loss: nan - categorical_accuracy: 1.0000"
          ]
        },
        {
          "output_type": "stream",
          "name": "stderr",
          "text": [
            "WARNING:tensorflow:Early stopping conditioned on metric `val_accuracy` which is not available. Available metrics are: loss,categorical_accuracy,val_loss,val_categorical_accuracy\n"
          ]
        },
        {
          "output_type": "stream",
          "name": "stdout",
          "text": [
            "\b\b\b\b\b\b\b\b\b\b\b\b\b\b\b\b\b\b\b\b\b\b\b\b\b\b\b\b\b\b\b\b\b\b\b\b\b\b\b\b\b\b\b\b\b\b\b\b\b\b\b\b\b\b\b\b\b\b\b\b\b\b\b\b\b\b\b\b\b\b\b\b\b\b\b\b\b\b\b\b\b\b\b\b\b\b\b\b\b\r7/7 [==============================] - 2s 271ms/step - loss: nan - categorical_accuracy: 1.0000 - val_loss: nan - val_categorical_accuracy: 1.0000\n",
            "Epoch 48/100\n",
            "7/7 [==============================] - ETA: 0s - loss: nan - categorical_accuracy: 1.0000"
          ]
        },
        {
          "output_type": "stream",
          "name": "stderr",
          "text": [
            "WARNING:tensorflow:Early stopping conditioned on metric `val_accuracy` which is not available. Available metrics are: loss,categorical_accuracy,val_loss,val_categorical_accuracy\n"
          ]
        },
        {
          "output_type": "stream",
          "name": "stdout",
          "text": [
            "\b\b\b\b\b\b\b\b\b\b\b\b\b\b\b\b\b\b\b\b\b\b\b\b\b\b\b\b\b\b\b\b\b\b\b\b\b\b\b\b\b\b\b\b\b\b\b\b\b\b\b\b\b\b\b\b\b\b\b\b\b\b\b\b\b\b\b\b\b\b\b\b\b\b\b\b\b\b\b\b\b\b\b\b\b\b\b\b\b\r7/7 [==============================] - 2s 275ms/step - loss: nan - categorical_accuracy: 1.0000 - val_loss: nan - val_categorical_accuracy: 1.0000\n",
            "Epoch 49/100\n",
            "7/7 [==============================] - ETA: 0s - loss: nan - categorical_accuracy: 1.0000"
          ]
        },
        {
          "output_type": "stream",
          "name": "stderr",
          "text": [
            "WARNING:tensorflow:Early stopping conditioned on metric `val_accuracy` which is not available. Available metrics are: loss,categorical_accuracy,val_loss,val_categorical_accuracy\n"
          ]
        },
        {
          "output_type": "stream",
          "name": "stdout",
          "text": [
            "\b\b\b\b\b\b\b\b\b\b\b\b\b\b\b\b\b\b\b\b\b\b\b\b\b\b\b\b\b\b\b\b\b\b\b\b\b\b\b\b\b\b\b\b\b\b\b\b\b\b\b\b\b\b\b\b\b\b\b\b\b\b\b\b\b\b\b\b\b\b\b\b\b\b\b\b\b\b\b\b\b\b\b\b\b\b\b\b\b\r7/7 [==============================] - 2s 274ms/step - loss: nan - categorical_accuracy: 1.0000 - val_loss: nan - val_categorical_accuracy: 1.0000\n",
            "Epoch 50/100\n",
            "7/7 [==============================] - ETA: 0s - loss: nan - categorical_accuracy: 1.0000"
          ]
        },
        {
          "output_type": "stream",
          "name": "stderr",
          "text": [
            "WARNING:tensorflow:Early stopping conditioned on metric `val_accuracy` which is not available. Available metrics are: loss,categorical_accuracy,val_loss,val_categorical_accuracy\n"
          ]
        },
        {
          "output_type": "stream",
          "name": "stdout",
          "text": [
            "\b\b\b\b\b\b\b\b\b\b\b\b\b\b\b\b\b\b\b\b\b\b\b\b\b\b\b\b\b\b\b\b\b\b\b\b\b\b\b\b\b\b\b\b\b\b\b\b\b\b\b\b\b\b\b\b\b\b\b\b\b\b\b\b\b\b\b\b\b\b\b\b\b\b\b\b\b\b\b\b\b\b\b\b\b\b\b\b\b\r7/7 [==============================] - 2s 277ms/step - loss: nan - categorical_accuracy: 1.0000 - val_loss: nan - val_categorical_accuracy: 1.0000\n",
            "Epoch 51/100\n",
            "7/7 [==============================] - ETA: 0s - loss: nan - categorical_accuracy: 1.0000"
          ]
        },
        {
          "output_type": "stream",
          "name": "stderr",
          "text": [
            "WARNING:tensorflow:Early stopping conditioned on metric `val_accuracy` which is not available. Available metrics are: loss,categorical_accuracy,val_loss,val_categorical_accuracy\n"
          ]
        },
        {
          "output_type": "stream",
          "name": "stdout",
          "text": [
            "\b\b\b\b\b\b\b\b\b\b\b\b\b\b\b\b\b\b\b\b\b\b\b\b\b\b\b\b\b\b\b\b\b\b\b\b\b\b\b\b\b\b\b\b\b\b\b\b\b\b\b\b\b\b\b\b\b\b\b\b\b\b\b\b\b\b\b\b\b\b\b\b\b\b\b\b\b\b\b\b\b\b\b\b\b\b\b\b\b\r7/7 [==============================] - 2s 282ms/step - loss: nan - categorical_accuracy: 1.0000 - val_loss: nan - val_categorical_accuracy: 1.0000\n",
            "Epoch 52/100\n",
            "7/7 [==============================] - ETA: 0s - loss: nan - categorical_accuracy: 1.0000"
          ]
        },
        {
          "output_type": "stream",
          "name": "stderr",
          "text": [
            "WARNING:tensorflow:Early stopping conditioned on metric `val_accuracy` which is not available. Available metrics are: loss,categorical_accuracy,val_loss,val_categorical_accuracy\n"
          ]
        },
        {
          "output_type": "stream",
          "name": "stdout",
          "text": [
            "\b\b\b\b\b\b\b\b\b\b\b\b\b\b\b\b\b\b\b\b\b\b\b\b\b\b\b\b\b\b\b\b\b\b\b\b\b\b\b\b\b\b\b\b\b\b\b\b\b\b\b\b\b\b\b\b\b\b\b\b\b\b\b\b\b\b\b\b\b\b\b\b\b\b\b\b\b\b\b\b\b\b\b\b\b\b\b\b\b\r7/7 [==============================] - 2s 281ms/step - loss: nan - categorical_accuracy: 1.0000 - val_loss: nan - val_categorical_accuracy: 1.0000\n",
            "Epoch 53/100\n",
            "7/7 [==============================] - ETA: 0s - loss: nan - categorical_accuracy: 1.0000"
          ]
        },
        {
          "output_type": "stream",
          "name": "stderr",
          "text": [
            "WARNING:tensorflow:Early stopping conditioned on metric `val_accuracy` which is not available. Available metrics are: loss,categorical_accuracy,val_loss,val_categorical_accuracy\n"
          ]
        },
        {
          "output_type": "stream",
          "name": "stdout",
          "text": [
            "\b\b\b\b\b\b\b\b\b\b\b\b\b\b\b\b\b\b\b\b\b\b\b\b\b\b\b\b\b\b\b\b\b\b\b\b\b\b\b\b\b\b\b\b\b\b\b\b\b\b\b\b\b\b\b\b\b\b\b\b\b\b\b\b\b\b\b\b\b\b\b\b\b\b\b\b\b\b\b\b\b\b\b\b\b\b\b\b\b\r7/7 [==============================] - 3s 475ms/step - loss: nan - categorical_accuracy: 1.0000 - val_loss: nan - val_categorical_accuracy: 1.0000\n",
            "Epoch 54/100\n",
            "7/7 [==============================] - ETA: 0s - loss: nan - categorical_accuracy: 1.0000"
          ]
        },
        {
          "output_type": "stream",
          "name": "stderr",
          "text": [
            "WARNING:tensorflow:Early stopping conditioned on metric `val_accuracy` which is not available. Available metrics are: loss,categorical_accuracy,val_loss,val_categorical_accuracy\n"
          ]
        },
        {
          "output_type": "stream",
          "name": "stdout",
          "text": [
            "\b\b\b\b\b\b\b\b\b\b\b\b\b\b\b\b\b\b\b\b\b\b\b\b\b\b\b\b\b\b\b\b\b\b\b\b\b\b\b\b\b\b\b\b\b\b\b\b\b\b\b\b\b\b\b\b\b\b\b\b\b\b\b\b\b\b\b\b\b\b\b\b\b\b\b\b\b\b\b\b\b\b\b\b\b\b\b\b\b\r7/7 [==============================] - 2s 279ms/step - loss: nan - categorical_accuracy: 1.0000 - val_loss: nan - val_categorical_accuracy: 1.0000\n",
            "Epoch 55/100\n",
            "7/7 [==============================] - ETA: 0s - loss: nan - categorical_accuracy: 1.0000"
          ]
        },
        {
          "output_type": "stream",
          "name": "stderr",
          "text": [
            "WARNING:tensorflow:Early stopping conditioned on metric `val_accuracy` which is not available. Available metrics are: loss,categorical_accuracy,val_loss,val_categorical_accuracy\n"
          ]
        },
        {
          "output_type": "stream",
          "name": "stdout",
          "text": [
            "\b\b\b\b\b\b\b\b\b\b\b\b\b\b\b\b\b\b\b\b\b\b\b\b\b\b\b\b\b\b\b\b\b\b\b\b\b\b\b\b\b\b\b\b\b\b\b\b\b\b\b\b\b\b\b\b\b\b\b\b\b\b\b\b\b\b\b\b\b\b\b\b\b\b\b\b\b\b\b\b\b\b\b\b\b\b\b\b\b\r7/7 [==============================] - 2s 278ms/step - loss: nan - categorical_accuracy: 1.0000 - val_loss: nan - val_categorical_accuracy: 1.0000\n",
            "Epoch 56/100\n",
            "7/7 [==============================] - ETA: 0s - loss: nan - categorical_accuracy: 1.0000"
          ]
        },
        {
          "output_type": "stream",
          "name": "stderr",
          "text": [
            "WARNING:tensorflow:Early stopping conditioned on metric `val_accuracy` which is not available. Available metrics are: loss,categorical_accuracy,val_loss,val_categorical_accuracy\n"
          ]
        },
        {
          "output_type": "stream",
          "name": "stdout",
          "text": [
            "\b\b\b\b\b\b\b\b\b\b\b\b\b\b\b\b\b\b\b\b\b\b\b\b\b\b\b\b\b\b\b\b\b\b\b\b\b\b\b\b\b\b\b\b\b\b\b\b\b\b\b\b\b\b\b\b\b\b\b\b\b\b\b\b\b\b\b\b\b\b\b\b\b\b\b\b\b\b\b\b\b\b\b\b\b\b\b\b\b\r7/7 [==============================] - 2s 283ms/step - loss: nan - categorical_accuracy: 1.0000 - val_loss: nan - val_categorical_accuracy: 1.0000\n",
            "Epoch 57/100\n",
            "7/7 [==============================] - ETA: 0s - loss: nan - categorical_accuracy: 1.0000"
          ]
        },
        {
          "output_type": "stream",
          "name": "stderr",
          "text": [
            "WARNING:tensorflow:Early stopping conditioned on metric `val_accuracy` which is not available. Available metrics are: loss,categorical_accuracy,val_loss,val_categorical_accuracy\n"
          ]
        },
        {
          "output_type": "stream",
          "name": "stdout",
          "text": [
            "\b\b\b\b\b\b\b\b\b\b\b\b\b\b\b\b\b\b\b\b\b\b\b\b\b\b\b\b\b\b\b\b\b\b\b\b\b\b\b\b\b\b\b\b\b\b\b\b\b\b\b\b\b\b\b\b\b\b\b\b\b\b\b\b\b\b\b\b\b\b\b\b\b\b\b\b\b\b\b\b\b\b\b\b\b\b\b\b\b\r7/7 [==============================] - 2s 352ms/step - loss: nan - categorical_accuracy: 1.0000 - val_loss: nan - val_categorical_accuracy: 1.0000\n",
            "Epoch 58/100\n",
            "7/7 [==============================] - ETA: 0s - loss: nan - categorical_accuracy: 1.0000"
          ]
        },
        {
          "output_type": "stream",
          "name": "stderr",
          "text": [
            "WARNING:tensorflow:Early stopping conditioned on metric `val_accuracy` which is not available. Available metrics are: loss,categorical_accuracy,val_loss,val_categorical_accuracy\n"
          ]
        },
        {
          "output_type": "stream",
          "name": "stdout",
          "text": [
            "\b\b\b\b\b\b\b\b\b\b\b\b\b\b\b\b\b\b\b\b\b\b\b\b\b\b\b\b\b\b\b\b\b\b\b\b\b\b\b\b\b\b\b\b\b\b\b\b\b\b\b\b\b\b\b\b\b\b\b\b\b\b\b\b\b\b\b\b\b\b\b\b\b\b\b\b\b\b\b\b\b\b\b\b\b\b\b\b\b\r7/7 [==============================] - 2s 277ms/step - loss: nan - categorical_accuracy: 1.0000 - val_loss: nan - val_categorical_accuracy: 1.0000\n",
            "Epoch 59/100\n",
            "7/7 [==============================] - ETA: 0s - loss: nan - categorical_accuracy: 1.0000"
          ]
        },
        {
          "output_type": "stream",
          "name": "stderr",
          "text": [
            "WARNING:tensorflow:Early stopping conditioned on metric `val_accuracy` which is not available. Available metrics are: loss,categorical_accuracy,val_loss,val_categorical_accuracy\n"
          ]
        },
        {
          "output_type": "stream",
          "name": "stdout",
          "text": [
            "\b\b\b\b\b\b\b\b\b\b\b\b\b\b\b\b\b\b\b\b\b\b\b\b\b\b\b\b\b\b\b\b\b\b\b\b\b\b\b\b\b\b\b\b\b\b\b\b\b\b\b\b\b\b\b\b\b\b\b\b\b\b\b\b\b\b\b\b\b\b\b\b\b\b\b\b\b\b\b\b\b\b\b\b\b\b\b\b\b\r7/7 [==============================] - 2s 277ms/step - loss: nan - categorical_accuracy: 1.0000 - val_loss: nan - val_categorical_accuracy: 1.0000\n",
            "Epoch 60/100\n",
            "7/7 [==============================] - ETA: 0s - loss: nan - categorical_accuracy: 1.0000"
          ]
        },
        {
          "output_type": "stream",
          "name": "stderr",
          "text": [
            "WARNING:tensorflow:Early stopping conditioned on metric `val_accuracy` which is not available. Available metrics are: loss,categorical_accuracy,val_loss,val_categorical_accuracy\n"
          ]
        },
        {
          "output_type": "stream",
          "name": "stdout",
          "text": [
            "\b\b\b\b\b\b\b\b\b\b\b\b\b\b\b\b\b\b\b\b\b\b\b\b\b\b\b\b\b\b\b\b\b\b\b\b\b\b\b\b\b\b\b\b\b\b\b\b\b\b\b\b\b\b\b\b\b\b\b\b\b\b\b\b\b\b\b\b\b\b\b\b\b\b\b\b\b\b\b\b\b\b\b\b\b\b\b\b\b\r7/7 [==============================] - 2s 276ms/step - loss: nan - categorical_accuracy: 1.0000 - val_loss: nan - val_categorical_accuracy: 1.0000\n",
            "Epoch 61/100\n",
            "7/7 [==============================] - ETA: 0s - loss: nan - categorical_accuracy: 1.0000"
          ]
        },
        {
          "output_type": "stream",
          "name": "stderr",
          "text": [
            "WARNING:tensorflow:Early stopping conditioned on metric `val_accuracy` which is not available. Available metrics are: loss,categorical_accuracy,val_loss,val_categorical_accuracy\n"
          ]
        },
        {
          "output_type": "stream",
          "name": "stdout",
          "text": [
            "\b\b\b\b\b\b\b\b\b\b\b\b\b\b\b\b\b\b\b\b\b\b\b\b\b\b\b\b\b\b\b\b\b\b\b\b\b\b\b\b\b\b\b\b\b\b\b\b\b\b\b\b\b\b\b\b\b\b\b\b\b\b\b\b\b\b\b\b\b\b\b\b\b\b\b\b\b\b\b\b\b\b\b\b\b\b\b\b\b\r7/7 [==============================] - 2s 273ms/step - loss: nan - categorical_accuracy: 1.0000 - val_loss: nan - val_categorical_accuracy: 1.0000\n",
            "Epoch 62/100\n",
            "7/7 [==============================] - ETA: 0s - loss: nan - categorical_accuracy: 1.0000"
          ]
        },
        {
          "output_type": "stream",
          "name": "stderr",
          "text": [
            "WARNING:tensorflow:Early stopping conditioned on metric `val_accuracy` which is not available. Available metrics are: loss,categorical_accuracy,val_loss,val_categorical_accuracy\n"
          ]
        },
        {
          "output_type": "stream",
          "name": "stdout",
          "text": [
            "\b\b\b\b\b\b\b\b\b\b\b\b\b\b\b\b\b\b\b\b\b\b\b\b\b\b\b\b\b\b\b\b\b\b\b\b\b\b\b\b\b\b\b\b\b\b\b\b\b\b\b\b\b\b\b\b\b\b\b\b\b\b\b\b\b\b\b\b\b\b\b\b\b\b\b\b\b\b\b\b\b\b\b\b\b\b\b\b\b\r7/7 [==============================] - 2s 280ms/step - loss: nan - categorical_accuracy: 1.0000 - val_loss: nan - val_categorical_accuracy: 1.0000\n",
            "Epoch 63/100\n",
            "7/7 [==============================] - ETA: 0s - loss: nan - categorical_accuracy: 1.0000"
          ]
        },
        {
          "output_type": "stream",
          "name": "stderr",
          "text": [
            "WARNING:tensorflow:Early stopping conditioned on metric `val_accuracy` which is not available. Available metrics are: loss,categorical_accuracy,val_loss,val_categorical_accuracy\n"
          ]
        },
        {
          "output_type": "stream",
          "name": "stdout",
          "text": [
            "\b\b\b\b\b\b\b\b\b\b\b\b\b\b\b\b\b\b\b\b\b\b\b\b\b\b\b\b\b\b\b\b\b\b\b\b\b\b\b\b\b\b\b\b\b\b\b\b\b\b\b\b\b\b\b\b\b\b\b\b\b\b\b\b\b\b\b\b\b\b\b\b\b\b\b\b\b\b\b\b\b\b\b\b\b\b\b\b\b\r7/7 [==============================] - 3s 465ms/step - loss: nan - categorical_accuracy: 1.0000 - val_loss: nan - val_categorical_accuracy: 1.0000\n",
            "Epoch 64/100\n",
            "7/7 [==============================] - ETA: 0s - loss: nan - categorical_accuracy: 1.0000"
          ]
        },
        {
          "output_type": "stream",
          "name": "stderr",
          "text": [
            "WARNING:tensorflow:Early stopping conditioned on metric `val_accuracy` which is not available. Available metrics are: loss,categorical_accuracy,val_loss,val_categorical_accuracy\n"
          ]
        },
        {
          "output_type": "stream",
          "name": "stdout",
          "text": [
            "\b\b\b\b\b\b\b\b\b\b\b\b\b\b\b\b\b\b\b\b\b\b\b\b\b\b\b\b\b\b\b\b\b\b\b\b\b\b\b\b\b\b\b\b\b\b\b\b\b\b\b\b\b\b\b\b\b\b\b\b\b\b\b\b\b\b\b\b\b\b\b\b\b\b\b\b\b\b\b\b\b\b\b\b\b\b\b\b\b\r7/7 [==============================] - 2s 279ms/step - loss: nan - categorical_accuracy: 1.0000 - val_loss: nan - val_categorical_accuracy: 1.0000\n",
            "Epoch 65/100\n",
            "7/7 [==============================] - ETA: 0s - loss: nan - categorical_accuracy: 1.0000"
          ]
        },
        {
          "output_type": "stream",
          "name": "stderr",
          "text": [
            "WARNING:tensorflow:Early stopping conditioned on metric `val_accuracy` which is not available. Available metrics are: loss,categorical_accuracy,val_loss,val_categorical_accuracy\n"
          ]
        },
        {
          "output_type": "stream",
          "name": "stdout",
          "text": [
            "\b\b\b\b\b\b\b\b\b\b\b\b\b\b\b\b\b\b\b\b\b\b\b\b\b\b\b\b\b\b\b\b\b\b\b\b\b\b\b\b\b\b\b\b\b\b\b\b\b\b\b\b\b\b\b\b\b\b\b\b\b\b\b\b\b\b\b\b\b\b\b\b\b\b\b\b\b\b\b\b\b\b\b\b\b\b\b\b\b\r7/7 [==============================] - 2s 284ms/step - loss: nan - categorical_accuracy: 1.0000 - val_loss: nan - val_categorical_accuracy: 1.0000\n",
            "Epoch 66/100\n",
            "7/7 [==============================] - ETA: 0s - loss: nan - categorical_accuracy: 1.0000"
          ]
        },
        {
          "output_type": "stream",
          "name": "stderr",
          "text": [
            "WARNING:tensorflow:Early stopping conditioned on metric `val_accuracy` which is not available. Available metrics are: loss,categorical_accuracy,val_loss,val_categorical_accuracy\n"
          ]
        },
        {
          "output_type": "stream",
          "name": "stdout",
          "text": [
            "\b\b\b\b\b\b\b\b\b\b\b\b\b\b\b\b\b\b\b\b\b\b\b\b\b\b\b\b\b\b\b\b\b\b\b\b\b\b\b\b\b\b\b\b\b\b\b\b\b\b\b\b\b\b\b\b\b\b\b\b\b\b\b\b\b\b\b\b\b\b\b\b\b\b\b\b\b\b\b\b\b\b\b\b\b\b\b\b\b\r7/7 [==============================] - 2s 281ms/step - loss: nan - categorical_accuracy: 1.0000 - val_loss: nan - val_categorical_accuracy: 1.0000\n",
            "Epoch 67/100\n",
            "7/7 [==============================] - ETA: 0s - loss: nan - categorical_accuracy: 1.0000"
          ]
        },
        {
          "output_type": "stream",
          "name": "stderr",
          "text": [
            "WARNING:tensorflow:Early stopping conditioned on metric `val_accuracy` which is not available. Available metrics are: loss,categorical_accuracy,val_loss,val_categorical_accuracy\n"
          ]
        },
        {
          "output_type": "stream",
          "name": "stdout",
          "text": [
            "\b\b\b\b\b\b\b\b\b\b\b\b\b\b\b\b\b\b\b\b\b\b\b\b\b\b\b\b\b\b\b\b\b\b\b\b\b\b\b\b\b\b\b\b\b\b\b\b\b\b\b\b\b\b\b\b\b\b\b\b\b\b\b\b\b\b\b\b\b\b\b\b\b\b\b\b\b\b\b\b\b\b\b\b\b\b\b\b\b\r7/7 [==============================] - 2s 275ms/step - loss: nan - categorical_accuracy: 1.0000 - val_loss: nan - val_categorical_accuracy: 1.0000\n",
            "Epoch 68/100\n",
            "7/7 [==============================] - ETA: 0s - loss: nan - categorical_accuracy: 1.0000"
          ]
        },
        {
          "output_type": "stream",
          "name": "stderr",
          "text": [
            "WARNING:tensorflow:Early stopping conditioned on metric `val_accuracy` which is not available. Available metrics are: loss,categorical_accuracy,val_loss,val_categorical_accuracy\n"
          ]
        },
        {
          "output_type": "stream",
          "name": "stdout",
          "text": [
            "\b\b\b\b\b\b\b\b\b\b\b\b\b\b\b\b\b\b\b\b\b\b\b\b\b\b\b\b\b\b\b\b\b\b\b\b\b\b\b\b\b\b\b\b\b\b\b\b\b\b\b\b\b\b\b\b\b\b\b\b\b\b\b\b\b\b\b\b\b\b\b\b\b\b\b\b\b\b\b\b\b\b\b\b\b\b\b\b\b\r7/7 [==============================] - 2s 274ms/step - loss: nan - categorical_accuracy: 1.0000 - val_loss: nan - val_categorical_accuracy: 1.0000\n",
            "Epoch 69/100\n",
            "7/7 [==============================] - ETA: 0s - loss: nan - categorical_accuracy: 1.0000"
          ]
        },
        {
          "output_type": "stream",
          "name": "stderr",
          "text": [
            "WARNING:tensorflow:Early stopping conditioned on metric `val_accuracy` which is not available. Available metrics are: loss,categorical_accuracy,val_loss,val_categorical_accuracy\n"
          ]
        },
        {
          "output_type": "stream",
          "name": "stdout",
          "text": [
            "\b\b\b\b\b\b\b\b\b\b\b\b\b\b\b\b\b\b\b\b\b\b\b\b\b\b\b\b\b\b\b\b\b\b\b\b\b\b\b\b\b\b\b\b\b\b\b\b\b\b\b\b\b\b\b\b\b\b\b\b\b\b\b\b\b\b\b\b\b\b\b\b\b\b\b\b\b\b\b\b\b\b\b\b\b\b\b\b\b\r7/7 [==============================] - 2s 276ms/step - loss: nan - categorical_accuracy: 1.0000 - val_loss: nan - val_categorical_accuracy: 1.0000\n",
            "Epoch 70/100\n",
            "7/7 [==============================] - ETA: 0s - loss: nan - categorical_accuracy: 1.0000"
          ]
        },
        {
          "output_type": "stream",
          "name": "stderr",
          "text": [
            "WARNING:tensorflow:Early stopping conditioned on metric `val_accuracy` which is not available. Available metrics are: loss,categorical_accuracy,val_loss,val_categorical_accuracy\n"
          ]
        },
        {
          "output_type": "stream",
          "name": "stdout",
          "text": [
            "\b\b\b\b\b\b\b\b\b\b\b\b\b\b\b\b\b\b\b\b\b\b\b\b\b\b\b\b\b\b\b\b\b\b\b\b\b\b\b\b\b\b\b\b\b\b\b\b\b\b\b\b\b\b\b\b\b\b\b\b\b\b\b\b\b\b\b\b\b\b\b\b\b\b\b\b\b\b\b\b\b\b\b\b\b\b\b\b\b\r7/7 [==============================] - 2s 275ms/step - loss: nan - categorical_accuracy: 1.0000 - val_loss: nan - val_categorical_accuracy: 1.0000\n",
            "Epoch 71/100\n",
            "7/7 [==============================] - ETA: 0s - loss: nan - categorical_accuracy: 1.0000"
          ]
        },
        {
          "output_type": "stream",
          "name": "stderr",
          "text": [
            "WARNING:tensorflow:Early stopping conditioned on metric `val_accuracy` which is not available. Available metrics are: loss,categorical_accuracy,val_loss,val_categorical_accuracy\n"
          ]
        },
        {
          "output_type": "stream",
          "name": "stdout",
          "text": [
            "\b\b\b\b\b\b\b\b\b\b\b\b\b\b\b\b\b\b\b\b\b\b\b\b\b\b\b\b\b\b\b\b\b\b\b\b\b\b\b\b\b\b\b\b\b\b\b\b\b\b\b\b\b\b\b\b\b\b\b\b\b\b\b\b\b\b\b\b\b\b\b\b\b\b\b\b\b\b\b\b\b\b\b\b\b\b\b\b\b\r7/7 [==============================] - 2s 278ms/step - loss: nan - categorical_accuracy: 1.0000 - val_loss: nan - val_categorical_accuracy: 1.0000\n",
            "Epoch 72/100\n",
            "7/7 [==============================] - ETA: 0s - loss: nan - categorical_accuracy: 1.0000"
          ]
        },
        {
          "output_type": "stream",
          "name": "stderr",
          "text": [
            "WARNING:tensorflow:Early stopping conditioned on metric `val_accuracy` which is not available. Available metrics are: loss,categorical_accuracy,val_loss,val_categorical_accuracy\n"
          ]
        },
        {
          "output_type": "stream",
          "name": "stdout",
          "text": [
            "\b\b\b\b\b\b\b\b\b\b\b\b\b\b\b\b\b\b\b\b\b\b\b\b\b\b\b\b\b\b\b\b\b\b\b\b\b\b\b\b\b\b\b\b\b\b\b\b\b\b\b\b\b\b\b\b\b\b\b\b\b\b\b\b\b\b\b\b\b\b\b\b\b\b\b\b\b\b\b\b\b\b\b\b\b\b\b\b\b\r7/7 [==============================] - 2s 278ms/step - loss: nan - categorical_accuracy: 1.0000 - val_loss: nan - val_categorical_accuracy: 1.0000\n",
            "Epoch 73/100\n",
            "7/7 [==============================] - ETA: 0s - loss: nan - categorical_accuracy: 1.0000"
          ]
        },
        {
          "output_type": "stream",
          "name": "stderr",
          "text": [
            "WARNING:tensorflow:Early stopping conditioned on metric `val_accuracy` which is not available. Available metrics are: loss,categorical_accuracy,val_loss,val_categorical_accuracy\n"
          ]
        },
        {
          "output_type": "stream",
          "name": "stdout",
          "text": [
            "\b\b\b\b\b\b\b\b\b\b\b\b\b\b\b\b\b\b\b\b\b\b\b\b\b\b\b\b\b\b\b\b\b\b\b\b\b\b\b\b\b\b\b\b\b\b\b\b\b\b\b\b\b\b\b\b\b\b\b\b\b\b\b\b\b\b\b\b\b\b\b\b\b\b\b\b\b\b\b\b\b\b\b\b\b\b\b\b\b\r7/7 [==============================] - 2s 274ms/step - loss: nan - categorical_accuracy: 1.0000 - val_loss: nan - val_categorical_accuracy: 1.0000\n",
            "Epoch 74/100\n",
            "7/7 [==============================] - ETA: 0s - loss: nan - categorical_accuracy: 1.0000"
          ]
        },
        {
          "output_type": "stream",
          "name": "stderr",
          "text": [
            "WARNING:tensorflow:Early stopping conditioned on metric `val_accuracy` which is not available. Available metrics are: loss,categorical_accuracy,val_loss,val_categorical_accuracy\n"
          ]
        },
        {
          "output_type": "stream",
          "name": "stdout",
          "text": [
            "\b\b\b\b\b\b\b\b\b\b\b\b\b\b\b\b\b\b\b\b\b\b\b\b\b\b\b\b\b\b\b\b\b\b\b\b\b\b\b\b\b\b\b\b\b\b\b\b\b\b\b\b\b\b\b\b\b\b\b\b\b\b\b\b\b\b\b\b\b\b\b\b\b\b\b\b\b\b\b\b\b\b\b\b\b\b\b\b\b\r7/7 [==============================] - 2s 277ms/step - loss: nan - categorical_accuracy: 1.0000 - val_loss: nan - val_categorical_accuracy: 1.0000\n",
            "Epoch 75/100\n",
            "7/7 [==============================] - ETA: 0s - loss: nan - categorical_accuracy: 1.0000"
          ]
        },
        {
          "output_type": "stream",
          "name": "stderr",
          "text": [
            "WARNING:tensorflow:Early stopping conditioned on metric `val_accuracy` which is not available. Available metrics are: loss,categorical_accuracy,val_loss,val_categorical_accuracy\n"
          ]
        },
        {
          "output_type": "stream",
          "name": "stdout",
          "text": [
            "\b\b\b\b\b\b\b\b\b\b\b\b\b\b\b\b\b\b\b\b\b\b\b\b\b\b\b\b\b\b\b\b\b\b\b\b\b\b\b\b\b\b\b\b\b\b\b\b\b\b\b\b\b\b\b\b\b\b\b\b\b\b\b\b\b\b\b\b\b\b\b\b\b\b\b\b\b\b\b\b\b\b\b\b\b\b\b\b\b\r7/7 [==============================] - 2s 278ms/step - loss: nan - categorical_accuracy: 1.0000 - val_loss: nan - val_categorical_accuracy: 1.0000\n",
            "Epoch 76/100\n",
            "7/7 [==============================] - ETA: 0s - loss: nan - categorical_accuracy: 1.0000"
          ]
        },
        {
          "output_type": "stream",
          "name": "stderr",
          "text": [
            "WARNING:tensorflow:Early stopping conditioned on metric `val_accuracy` which is not available. Available metrics are: loss,categorical_accuracy,val_loss,val_categorical_accuracy\n"
          ]
        },
        {
          "output_type": "stream",
          "name": "stdout",
          "text": [
            "\b\b\b\b\b\b\b\b\b\b\b\b\b\b\b\b\b\b\b\b\b\b\b\b\b\b\b\b\b\b\b\b\b\b\b\b\b\b\b\b\b\b\b\b\b\b\b\b\b\b\b\b\b\b\b\b\b\b\b\b\b\b\b\b\b\b\b\b\b\b\b\b\b\b\b\b\b\b\b\b\b\b\b\b\b\b\b\b\b\r7/7 [==============================] - 2s 276ms/step - loss: nan - categorical_accuracy: 1.0000 - val_loss: nan - val_categorical_accuracy: 1.0000\n",
            "Epoch 77/100\n",
            "7/7 [==============================] - ETA: 0s - loss: nan - categorical_accuracy: 1.0000"
          ]
        },
        {
          "output_type": "stream",
          "name": "stderr",
          "text": [
            "WARNING:tensorflow:Early stopping conditioned on metric `val_accuracy` which is not available. Available metrics are: loss,categorical_accuracy,val_loss,val_categorical_accuracy\n"
          ]
        },
        {
          "output_type": "stream",
          "name": "stdout",
          "text": [
            "\b\b\b\b\b\b\b\b\b\b\b\b\b\b\b\b\b\b\b\b\b\b\b\b\b\b\b\b\b\b\b\b\b\b\b\b\b\b\b\b\b\b\b\b\b\b\b\b\b\b\b\b\b\b\b\b\b\b\b\b\b\b\b\b\b\b\b\b\b\b\b\b\b\b\b\b\b\b\b\b\b\b\b\b\b\b\b\b\b\r7/7 [==============================] - 2s 279ms/step - loss: nan - categorical_accuracy: 1.0000 - val_loss: nan - val_categorical_accuracy: 1.0000\n",
            "Epoch 78/100\n",
            "7/7 [==============================] - ETA: 0s - loss: nan - categorical_accuracy: 1.0000"
          ]
        },
        {
          "output_type": "stream",
          "name": "stderr",
          "text": [
            "WARNING:tensorflow:Early stopping conditioned on metric `val_accuracy` which is not available. Available metrics are: loss,categorical_accuracy,val_loss,val_categorical_accuracy\n"
          ]
        },
        {
          "output_type": "stream",
          "name": "stdout",
          "text": [
            "\b\b\b\b\b\b\b\b\b\b\b\b\b\b\b\b\b\b\b\b\b\b\b\b\b\b\b\b\b\b\b\b\b\b\b\b\b\b\b\b\b\b\b\b\b\b\b\b\b\b\b\b\b\b\b\b\b\b\b\b\b\b\b\b\b\b\b\b\b\b\b\b\b\b\b\b\b\b\b\b\b\b\b\b\b\b\b\b\b\r7/7 [==============================] - 2s 274ms/step - loss: nan - categorical_accuracy: 1.0000 - val_loss: nan - val_categorical_accuracy: 1.0000\n",
            "Epoch 79/100\n",
            "7/7 [==============================] - ETA: 0s - loss: nan - categorical_accuracy: 1.0000"
          ]
        },
        {
          "output_type": "stream",
          "name": "stderr",
          "text": [
            "WARNING:tensorflow:Early stopping conditioned on metric `val_accuracy` which is not available. Available metrics are: loss,categorical_accuracy,val_loss,val_categorical_accuracy\n"
          ]
        },
        {
          "output_type": "stream",
          "name": "stdout",
          "text": [
            "\b\b\b\b\b\b\b\b\b\b\b\b\b\b\b\b\b\b\b\b\b\b\b\b\b\b\b\b\b\b\b\b\b\b\b\b\b\b\b\b\b\b\b\b\b\b\b\b\b\b\b\b\b\b\b\b\b\b\b\b\b\b\b\b\b\b\b\b\b\b\b\b\b\b\b\b\b\b\b\b\b\b\b\b\b\b\b\b\b\r7/7 [==============================] - 2s 275ms/step - loss: nan - categorical_accuracy: 1.0000 - val_loss: nan - val_categorical_accuracy: 1.0000\n",
            "Epoch 80/100\n",
            "7/7 [==============================] - ETA: 0s - loss: nan - categorical_accuracy: 1.0000"
          ]
        },
        {
          "output_type": "stream",
          "name": "stderr",
          "text": [
            "WARNING:tensorflow:Early stopping conditioned on metric `val_accuracy` which is not available. Available metrics are: loss,categorical_accuracy,val_loss,val_categorical_accuracy\n"
          ]
        },
        {
          "output_type": "stream",
          "name": "stdout",
          "text": [
            "\b\b\b\b\b\b\b\b\b\b\b\b\b\b\b\b\b\b\b\b\b\b\b\b\b\b\b\b\b\b\b\b\b\b\b\b\b\b\b\b\b\b\b\b\b\b\b\b\b\b\b\b\b\b\b\b\b\b\b\b\b\b\b\b\b\b\b\b\b\b\b\b\b\b\b\b\b\b\b\b\b\b\b\b\b\b\b\b\b\r7/7 [==============================] - 2s 277ms/step - loss: nan - categorical_accuracy: 1.0000 - val_loss: nan - val_categorical_accuracy: 1.0000\n",
            "Epoch 81/100\n",
            "7/7 [==============================] - ETA: 0s - loss: nan - categorical_accuracy: 1.0000"
          ]
        },
        {
          "output_type": "stream",
          "name": "stderr",
          "text": [
            "WARNING:tensorflow:Early stopping conditioned on metric `val_accuracy` which is not available. Available metrics are: loss,categorical_accuracy,val_loss,val_categorical_accuracy\n"
          ]
        },
        {
          "output_type": "stream",
          "name": "stdout",
          "text": [
            "\b\b\b\b\b\b\b\b\b\b\b\b\b\b\b\b\b\b\b\b\b\b\b\b\b\b\b\b\b\b\b\b\b\b\b\b\b\b\b\b\b\b\b\b\b\b\b\b\b\b\b\b\b\b\b\b\b\b\b\b\b\b\b\b\b\b\b\b\b\b\b\b\b\b\b\b\b\b\b\b\b\b\b\b\b\b\b\b\b\r7/7 [==============================] - 2s 275ms/step - loss: nan - categorical_accuracy: 1.0000 - val_loss: nan - val_categorical_accuracy: 1.0000\n",
            "Epoch 82/100\n",
            "7/7 [==============================] - ETA: 0s - loss: nan - categorical_accuracy: 1.0000"
          ]
        },
        {
          "output_type": "stream",
          "name": "stderr",
          "text": [
            "WARNING:tensorflow:Early stopping conditioned on metric `val_accuracy` which is not available. Available metrics are: loss,categorical_accuracy,val_loss,val_categorical_accuracy\n"
          ]
        },
        {
          "output_type": "stream",
          "name": "stdout",
          "text": [
            "\b\b\b\b\b\b\b\b\b\b\b\b\b\b\b\b\b\b\b\b\b\b\b\b\b\b\b\b\b\b\b\b\b\b\b\b\b\b\b\b\b\b\b\b\b\b\b\b\b\b\b\b\b\b\b\b\b\b\b\b\b\b\b\b\b\b\b\b\b\b\b\b\b\b\b\b\b\b\b\b\b\b\b\b\b\b\b\b\b\r7/7 [==============================] - 2s 275ms/step - loss: nan - categorical_accuracy: 1.0000 - val_loss: nan - val_categorical_accuracy: 1.0000\n",
            "Epoch 83/100\n",
            "7/7 [==============================] - ETA: 0s - loss: nan - categorical_accuracy: 1.0000"
          ]
        },
        {
          "output_type": "stream",
          "name": "stderr",
          "text": [
            "WARNING:tensorflow:Early stopping conditioned on metric `val_accuracy` which is not available. Available metrics are: loss,categorical_accuracy,val_loss,val_categorical_accuracy\n"
          ]
        },
        {
          "output_type": "stream",
          "name": "stdout",
          "text": [
            "\b\b\b\b\b\b\b\b\b\b\b\b\b\b\b\b\b\b\b\b\b\b\b\b\b\b\b\b\b\b\b\b\b\b\b\b\b\b\b\b\b\b\b\b\b\b\b\b\b\b\b\b\b\b\b\b\b\b\b\b\b\b\b\b\b\b\b\b\b\b\b\b\b\b\b\b\b\b\b\b\b\b\b\b\b\b\b\b\b\r7/7 [==============================] - 2s 279ms/step - loss: nan - categorical_accuracy: 1.0000 - val_loss: nan - val_categorical_accuracy: 1.0000\n",
            "Epoch 84/100\n",
            "7/7 [==============================] - ETA: 0s - loss: nan - categorical_accuracy: 1.0000"
          ]
        },
        {
          "output_type": "stream",
          "name": "stderr",
          "text": [
            "WARNING:tensorflow:Early stopping conditioned on metric `val_accuracy` which is not available. Available metrics are: loss,categorical_accuracy,val_loss,val_categorical_accuracy\n"
          ]
        },
        {
          "output_type": "stream",
          "name": "stdout",
          "text": [
            "\b\b\b\b\b\b\b\b\b\b\b\b\b\b\b\b\b\b\b\b\b\b\b\b\b\b\b\b\b\b\b\b\b\b\b\b\b\b\b\b\b\b\b\b\b\b\b\b\b\b\b\b\b\b\b\b\b\b\b\b\b\b\b\b\b\b\b\b\b\b\b\b\b\b\b\b\b\b\b\b\b\b\b\b\b\b\b\b\b\r7/7 [==============================] - 2s 276ms/step - loss: nan - categorical_accuracy: 1.0000 - val_loss: nan - val_categorical_accuracy: 1.0000\n",
            "Epoch 85/100\n",
            "7/7 [==============================] - ETA: 0s - loss: nan - categorical_accuracy: 1.0000"
          ]
        },
        {
          "output_type": "stream",
          "name": "stderr",
          "text": [
            "WARNING:tensorflow:Early stopping conditioned on metric `val_accuracy` which is not available. Available metrics are: loss,categorical_accuracy,val_loss,val_categorical_accuracy\n"
          ]
        },
        {
          "output_type": "stream",
          "name": "stdout",
          "text": [
            "\b\b\b\b\b\b\b\b\b\b\b\b\b\b\b\b\b\b\b\b\b\b\b\b\b\b\b\b\b\b\b\b\b\b\b\b\b\b\b\b\b\b\b\b\b\b\b\b\b\b\b\b\b\b\b\b\b\b\b\b\b\b\b\b\b\b\b\b\b\b\b\b\b\b\b\b\b\b\b\b\b\b\b\b\b\b\b\b\b\r7/7 [==============================] - 2s 277ms/step - loss: nan - categorical_accuracy: 1.0000 - val_loss: nan - val_categorical_accuracy: 1.0000\n",
            "Epoch 86/100\n",
            "7/7 [==============================] - ETA: 0s - loss: nan - categorical_accuracy: 1.0000"
          ]
        },
        {
          "output_type": "stream",
          "name": "stderr",
          "text": [
            "WARNING:tensorflow:Early stopping conditioned on metric `val_accuracy` which is not available. Available metrics are: loss,categorical_accuracy,val_loss,val_categorical_accuracy\n"
          ]
        },
        {
          "output_type": "stream",
          "name": "stdout",
          "text": [
            "\b\b\b\b\b\b\b\b\b\b\b\b\b\b\b\b\b\b\b\b\b\b\b\b\b\b\b\b\b\b\b\b\b\b\b\b\b\b\b\b\b\b\b\b\b\b\b\b\b\b\b\b\b\b\b\b\b\b\b\b\b\b\b\b\b\b\b\b\b\b\b\b\b\b\b\b\b\b\b\b\b\b\b\b\b\b\b\b\b\r7/7 [==============================] - 2s 276ms/step - loss: nan - categorical_accuracy: 1.0000 - val_loss: nan - val_categorical_accuracy: 1.0000\n",
            "Epoch 87/100\n",
            "7/7 [==============================] - ETA: 0s - loss: nan - categorical_accuracy: 1.0000"
          ]
        },
        {
          "output_type": "stream",
          "name": "stderr",
          "text": [
            "WARNING:tensorflow:Early stopping conditioned on metric `val_accuracy` which is not available. Available metrics are: loss,categorical_accuracy,val_loss,val_categorical_accuracy\n"
          ]
        },
        {
          "output_type": "stream",
          "name": "stdout",
          "text": [
            "\b\b\b\b\b\b\b\b\b\b\b\b\b\b\b\b\b\b\b\b\b\b\b\b\b\b\b\b\b\b\b\b\b\b\b\b\b\b\b\b\b\b\b\b\b\b\b\b\b\b\b\b\b\b\b\b\b\b\b\b\b\b\b\b\b\b\b\b\b\b\b\b\b\b\b\b\b\b\b\b\b\b\b\b\b\b\b\b\b\r7/7 [==============================] - 2s 277ms/step - loss: nan - categorical_accuracy: 1.0000 - val_loss: nan - val_categorical_accuracy: 1.0000\n",
            "Epoch 88/100\n",
            "7/7 [==============================] - ETA: 0s - loss: nan - categorical_accuracy: 1.0000"
          ]
        },
        {
          "output_type": "stream",
          "name": "stderr",
          "text": [
            "WARNING:tensorflow:Early stopping conditioned on metric `val_accuracy` which is not available. Available metrics are: loss,categorical_accuracy,val_loss,val_categorical_accuracy\n"
          ]
        },
        {
          "output_type": "stream",
          "name": "stdout",
          "text": [
            "\b\b\b\b\b\b\b\b\b\b\b\b\b\b\b\b\b\b\b\b\b\b\b\b\b\b\b\b\b\b\b\b\b\b\b\b\b\b\b\b\b\b\b\b\b\b\b\b\b\b\b\b\b\b\b\b\b\b\b\b\b\b\b\b\b\b\b\b\b\b\b\b\b\b\b\b\b\b\b\b\b\b\b\b\b\b\b\b\b\r7/7 [==============================] - 2s 277ms/step - loss: nan - categorical_accuracy: 1.0000 - val_loss: nan - val_categorical_accuracy: 1.0000\n",
            "Epoch 89/100\n",
            "7/7 [==============================] - ETA: 0s - loss: nan - categorical_accuracy: 1.0000"
          ]
        },
        {
          "output_type": "stream",
          "name": "stderr",
          "text": [
            "WARNING:tensorflow:Early stopping conditioned on metric `val_accuracy` which is not available. Available metrics are: loss,categorical_accuracy,val_loss,val_categorical_accuracy\n"
          ]
        },
        {
          "output_type": "stream",
          "name": "stdout",
          "text": [
            "\b\b\b\b\b\b\b\b\b\b\b\b\b\b\b\b\b\b\b\b\b\b\b\b\b\b\b\b\b\b\b\b\b\b\b\b\b\b\b\b\b\b\b\b\b\b\b\b\b\b\b\b\b\b\b\b\b\b\b\b\b\b\b\b\b\b\b\b\b\b\b\b\b\b\b\b\b\b\b\b\b\b\b\b\b\b\b\b\b\r7/7 [==============================] - 2s 279ms/step - loss: nan - categorical_accuracy: 1.0000 - val_loss: nan - val_categorical_accuracy: 1.0000\n",
            "Epoch 90/100\n",
            "7/7 [==============================] - ETA: 0s - loss: nan - categorical_accuracy: 1.0000"
          ]
        },
        {
          "output_type": "stream",
          "name": "stderr",
          "text": [
            "WARNING:tensorflow:Early stopping conditioned on metric `val_accuracy` which is not available. Available metrics are: loss,categorical_accuracy,val_loss,val_categorical_accuracy\n"
          ]
        },
        {
          "output_type": "stream",
          "name": "stdout",
          "text": [
            "\b\b\b\b\b\b\b\b\b\b\b\b\b\b\b\b\b\b\b\b\b\b\b\b\b\b\b\b\b\b\b\b\b\b\b\b\b\b\b\b\b\b\b\b\b\b\b\b\b\b\b\b\b\b\b\b\b\b\b\b\b\b\b\b\b\b\b\b\b\b\b\b\b\b\b\b\b\b\b\b\b\b\b\b\b\b\b\b\b\r7/7 [==============================] - 2s 274ms/step - loss: nan - categorical_accuracy: 1.0000 - val_loss: nan - val_categorical_accuracy: 1.0000\n",
            "Epoch 91/100\n",
            "7/7 [==============================] - ETA: 0s - loss: nan - categorical_accuracy: 1.0000"
          ]
        },
        {
          "output_type": "stream",
          "name": "stderr",
          "text": [
            "WARNING:tensorflow:Early stopping conditioned on metric `val_accuracy` which is not available. Available metrics are: loss,categorical_accuracy,val_loss,val_categorical_accuracy\n"
          ]
        },
        {
          "output_type": "stream",
          "name": "stdout",
          "text": [
            "\b\b\b\b\b\b\b\b\b\b\b\b\b\b\b\b\b\b\b\b\b\b\b\b\b\b\b\b\b\b\b\b\b\b\b\b\b\b\b\b\b\b\b\b\b\b\b\b\b\b\b\b\b\b\b\b\b\b\b\b\b\b\b\b\b\b\b\b\b\b\b\b\b\b\b\b\b\b\b\b\b\b\b\b\b\b\b\b\b\r7/7 [==============================] - 2s 280ms/step - loss: nan - categorical_accuracy: 1.0000 - val_loss: nan - val_categorical_accuracy: 1.0000\n",
            "Epoch 92/100\n",
            "7/7 [==============================] - ETA: 0s - loss: nan - categorical_accuracy: 1.0000"
          ]
        },
        {
          "output_type": "stream",
          "name": "stderr",
          "text": [
            "WARNING:tensorflow:Early stopping conditioned on metric `val_accuracy` which is not available. Available metrics are: loss,categorical_accuracy,val_loss,val_categorical_accuracy\n"
          ]
        },
        {
          "output_type": "stream",
          "name": "stdout",
          "text": [
            "\b\b\b\b\b\b\b\b\b\b\b\b\b\b\b\b\b\b\b\b\b\b\b\b\b\b\b\b\b\b\b\b\b\b\b\b\b\b\b\b\b\b\b\b\b\b\b\b\b\b\b\b\b\b\b\b\b\b\b\b\b\b\b\b\b\b\b\b\b\b\b\b\b\b\b\b\b\b\b\b\b\b\b\b\b\b\b\b\b\r7/7 [==============================] - 2s 281ms/step - loss: nan - categorical_accuracy: 1.0000 - val_loss: nan - val_categorical_accuracy: 1.0000\n",
            "Epoch 93/100\n",
            "7/7 [==============================] - ETA: 0s - loss: nan - categorical_accuracy: 1.0000"
          ]
        },
        {
          "output_type": "stream",
          "name": "stderr",
          "text": [
            "WARNING:tensorflow:Early stopping conditioned on metric `val_accuracy` which is not available. Available metrics are: loss,categorical_accuracy,val_loss,val_categorical_accuracy\n"
          ]
        },
        {
          "output_type": "stream",
          "name": "stdout",
          "text": [
            "\b\b\b\b\b\b\b\b\b\b\b\b\b\b\b\b\b\b\b\b\b\b\b\b\b\b\b\b\b\b\b\b\b\b\b\b\b\b\b\b\b\b\b\b\b\b\b\b\b\b\b\b\b\b\b\b\b\b\b\b\b\b\b\b\b\b\b\b\b\b\b\b\b\b\b\b\b\b\b\b\b\b\b\b\b\b\b\b\b\r7/7 [==============================] - 2s 278ms/step - loss: nan - categorical_accuracy: 1.0000 - val_loss: nan - val_categorical_accuracy: 1.0000\n",
            "Epoch 94/100\n",
            "7/7 [==============================] - ETA: 0s - loss: nan - categorical_accuracy: 1.0000"
          ]
        },
        {
          "output_type": "stream",
          "name": "stderr",
          "text": [
            "WARNING:tensorflow:Early stopping conditioned on metric `val_accuracy` which is not available. Available metrics are: loss,categorical_accuracy,val_loss,val_categorical_accuracy\n"
          ]
        },
        {
          "output_type": "stream",
          "name": "stdout",
          "text": [
            "\b\b\b\b\b\b\b\b\b\b\b\b\b\b\b\b\b\b\b\b\b\b\b\b\b\b\b\b\b\b\b\b\b\b\b\b\b\b\b\b\b\b\b\b\b\b\b\b\b\b\b\b\b\b\b\b\b\b\b\b\b\b\b\b\b\b\b\b\b\b\b\b\b\b\b\b\b\b\b\b\b\b\b\b\b\b\b\b\b\r7/7 [==============================] - 2s 282ms/step - loss: nan - categorical_accuracy: 1.0000 - val_loss: nan - val_categorical_accuracy: 1.0000\n",
            "Epoch 95/100\n",
            "7/7 [==============================] - ETA: 0s - loss: nan - categorical_accuracy: 1.0000"
          ]
        },
        {
          "output_type": "stream",
          "name": "stderr",
          "text": [
            "WARNING:tensorflow:Early stopping conditioned on metric `val_accuracy` which is not available. Available metrics are: loss,categorical_accuracy,val_loss,val_categorical_accuracy\n"
          ]
        },
        {
          "output_type": "stream",
          "name": "stdout",
          "text": [
            "\b\b\b\b\b\b\b\b\b\b\b\b\b\b\b\b\b\b\b\b\b\b\b\b\b\b\b\b\b\b\b\b\b\b\b\b\b\b\b\b\b\b\b\b\b\b\b\b\b\b\b\b\b\b\b\b\b\b\b\b\b\b\b\b\b\b\b\b\b\b\b\b\b\b\b\b\b\b\b\b\b\b\b\b\b\b\b\b\b\r7/7 [==============================] - 2s 283ms/step - loss: nan - categorical_accuracy: 1.0000 - val_loss: nan - val_categorical_accuracy: 1.0000\n",
            "Epoch 96/100\n",
            "7/7 [==============================] - ETA: 0s - loss: nan - categorical_accuracy: 1.0000"
          ]
        },
        {
          "output_type": "stream",
          "name": "stderr",
          "text": [
            "WARNING:tensorflow:Early stopping conditioned on metric `val_accuracy` which is not available. Available metrics are: loss,categorical_accuracy,val_loss,val_categorical_accuracy\n"
          ]
        },
        {
          "output_type": "stream",
          "name": "stdout",
          "text": [
            "\b\b\b\b\b\b\b\b\b\b\b\b\b\b\b\b\b\b\b\b\b\b\b\b\b\b\b\b\b\b\b\b\b\b\b\b\b\b\b\b\b\b\b\b\b\b\b\b\b\b\b\b\b\b\b\b\b\b\b\b\b\b\b\b\b\b\b\b\b\b\b\b\b\b\b\b\b\b\b\b\b\b\b\b\b\b\b\b\b\r7/7 [==============================] - 2s 284ms/step - loss: nan - categorical_accuracy: 1.0000 - val_loss: nan - val_categorical_accuracy: 1.0000\n",
            "Epoch 97/100\n",
            "7/7 [==============================] - ETA: 0s - loss: nan - categorical_accuracy: 1.0000"
          ]
        },
        {
          "output_type": "stream",
          "name": "stderr",
          "text": [
            "WARNING:tensorflow:Early stopping conditioned on metric `val_accuracy` which is not available. Available metrics are: loss,categorical_accuracy,val_loss,val_categorical_accuracy\n"
          ]
        },
        {
          "output_type": "stream",
          "name": "stdout",
          "text": [
            "\b\b\b\b\b\b\b\b\b\b\b\b\b\b\b\b\b\b\b\b\b\b\b\b\b\b\b\b\b\b\b\b\b\b\b\b\b\b\b\b\b\b\b\b\b\b\b\b\b\b\b\b\b\b\b\b\b\b\b\b\b\b\b\b\b\b\b\b\b\b\b\b\b\b\b\b\b\b\b\b\b\b\b\b\b\b\b\b\b\r7/7 [==============================] - 2s 277ms/step - loss: nan - categorical_accuracy: 1.0000 - val_loss: nan - val_categorical_accuracy: 1.0000\n",
            "Epoch 98/100\n",
            "7/7 [==============================] - ETA: 0s - loss: nan - categorical_accuracy: 1.0000"
          ]
        },
        {
          "output_type": "stream",
          "name": "stderr",
          "text": [
            "WARNING:tensorflow:Early stopping conditioned on metric `val_accuracy` which is not available. Available metrics are: loss,categorical_accuracy,val_loss,val_categorical_accuracy\n"
          ]
        },
        {
          "output_type": "stream",
          "name": "stdout",
          "text": [
            "\b\b\b\b\b\b\b\b\b\b\b\b\b\b\b\b\b\b\b\b\b\b\b\b\b\b\b\b\b\b\b\b\b\b\b\b\b\b\b\b\b\b\b\b\b\b\b\b\b\b\b\b\b\b\b\b\b\b\b\b\b\b\b\b\b\b\b\b\b\b\b\b\b\b\b\b\b\b\b\b\b\b\b\b\b\b\b\b\b\r7/7 [==============================] - 2s 276ms/step - loss: nan - categorical_accuracy: 1.0000 - val_loss: nan - val_categorical_accuracy: 1.0000\n",
            "Epoch 99/100\n",
            "7/7 [==============================] - ETA: 0s - loss: nan - categorical_accuracy: 1.0000"
          ]
        },
        {
          "output_type": "stream",
          "name": "stderr",
          "text": [
            "WARNING:tensorflow:Early stopping conditioned on metric `val_accuracy` which is not available. Available metrics are: loss,categorical_accuracy,val_loss,val_categorical_accuracy\n"
          ]
        },
        {
          "output_type": "stream",
          "name": "stdout",
          "text": [
            "\b\b\b\b\b\b\b\b\b\b\b\b\b\b\b\b\b\b\b\b\b\b\b\b\b\b\b\b\b\b\b\b\b\b\b\b\b\b\b\b\b\b\b\b\b\b\b\b\b\b\b\b\b\b\b\b\b\b\b\b\b\b\b\b\b\b\b\b\b\b\b\b\b\b\b\b\b\b\b\b\b\b\b\b\b\b\b\b\b\r7/7 [==============================] - 2s 276ms/step - loss: nan - categorical_accuracy: 1.0000 - val_loss: nan - val_categorical_accuracy: 1.0000\n",
            "Epoch 100/100\n",
            "7/7 [==============================] - ETA: 0s - loss: nan - categorical_accuracy: 1.0000"
          ]
        },
        {
          "output_type": "stream",
          "name": "stderr",
          "text": [
            "WARNING:tensorflow:Early stopping conditioned on metric `val_accuracy` which is not available. Available metrics are: loss,categorical_accuracy,val_loss,val_categorical_accuracy\n"
          ]
        },
        {
          "output_type": "stream",
          "name": "stdout",
          "text": [
            "\b\b\b\b\b\b\b\b\b\b\b\b\b\b\b\b\b\b\b\b\b\b\b\b\b\b\b\b\b\b\b\b\b\b\b\b\b\b\b\b\b\b\b\b\b\b\b\b\b\b\b\b\b\b\b\b\b\b\b\b\b\b\b\b\b\b\b\b\b\b\b\b\b\b\b\b\b\b\b\b\b\b\b\b\b\b\b\b\b\r7/7 [==============================] - 2s 278ms/step - loss: nan - categorical_accuracy: 1.0000 - val_loss: nan - val_categorical_accuracy: 1.0000\n"
          ]
        },
        {
          "output_type": "execute_result",
          "data": {
            "text/plain": [
              "<keras.callbacks.History at 0x7fbfd7a21610>"
            ]
          },
          "metadata": {},
          "execution_count": 12
        }
      ],
      "source": [
        "callbacks = [EarlyStopping(monitor='val_accuracy', patience=3)] \n",
        "model.fit(X_train, Y_train, epochs=100,batch_size=6000, validation_split = 0.2, callbacks=callbacks) "
      ]
    },
    {
      "cell_type": "code",
      "execution_count": 13,
      "metadata": {
        "id": "Jo4s0X-j78Lk"
      },
      "outputs": [],
      "source": [
        "results = model.evaluate(x_test,  y_test, verbose = 0)"
      ]
    },
    {
      "cell_type": "code",
      "execution_count": 14,
      "metadata": {
        "colab": {
          "base_uri": "https://localhost:8080/"
        },
        "id": "pVg-k4qL79Ec",
        "outputId": "047ce35d-6f13-4f6f-ab04-863a88494dac"
      },
      "outputs": [
        {
          "output_type": "stream",
          "name": "stdout",
          "text": [
            "test loss, test acc: [nan, 1.0]\n"
          ]
        }
      ],
      "source": [
        "print('test loss, test acc:', results)"
      ]
    },
    {
      "cell_type": "code",
      "execution_count": 15,
      "metadata": {
        "id": "GdN8su049ZF7"
      },
      "outputs": [],
      "source": [
        "model = Sequential([\n",
        "    Flatten(input_shape=(28, 28)),   \n",
        "    Dense(512, activation='tanh'),\n",
        "    Dropout(0.2),                  \n",
        "    Dense(128, activation='tanh'),\n",
        "    Dropout(0.2),                  \n",
        "    Dense(10, activation='relu'), \n",
        "])"
      ]
    },
    {
      "cell_type": "code",
      "execution_count": 16,
      "metadata": {
        "id": "YxXcwn5U9u12"
      },
      "outputs": [],
      "source": [
        "model.compile(optimizer='sgd',\n",
        "              loss='sparse_categorical_crossentropy',\n",
        "              metrics=['accuracy'])"
      ]
    },
    {
      "cell_type": "code",
      "execution_count": 17,
      "metadata": {
        "colab": {
          "base_uri": "https://localhost:8080/"
        },
        "id": "itbaU0nB9gCC",
        "outputId": "ed4c908a-6c85-4ec4-f77f-3dfddbbd3671"
      },
      "outputs": [
        {
          "output_type": "stream",
          "name": "stdout",
          "text": [
            "Epoch 1/100\n",
            "7/7 [==============================] - 3s 314ms/step - loss: 4.5447 - accuracy: 0.1505 - val_loss: 2.2150 - val_accuracy: 0.1786\n",
            "Epoch 2/100\n",
            "7/7 [==============================] - 2s 287ms/step - loss: 2.3895 - accuracy: 0.1784 - val_loss: 2.1927 - val_accuracy: 0.1955\n",
            "Epoch 3/100\n",
            "7/7 [==============================] - 2s 281ms/step - loss: 2.2958 - accuracy: 0.1891 - val_loss: 2.1795 - val_accuracy: 0.1952\n",
            "Epoch 4/100\n",
            "7/7 [==============================] - 2s 283ms/step - loss: 2.2454 - accuracy: 0.1977 - val_loss: 2.1510 - val_accuracy: 0.1998\n",
            "Epoch 5/100\n",
            "7/7 [==============================] - 2s 278ms/step - loss: 2.2523 - accuracy: 0.1770 - val_loss: 2.1444 - val_accuracy: 0.1115\n",
            "Epoch 6/100\n",
            "7/7 [==============================] - 2s 279ms/step - loss: 2.2116 - accuracy: 0.1351 - val_loss: 2.1090 - val_accuracy: 0.1079\n",
            "Epoch 7/100\n",
            "7/7 [==============================] - 2s 276ms/step - loss: 2.2002 - accuracy: 0.1363 - val_loss: 2.0748 - val_accuracy: 0.1119\n"
          ]
        },
        {
          "output_type": "execute_result",
          "data": {
            "text/plain": [
              "<keras.callbacks.History at 0x7fbfd7896280>"
            ]
          },
          "metadata": {},
          "execution_count": 17
        }
      ],
      "source": [
        "callbacks = [EarlyStopping(monitor='val_accuracy', patience=3)] \n",
        "model.fit(X_train, Y_train, epochs=100,batch_size=6000, validation_split = 0.2, callbacks=callbacks)"
      ]
    },
    {
      "cell_type": "code",
      "execution_count": 18,
      "metadata": {
        "id": "M_IHaxhP_288"
      },
      "outputs": [],
      "source": [
        "results = model.evaluate(x_test,  y_test, verbose = 0)"
      ]
    },
    {
      "cell_type": "code",
      "execution_count": 19,
      "metadata": {
        "colab": {
          "base_uri": "https://localhost:8080/"
        },
        "id": "xhSpWvuMABCi",
        "outputId": "9831a8d5-3da8-4d69-8efe-72e7e43dc3a9"
      },
      "outputs": [
        {
          "output_type": "stream",
          "name": "stdout",
          "text": [
            "test loss, test acc: [2.0698068141937256, 0.10869999974966049]\n"
          ]
        }
      ],
      "source": [
        "print('test loss, test acc:', results)"
      ]
    },
    {
      "cell_type": "code",
      "execution_count": 20,
      "metadata": {
        "id": "tXREvrS5Adwq"
      },
      "outputs": [],
      "source": [
        "model = Sequential([\n",
        "    Flatten(input_shape=(28, 28)),   \n",
        "    Dense(512, activation='LeakyReLU'),\n",
        "    Dropout(0.1),                 \n",
        "    Dense(10, activation='softmax'), \n",
        "]) "
      ]
    },
    {
      "cell_type": "code",
      "execution_count": 21,
      "metadata": {
        "id": "Sf9n0D_6AlMa"
      },
      "outputs": [],
      "source": [
        "model.compile(optimizer='Adagrad', \n",
        "              loss='sparse_categorical_crossentropy',\n",
        "              metrics=['accuracy'])"
      ]
    },
    {
      "cell_type": "code",
      "execution_count": 22,
      "metadata": {
        "id": "Db65d51BA6oB",
        "colab": {
          "base_uri": "https://localhost:8080/"
        },
        "outputId": "1acebb9b-3982-4d32-ffe9-1869ee699990"
      },
      "outputs": [
        {
          "output_type": "stream",
          "name": "stdout",
          "text": [
            "Epoch 1/100\n",
            "7/7 [==============================] - 2s 263ms/step - loss: 69.8402 - accuracy: 0.3824 - val_loss: 17.6990 - val_accuracy: 0.6761\n",
            "Epoch 2/100\n",
            "7/7 [==============================] - 2s 243ms/step - loss: 20.7294 - accuracy: 0.6546 - val_loss: 12.1510 - val_accuracy: 0.7622\n",
            "Epoch 3/100\n",
            "7/7 [==============================] - 2s 236ms/step - loss: 15.2477 - accuracy: 0.7253 - val_loss: 10.1906 - val_accuracy: 0.7964\n",
            "Epoch 4/100\n",
            "7/7 [==============================] - 2s 236ms/step - loss: 13.2767 - accuracy: 0.7568 - val_loss: 8.9911 - val_accuracy: 0.8180\n",
            "Epoch 5/100\n",
            "7/7 [==============================] - 2s 240ms/step - loss: 11.8004 - accuracy: 0.7770 - val_loss: 8.2324 - val_accuracy: 0.8297\n",
            "Epoch 6/100\n",
            "7/7 [==============================] - 2s 236ms/step - loss: 10.7989 - accuracy: 0.7927 - val_loss: 7.6909 - val_accuracy: 0.8399\n",
            "Epoch 7/100\n",
            "7/7 [==============================] - 2s 243ms/step - loss: 10.1338 - accuracy: 0.8012 - val_loss: 7.3859 - val_accuracy: 0.8455\n",
            "Epoch 8/100\n",
            "7/7 [==============================] - 2s 239ms/step - loss: 9.6440 - accuracy: 0.8091 - val_loss: 6.9698 - val_accuracy: 0.8544\n",
            "Epoch 9/100\n",
            "7/7 [==============================] - 2s 235ms/step - loss: 9.0952 - accuracy: 0.8173 - val_loss: 6.5755 - val_accuracy: 0.8609\n",
            "Epoch 10/100\n",
            "7/7 [==============================] - 2s 238ms/step - loss: 8.6522 - accuracy: 0.8269 - val_loss: 6.3579 - val_accuracy: 0.8646\n",
            "Epoch 11/100\n",
            "7/7 [==============================] - 2s 236ms/step - loss: 8.3689 - accuracy: 0.8305 - val_loss: 6.1602 - val_accuracy: 0.8685\n",
            "Epoch 12/100\n",
            "7/7 [==============================] - 2s 244ms/step - loss: 7.9682 - accuracy: 0.8376 - val_loss: 5.9487 - val_accuracy: 0.8723\n",
            "Epoch 13/100\n",
            "7/7 [==============================] - 2s 236ms/step - loss: 7.6825 - accuracy: 0.8415 - val_loss: 5.8095 - val_accuracy: 0.8744\n",
            "Epoch 14/100\n",
            "7/7 [==============================] - 2s 242ms/step - loss: 7.4108 - accuracy: 0.8436 - val_loss: 5.6107 - val_accuracy: 0.8768\n",
            "Epoch 15/100\n",
            "7/7 [==============================] - 2s 239ms/step - loss: 7.4093 - accuracy: 0.8430 - val_loss: 5.4729 - val_accuracy: 0.8810\n",
            "Epoch 16/100\n",
            "7/7 [==============================] - 2s 236ms/step - loss: 7.1014 - accuracy: 0.8488 - val_loss: 5.3749 - val_accuracy: 0.8821\n",
            "Epoch 17/100\n",
            "7/7 [==============================] - 2s 236ms/step - loss: 6.9060 - accuracy: 0.8518 - val_loss: 5.2678 - val_accuracy: 0.8846\n",
            "Epoch 18/100\n",
            "7/7 [==============================] - 2s 247ms/step - loss: 6.6459 - accuracy: 0.8557 - val_loss: 5.1474 - val_accuracy: 0.8868\n",
            "Epoch 19/100\n",
            "7/7 [==============================] - 2s 239ms/step - loss: 6.5319 - accuracy: 0.8564 - val_loss: 5.0040 - val_accuracy: 0.8903\n",
            "Epoch 20/100\n",
            "7/7 [==============================] - 2s 245ms/step - loss: 6.3209 - accuracy: 0.8614 - val_loss: 4.9167 - val_accuracy: 0.8907\n",
            "Epoch 21/100\n",
            "7/7 [==============================] - 2s 238ms/step - loss: 6.2981 - accuracy: 0.8618 - val_loss: 4.8903 - val_accuracy: 0.8910\n",
            "Epoch 22/100\n",
            "7/7 [==============================] - 2s 234ms/step - loss: 6.2272 - accuracy: 0.8606 - val_loss: 4.7730 - val_accuracy: 0.8935\n",
            "Epoch 23/100\n",
            "7/7 [==============================] - 2s 238ms/step - loss: 6.0256 - accuracy: 0.8657 - val_loss: 4.6727 - val_accuracy: 0.8983\n",
            "Epoch 24/100\n",
            "7/7 [==============================] - 2s 236ms/step - loss: 5.8447 - accuracy: 0.8651 - val_loss: 4.6032 - val_accuracy: 0.8966\n",
            "Epoch 25/100\n",
            "7/7 [==============================] - 2s 236ms/step - loss: 5.6949 - accuracy: 0.8677 - val_loss: 4.5087 - val_accuracy: 0.8974\n",
            "Epoch 26/100\n",
            "7/7 [==============================] - 2s 251ms/step - loss: 5.6965 - accuracy: 0.8691 - val_loss: 4.4422 - val_accuracy: 0.8989\n",
            "Epoch 27/100\n",
            "7/7 [==============================] - 3s 422ms/step - loss: 5.5626 - accuracy: 0.8713 - val_loss: 4.3654 - val_accuracy: 0.9008\n",
            "Epoch 28/100\n",
            "7/7 [==============================] - 2s 237ms/step - loss: 5.5271 - accuracy: 0.8706 - val_loss: 4.3321 - val_accuracy: 0.9004\n",
            "Epoch 29/100\n",
            "7/7 [==============================] - 2s 239ms/step - loss: 5.3678 - accuracy: 0.8744 - val_loss: 4.2801 - val_accuracy: 0.9030\n",
            "Epoch 30/100\n",
            "7/7 [==============================] - 2s 238ms/step - loss: 5.2549 - accuracy: 0.8763 - val_loss: 4.1961 - val_accuracy: 0.9039\n",
            "Epoch 31/100\n",
            "7/7 [==============================] - 2s 238ms/step - loss: 5.1451 - accuracy: 0.8779 - val_loss: 4.1773 - val_accuracy: 0.9035\n",
            "Epoch 32/100\n",
            "7/7 [==============================] - 2s 241ms/step - loss: 5.0637 - accuracy: 0.8791 - val_loss: 4.1219 - val_accuracy: 0.9054\n",
            "Epoch 33/100\n",
            "7/7 [==============================] - 2s 236ms/step - loss: 5.0439 - accuracy: 0.8785 - val_loss: 4.0721 - val_accuracy: 0.9056\n",
            "Epoch 34/100\n",
            "7/7 [==============================] - 2s 238ms/step - loss: 4.9101 - accuracy: 0.8814 - val_loss: 4.0372 - val_accuracy: 0.9065\n",
            "Epoch 35/100\n",
            "7/7 [==============================] - 2s 239ms/step - loss: 4.8488 - accuracy: 0.8815 - val_loss: 3.9765 - val_accuracy: 0.9078\n",
            "Epoch 36/100\n",
            "7/7 [==============================] - 2s 240ms/step - loss: 4.8187 - accuracy: 0.8827 - val_loss: 3.9128 - val_accuracy: 0.9090\n",
            "Epoch 37/100\n",
            "7/7 [==============================] - 3s 401ms/step - loss: 4.8331 - accuracy: 0.8817 - val_loss: 3.8690 - val_accuracy: 0.9106\n",
            "Epoch 38/100\n",
            "7/7 [==============================] - 2s 263ms/step - loss: 4.7110 - accuracy: 0.8847 - val_loss: 3.8401 - val_accuracy: 0.9103\n",
            "Epoch 39/100\n",
            "7/7 [==============================] - 2s 235ms/step - loss: 4.5511 - accuracy: 0.8855 - val_loss: 3.8253 - val_accuracy: 0.9100\n",
            "Epoch 40/100\n",
            "7/7 [==============================] - 2s 238ms/step - loss: 4.5125 - accuracy: 0.8878 - val_loss: 3.7696 - val_accuracy: 0.9125\n",
            "Epoch 41/100\n",
            "7/7 [==============================] - 2s 236ms/step - loss: 4.5002 - accuracy: 0.8870 - val_loss: 3.7150 - val_accuracy: 0.9121\n",
            "Epoch 42/100\n",
            "7/7 [==============================] - 2s 239ms/step - loss: 4.3752 - accuracy: 0.8888 - val_loss: 3.6783 - val_accuracy: 0.9137\n",
            "Epoch 43/100\n",
            "7/7 [==============================] - 2s 238ms/step - loss: 4.3311 - accuracy: 0.8889 - val_loss: 3.6473 - val_accuracy: 0.9134\n",
            "Epoch 44/100\n",
            "7/7 [==============================] - 2s 237ms/step - loss: 4.3438 - accuracy: 0.8880 - val_loss: 3.6168 - val_accuracy: 0.9141\n",
            "Epoch 45/100\n",
            "7/7 [==============================] - 2s 235ms/step - loss: 4.2278 - accuracy: 0.8904 - val_loss: 3.5846 - val_accuracy: 0.9147\n",
            "Epoch 46/100\n",
            "7/7 [==============================] - 2s 236ms/step - loss: 4.1624 - accuracy: 0.8930 - val_loss: 3.5475 - val_accuracy: 0.9151\n",
            "Epoch 47/100\n",
            "7/7 [==============================] - 2s 242ms/step - loss: 4.1997 - accuracy: 0.8917 - val_loss: 3.5353 - val_accuracy: 0.9154\n",
            "Epoch 48/100\n",
            "7/7 [==============================] - 2s 235ms/step - loss: 4.1298 - accuracy: 0.8923 - val_loss: 3.4859 - val_accuracy: 0.9155\n",
            "Epoch 49/100\n",
            "7/7 [==============================] - 2s 244ms/step - loss: 4.0921 - accuracy: 0.8920 - val_loss: 3.4679 - val_accuracy: 0.9153\n",
            "Epoch 50/100\n",
            "7/7 [==============================] - 2s 238ms/step - loss: 4.0172 - accuracy: 0.8961 - val_loss: 3.4317 - val_accuracy: 0.9166\n",
            "Epoch 51/100\n",
            "7/7 [==============================] - 2s 237ms/step - loss: 4.0096 - accuracy: 0.8937 - val_loss: 3.4092 - val_accuracy: 0.9171\n",
            "Epoch 52/100\n",
            "7/7 [==============================] - 2s 242ms/step - loss: 3.9029 - accuracy: 0.8954 - val_loss: 3.3929 - val_accuracy: 0.9170\n",
            "Epoch 53/100\n",
            "7/7 [==============================] - 2s 238ms/step - loss: 3.8355 - accuracy: 0.8969 - val_loss: 3.3586 - val_accuracy: 0.9179\n",
            "Epoch 54/100\n",
            "7/7 [==============================] - 2s 238ms/step - loss: 3.7913 - accuracy: 0.8988 - val_loss: 3.3327 - val_accuracy: 0.9184\n",
            "Epoch 55/100\n",
            "7/7 [==============================] - 2s 245ms/step - loss: 3.7480 - accuracy: 0.8977 - val_loss: 3.3255 - val_accuracy: 0.9195\n",
            "Epoch 56/100\n",
            "7/7 [==============================] - 2s 238ms/step - loss: 3.7609 - accuracy: 0.8990 - val_loss: 3.2865 - val_accuracy: 0.9193\n",
            "Epoch 57/100\n",
            "7/7 [==============================] - 2s 235ms/step - loss: 3.6971 - accuracy: 0.8974 - val_loss: 3.2834 - val_accuracy: 0.9189\n",
            "Epoch 58/100\n",
            "7/7 [==============================] - 2s 239ms/step - loss: 3.7489 - accuracy: 0.8991 - val_loss: 3.2391 - val_accuracy: 0.9195\n"
          ]
        },
        {
          "output_type": "execute_result",
          "data": {
            "text/plain": [
              "<keras.callbacks.History at 0x7fbfd778d8e0>"
            ]
          },
          "metadata": {},
          "execution_count": 22
        }
      ],
      "source": [
        "callbacks = [EarlyStopping(monitor='val_accuracy', patience=3)]\n",
        "model.fit(X_train, Y_train, epochs=100,batch_size=6000, validation_split = 0.2, callbacks=callbacks) "
      ]
    },
    {
      "cell_type": "code",
      "execution_count": 23,
      "metadata": {
        "id": "UGKPo1xQBAs1"
      },
      "outputs": [],
      "source": [
        "results = model.evaluate(x_test,  y_test, verbose = 0)"
      ]
    },
    {
      "cell_type": "code",
      "execution_count": 24,
      "metadata": {
        "id": "F83zVZH4BJcS",
        "colab": {
          "base_uri": "https://localhost:8080/"
        },
        "outputId": "7284555c-e838-4c39-e240-c495a7ba0673"
      },
      "outputs": [
        {
          "output_type": "stream",
          "name": "stdout",
          "text": [
            "test loss, test acc: [2.973071575164795, 0.9258999824523926]\n"
          ]
        }
      ],
      "source": [
        "print('test loss, test acc:', results)"
      ]
    },
    {
      "cell_type": "code",
      "execution_count": 25,
      "metadata": {
        "id": "jxDvzIYnBO1Q"
      },
      "outputs": [],
      "source": [
        "model = Sequential([\n",
        "    Flatten(input_shape=(28, 28)),   \n",
        "    Dense(128, activation='LeakyReLU'),\n",
        "    Dropout(0.5),                 \n",
        "    Dense(10, activation='softmax'),  \n",
        "])"
      ]
    },
    {
      "cell_type": "code",
      "execution_count": 26,
      "metadata": {
        "id": "HAY9kXlEBTPH"
      },
      "outputs": [],
      "source": [
        "model.compile(optimizer='Adagrad', \n",
        "              loss='sparse_categorical_crossentropy',\n",
        "              metrics=['accuracy'])"
      ]
    },
    {
      "cell_type": "code",
      "execution_count": 27,
      "metadata": {
        "id": "iuHG3zugBXai",
        "colab": {
          "base_uri": "https://localhost:8080/"
        },
        "outputId": "6ebb61b1-4c9b-49de-9b19-6b0e3dbcfe7c"
      },
      "outputs": [
        {
          "output_type": "stream",
          "name": "stdout",
          "text": [
            "Epoch 1/100\n",
            "7/7 [==============================] - 1s 105ms/step - loss: 139.5436 - accuracy: 0.2129 - val_loss: 30.8754 - val_accuracy: 0.5412\n",
            "Epoch 2/100\n",
            "7/7 [==============================] - 1s 84ms/step - loss: 68.8961 - accuracy: 0.3889 - val_loss: 20.6882 - val_accuracy: 0.6589\n",
            "Epoch 3/100\n",
            "7/7 [==============================] - 1s 87ms/step - loss: 50.1389 - accuracy: 0.4806 - val_loss: 16.6167 - val_accuracy: 0.7160\n",
            "Epoch 4/100\n",
            "7/7 [==============================] - 1s 85ms/step - loss: 41.7695 - accuracy: 0.5354 - val_loss: 14.4603 - val_accuracy: 0.7455\n",
            "Epoch 5/100\n",
            "7/7 [==============================] - 1s 85ms/step - loss: 36.1899 - accuracy: 0.5724 - val_loss: 12.9133 - val_accuracy: 0.7664\n",
            "Epoch 6/100\n",
            "7/7 [==============================] - 1s 85ms/step - loss: 32.7444 - accuracy: 0.6004 - val_loss: 11.9862 - val_accuracy: 0.7822\n",
            "Epoch 7/100\n",
            "7/7 [==============================] - 1s 85ms/step - loss: 30.0516 - accuracy: 0.6217 - val_loss: 11.2346 - val_accuracy: 0.7936\n",
            "Epoch 8/100\n",
            "7/7 [==============================] - 1s 89ms/step - loss: 27.5122 - accuracy: 0.6408 - val_loss: 10.6736 - val_accuracy: 0.8044\n",
            "Epoch 9/100\n",
            "7/7 [==============================] - 1s 81ms/step - loss: 26.0667 - accuracy: 0.6557 - val_loss: 10.1743 - val_accuracy: 0.8134\n",
            "Epoch 10/100\n",
            "7/7 [==============================] - 1s 84ms/step - loss: 25.1052 - accuracy: 0.6651 - val_loss: 9.7745 - val_accuracy: 0.8214\n",
            "Epoch 11/100\n",
            "7/7 [==============================] - 1s 86ms/step - loss: 24.0361 - accuracy: 0.6735 - val_loss: 9.4586 - val_accuracy: 0.8272\n",
            "Epoch 12/100\n",
            "7/7 [==============================] - 1s 86ms/step - loss: 22.9839 - accuracy: 0.6860 - val_loss: 9.1603 - val_accuracy: 0.8321\n",
            "Epoch 13/100\n",
            "7/7 [==============================] - 1s 85ms/step - loss: 22.2396 - accuracy: 0.6933 - val_loss: 8.9195 - val_accuracy: 0.8383\n",
            "Epoch 14/100\n",
            "7/7 [==============================] - 1s 85ms/step - loss: 21.0978 - accuracy: 0.7027 - val_loss: 8.7148 - val_accuracy: 0.8408\n",
            "Epoch 15/100\n",
            "7/7 [==============================] - 1s 85ms/step - loss: 20.4592 - accuracy: 0.7096 - val_loss: 8.5237 - val_accuracy: 0.8449\n",
            "Epoch 16/100\n",
            "7/7 [==============================] - 1s 81ms/step - loss: 20.1391 - accuracy: 0.7149 - val_loss: 8.3436 - val_accuracy: 0.8476\n",
            "Epoch 17/100\n",
            "7/7 [==============================] - 1s 85ms/step - loss: 19.8067 - accuracy: 0.7150 - val_loss: 8.1869 - val_accuracy: 0.8509\n",
            "Epoch 18/100\n",
            "7/7 [==============================] - 1s 82ms/step - loss: 19.1270 - accuracy: 0.7245 - val_loss: 8.0639 - val_accuracy: 0.8527\n",
            "Epoch 19/100\n",
            "7/7 [==============================] - 1s 85ms/step - loss: 18.5883 - accuracy: 0.7313 - val_loss: 7.9341 - val_accuracy: 0.8556\n",
            "Epoch 20/100\n",
            "7/7 [==============================] - 1s 87ms/step - loss: 18.2209 - accuracy: 0.7333 - val_loss: 7.8159 - val_accuracy: 0.8566\n",
            "Epoch 21/100\n",
            "7/7 [==============================] - 1s 82ms/step - loss: 18.0305 - accuracy: 0.7365 - val_loss: 7.6860 - val_accuracy: 0.8589\n",
            "Epoch 22/100\n",
            "7/7 [==============================] - 1s 90ms/step - loss: 17.7788 - accuracy: 0.7389 - val_loss: 7.5959 - val_accuracy: 0.8608\n",
            "Epoch 23/100\n",
            "7/7 [==============================] - 1s 85ms/step - loss: 17.4347 - accuracy: 0.7427 - val_loss: 7.4699 - val_accuracy: 0.8636\n",
            "Epoch 24/100\n",
            "7/7 [==============================] - 1s 87ms/step - loss: 16.9209 - accuracy: 0.7468 - val_loss: 7.3824 - val_accuracy: 0.8653\n",
            "Epoch 25/100\n",
            "7/7 [==============================] - 1s 83ms/step - loss: 16.6032 - accuracy: 0.7530 - val_loss: 7.2911 - val_accuracy: 0.8669\n",
            "Epoch 26/100\n",
            "7/7 [==============================] - 1s 90ms/step - loss: 16.3504 - accuracy: 0.7546 - val_loss: 7.2166 - val_accuracy: 0.8680\n",
            "Epoch 27/100\n",
            "7/7 [==============================] - 1s 86ms/step - loss: 16.3750 - accuracy: 0.7571 - val_loss: 7.1470 - val_accuracy: 0.8684\n",
            "Epoch 28/100\n",
            "7/7 [==============================] - 1s 87ms/step - loss: 15.8532 - accuracy: 0.7581 - val_loss: 7.0657 - val_accuracy: 0.8706\n",
            "Epoch 29/100\n",
            "7/7 [==============================] - 1s 85ms/step - loss: 15.9078 - accuracy: 0.7610 - val_loss: 7.0053 - val_accuracy: 0.8731\n",
            "Epoch 30/100\n",
            "7/7 [==============================] - 1s 87ms/step - loss: 15.5764 - accuracy: 0.7627 - val_loss: 6.9545 - val_accuracy: 0.8736\n",
            "Epoch 31/100\n",
            "7/7 [==============================] - 1s 86ms/step - loss: 15.4082 - accuracy: 0.7631 - val_loss: 6.8949 - val_accuracy: 0.8754\n",
            "Epoch 32/100\n",
            "7/7 [==============================] - 1s 85ms/step - loss: 15.2451 - accuracy: 0.7672 - val_loss: 6.8317 - val_accuracy: 0.8754\n",
            "Epoch 33/100\n",
            "7/7 [==============================] - 1s 84ms/step - loss: 14.9656 - accuracy: 0.7696 - val_loss: 6.7784 - val_accuracy: 0.8766\n",
            "Epoch 34/100\n",
            "7/7 [==============================] - 1s 90ms/step - loss: 14.9815 - accuracy: 0.7701 - val_loss: 6.7262 - val_accuracy: 0.8782\n",
            "Epoch 35/100\n",
            "7/7 [==============================] - 1s 84ms/step - loss: 14.4669 - accuracy: 0.7772 - val_loss: 6.6934 - val_accuracy: 0.8792\n",
            "Epoch 36/100\n",
            "7/7 [==============================] - 1s 84ms/step - loss: 14.6174 - accuracy: 0.7751 - val_loss: 6.6497 - val_accuracy: 0.8799\n",
            "Epoch 37/100\n",
            "7/7 [==============================] - 1s 84ms/step - loss: 14.6748 - accuracy: 0.7756 - val_loss: 6.5732 - val_accuracy: 0.8808\n",
            "Epoch 38/100\n",
            "7/7 [==============================] - 1s 85ms/step - loss: 14.2221 - accuracy: 0.7798 - val_loss: 6.5376 - val_accuracy: 0.8816\n",
            "Epoch 39/100\n",
            "7/7 [==============================] - 1s 92ms/step - loss: 13.9116 - accuracy: 0.7783 - val_loss: 6.4983 - val_accuracy: 0.8827\n",
            "Epoch 40/100\n",
            "7/7 [==============================] - 1s 86ms/step - loss: 13.9399 - accuracy: 0.7827 - val_loss: 6.4543 - val_accuracy: 0.8826\n",
            "Epoch 41/100\n",
            "7/7 [==============================] - 1s 87ms/step - loss: 13.6128 - accuracy: 0.7842 - val_loss: 6.4267 - val_accuracy: 0.8836\n",
            "Epoch 42/100\n",
            "7/7 [==============================] - 1s 84ms/step - loss: 13.6808 - accuracy: 0.7875 - val_loss: 6.3776 - val_accuracy: 0.8839\n",
            "Epoch 43/100\n",
            "7/7 [==============================] - 1s 84ms/step - loss: 13.9199 - accuracy: 0.7834 - val_loss: 6.3236 - val_accuracy: 0.8852\n",
            "Epoch 44/100\n",
            "7/7 [==============================] - 1s 89ms/step - loss: 13.3843 - accuracy: 0.7888 - val_loss: 6.2895 - val_accuracy: 0.8853\n",
            "Epoch 45/100\n",
            "7/7 [==============================] - 1s 84ms/step - loss: 13.3431 - accuracy: 0.7882 - val_loss: 6.2432 - val_accuracy: 0.8865\n",
            "Epoch 46/100\n",
            "7/7 [==============================] - 1s 86ms/step - loss: 13.1790 - accuracy: 0.7919 - val_loss: 6.2141 - val_accuracy: 0.8870\n",
            "Epoch 47/100\n",
            "7/7 [==============================] - 1s 85ms/step - loss: 13.0741 - accuracy: 0.7909 - val_loss: 6.1747 - val_accuracy: 0.8871\n",
            "Epoch 48/100\n",
            "7/7 [==============================] - 1s 85ms/step - loss: 12.9554 - accuracy: 0.7930 - val_loss: 6.1415 - val_accuracy: 0.8879\n",
            "Epoch 49/100\n",
            "7/7 [==============================] - 1s 83ms/step - loss: 12.9699 - accuracy: 0.7946 - val_loss: 6.1118 - val_accuracy: 0.8878\n",
            "Epoch 50/100\n",
            "7/7 [==============================] - 1s 84ms/step - loss: 12.8431 - accuracy: 0.7917 - val_loss: 6.0942 - val_accuracy: 0.8885\n",
            "Epoch 51/100\n",
            "7/7 [==============================] - 1s 84ms/step - loss: 13.0370 - accuracy: 0.7939 - val_loss: 6.0588 - val_accuracy: 0.8901\n",
            "Epoch 52/100\n",
            "7/7 [==============================] - 1s 85ms/step - loss: 12.5801 - accuracy: 0.7966 - val_loss: 6.0189 - val_accuracy: 0.8907\n",
            "Epoch 53/100\n",
            "7/7 [==============================] - 1s 84ms/step - loss: 12.5478 - accuracy: 0.7966 - val_loss: 5.9975 - val_accuracy: 0.8909\n",
            "Epoch 54/100\n",
            "7/7 [==============================] - 1s 85ms/step - loss: 12.5480 - accuracy: 0.8002 - val_loss: 5.9566 - val_accuracy: 0.8910\n",
            "Epoch 55/100\n",
            "7/7 [==============================] - 1s 84ms/step - loss: 12.4007 - accuracy: 0.8011 - val_loss: 5.9168 - val_accuracy: 0.8915\n",
            "Epoch 56/100\n",
            "7/7 [==============================] - 1s 82ms/step - loss: 12.1728 - accuracy: 0.8009 - val_loss: 5.8963 - val_accuracy: 0.8923\n",
            "Epoch 57/100\n",
            "7/7 [==============================] - 1s 86ms/step - loss: 12.1186 - accuracy: 0.8011 - val_loss: 5.8620 - val_accuracy: 0.8923\n",
            "Epoch 58/100\n",
            "7/7 [==============================] - 1s 84ms/step - loss: 12.1765 - accuracy: 0.8016 - val_loss: 5.8360 - val_accuracy: 0.8933\n",
            "Epoch 59/100\n",
            "7/7 [==============================] - 1s 84ms/step - loss: 12.1355 - accuracy: 0.8011 - val_loss: 5.8116 - val_accuracy: 0.8948\n",
            "Epoch 60/100\n",
            "7/7 [==============================] - 1s 85ms/step - loss: 12.0826 - accuracy: 0.8051 - val_loss: 5.7771 - val_accuracy: 0.8941\n",
            "Epoch 61/100\n",
            "7/7 [==============================] - 1s 84ms/step - loss: 11.9355 - accuracy: 0.8044 - val_loss: 5.7456 - val_accuracy: 0.8950\n",
            "Epoch 62/100\n",
            "7/7 [==============================] - 1s 86ms/step - loss: 11.9194 - accuracy: 0.8053 - val_loss: 5.7256 - val_accuracy: 0.8953\n",
            "Epoch 63/100\n",
            "7/7 [==============================] - 1s 83ms/step - loss: 11.9257 - accuracy: 0.8020 - val_loss: 5.7110 - val_accuracy: 0.8945\n",
            "Epoch 64/100\n",
            "7/7 [==============================] - 1s 84ms/step - loss: 11.9135 - accuracy: 0.8070 - val_loss: 5.6926 - val_accuracy: 0.8953\n",
            "Epoch 65/100\n",
            "7/7 [==============================] - 1s 83ms/step - loss: 11.6602 - accuracy: 0.8083 - val_loss: 5.6765 - val_accuracy: 0.8960\n",
            "Epoch 66/100\n",
            "7/7 [==============================] - 1s 85ms/step - loss: 11.5680 - accuracy: 0.8071 - val_loss: 5.6414 - val_accuracy: 0.8970\n",
            "Epoch 67/100\n",
            "7/7 [==============================] - 1s 86ms/step - loss: 11.7024 - accuracy: 0.8083 - val_loss: 5.6282 - val_accuracy: 0.8961\n",
            "Epoch 68/100\n",
            "7/7 [==============================] - 1s 83ms/step - loss: 11.4819 - accuracy: 0.8096 - val_loss: 5.6116 - val_accuracy: 0.8966\n",
            "Epoch 69/100\n",
            "7/7 [==============================] - 1s 87ms/step - loss: 11.3589 - accuracy: 0.8111 - val_loss: 5.5917 - val_accuracy: 0.8971\n",
            "Epoch 70/100\n",
            "7/7 [==============================] - 1s 83ms/step - loss: 11.2808 - accuracy: 0.8118 - val_loss: 5.5796 - val_accuracy: 0.8970\n",
            "Epoch 71/100\n",
            "7/7 [==============================] - 1s 84ms/step - loss: 11.2483 - accuracy: 0.8102 - val_loss: 5.5585 - val_accuracy: 0.8974\n",
            "Epoch 72/100\n",
            "7/7 [==============================] - 1s 86ms/step - loss: 10.9723 - accuracy: 0.8145 - val_loss: 5.5411 - val_accuracy: 0.8977\n",
            "Epoch 73/100\n",
            "7/7 [==============================] - 1s 83ms/step - loss: 11.5166 - accuracy: 0.8121 - val_loss: 5.5181 - val_accuracy: 0.8989\n",
            "Epoch 74/100\n",
            "7/7 [==============================] - 1s 86ms/step - loss: 11.2161 - accuracy: 0.8129 - val_loss: 5.4951 - val_accuracy: 0.8985\n",
            "Epoch 75/100\n",
            "7/7 [==============================] - 1s 83ms/step - loss: 11.0346 - accuracy: 0.8165 - val_loss: 5.4759 - val_accuracy: 0.8985\n",
            "Epoch 76/100\n",
            "7/7 [==============================] - 1s 86ms/step - loss: 11.0932 - accuracy: 0.8144 - val_loss: 5.4562 - val_accuracy: 0.8997\n",
            "Epoch 77/100\n",
            "7/7 [==============================] - 1s 83ms/step - loss: 10.9560 - accuracy: 0.8184 - val_loss: 5.4300 - val_accuracy: 0.9003\n",
            "Epoch 78/100\n",
            "7/7 [==============================] - 1s 84ms/step - loss: 11.0310 - accuracy: 0.8159 - val_loss: 5.4067 - val_accuracy: 0.9003\n",
            "Epoch 79/100\n",
            "7/7 [==============================] - 1s 88ms/step - loss: 10.7256 - accuracy: 0.8175 - val_loss: 5.3967 - val_accuracy: 0.9000\n",
            "Epoch 80/100\n",
            "7/7 [==============================] - 1s 83ms/step - loss: 10.6288 - accuracy: 0.8199 - val_loss: 5.3917 - val_accuracy: 0.9003\n"
          ]
        },
        {
          "output_type": "execute_result",
          "data": {
            "text/plain": [
              "<keras.callbacks.History at 0x7fbfd78f9880>"
            ]
          },
          "metadata": {},
          "execution_count": 27
        }
      ],
      "source": [
        "callbacks = [EarlyStopping(monitor='val_accuracy', patience=3)] \n",
        "model.fit(X_train, Y_train, epochs=100,batch_size=6000, validation_split = 0.2, callbacks=callbacks)"
      ]
    },
    {
      "cell_type": "code",
      "execution_count": 28,
      "metadata": {
        "id": "gn45TpJqBckP"
      },
      "outputs": [],
      "source": [
        "results = model.evaluate(x_test,  y_test, verbose = 0)"
      ]
    },
    {
      "cell_type": "code",
      "execution_count": 29,
      "metadata": {
        "id": "wyVhKv7yBk12",
        "colab": {
          "base_uri": "https://localhost:8080/"
        },
        "outputId": "ba1c8cae-2333-463c-d3a4-bbddf9aa85e4"
      },
      "outputs": [
        {
          "output_type": "stream",
          "name": "stdout",
          "text": [
            "test loss, test acc: [4.773448467254639, 0.9096999764442444]\n"
          ]
        }
      ],
      "source": [
        "print('test loss, test acc:', results)"
      ]
    },
    {
      "cell_type": "code",
      "execution_count": null,
      "metadata": {
        "id": "ifeYaPTuEZRZ"
      },
      "outputs": [],
      "source": []
    },
    {
      "cell_type": "code",
      "execution_count": 30,
      "metadata": {
        "id": "rYZfrAU1BpZi"
      },
      "outputs": [],
      "source": [
        "model = Sequential([\n",
        "    Flatten(input_shape=(28, 28)),   \n",
        "    Dense(128, activation='LeakyReLU'),\n",
        "    Dense(10, activation='softmax'),  \n",
        "])"
      ]
    },
    {
      "cell_type": "code",
      "execution_count": 31,
      "metadata": {
        "id": "RuQB5rkBBvWm"
      },
      "outputs": [],
      "source": [
        "model.compile(optimizer='Adagrad',\n",
        "              loss='sparse_categorical_crossentropy',\n",
        "              metrics=['accuracy'])"
      ]
    },
    {
      "cell_type": "code",
      "execution_count": 32,
      "metadata": {
        "id": "SAGeMZvmB2cx",
        "colab": {
          "base_uri": "https://localhost:8080/"
        },
        "outputId": "80647a35-275b-4563-db2a-4e015393fa48"
      },
      "outputs": [
        {
          "output_type": "stream",
          "name": "stdout",
          "text": [
            "Epoch 1/100\n",
            "7/7 [==============================] - 1s 99ms/step - loss: 86.3278 - accuracy: 0.2590 - val_loss: 42.0766 - val_accuracy: 0.4196\n",
            "Epoch 2/100\n",
            "7/7 [==============================] - 1s 77ms/step - loss: 34.0007 - accuracy: 0.4925 - val_loss: 26.3889 - val_accuracy: 0.5660\n",
            "Epoch 3/100\n",
            "7/7 [==============================] - 1s 77ms/step - loss: 23.3280 - accuracy: 0.6036 - val_loss: 20.2235 - val_accuracy: 0.6386\n",
            "Epoch 4/100\n",
            "7/7 [==============================] - 1s 74ms/step - loss: 18.4533 - accuracy: 0.6635 - val_loss: 16.8684 - val_accuracy: 0.6835\n",
            "Epoch 5/100\n",
            "7/7 [==============================] - 1s 77ms/step - loss: 15.6319 - accuracy: 0.7021 - val_loss: 14.7478 - val_accuracy: 0.7150\n",
            "Epoch 6/100\n",
            "7/7 [==============================] - 1s 79ms/step - loss: 13.7588 - accuracy: 0.7291 - val_loss: 13.2588 - val_accuracy: 0.7364\n",
            "Epoch 7/100\n",
            "7/7 [==============================] - 1s 77ms/step - loss: 12.4251 - accuracy: 0.7487 - val_loss: 12.1957 - val_accuracy: 0.7544\n",
            "Epoch 8/100\n",
            "7/7 [==============================] - 1s 114ms/step - loss: 11.3937 - accuracy: 0.7639 - val_loss: 11.3478 - val_accuracy: 0.7655\n",
            "Epoch 9/100\n",
            "7/7 [==============================] - 1s 135ms/step - loss: 10.5723 - accuracy: 0.7762 - val_loss: 10.6376 - val_accuracy: 0.7775\n",
            "Epoch 10/100\n",
            "7/7 [==============================] - 1s 135ms/step - loss: 9.9085 - accuracy: 0.7868 - val_loss: 10.0609 - val_accuracy: 0.7850\n",
            "Epoch 11/100\n",
            "7/7 [==============================] - 1s 101ms/step - loss: 9.3477 - accuracy: 0.7950 - val_loss: 9.5771 - val_accuracy: 0.7943\n",
            "Epoch 12/100\n",
            "7/7 [==============================] - 1s 77ms/step - loss: 8.8647 - accuracy: 0.8034 - val_loss: 9.1762 - val_accuracy: 0.8007\n",
            "Epoch 13/100\n",
            "7/7 [==============================] - 1s 73ms/step - loss: 8.4599 - accuracy: 0.8096 - val_loss: 8.8128 - val_accuracy: 0.8070\n",
            "Epoch 14/100\n",
            "7/7 [==============================] - 1s 75ms/step - loss: 8.1016 - accuracy: 0.8153 - val_loss: 8.5024 - val_accuracy: 0.8116\n",
            "Epoch 15/100\n",
            "7/7 [==============================] - 1s 75ms/step - loss: 7.7785 - accuracy: 0.8214 - val_loss: 8.2164 - val_accuracy: 0.8183\n",
            "Epoch 16/100\n",
            "7/7 [==============================] - 1s 77ms/step - loss: 7.4967 - accuracy: 0.8260 - val_loss: 7.9828 - val_accuracy: 0.8221\n",
            "Epoch 17/100\n",
            "7/7 [==============================] - 1s 74ms/step - loss: 7.2452 - accuracy: 0.8303 - val_loss: 7.7393 - val_accuracy: 0.8246\n",
            "Epoch 18/100\n",
            "7/7 [==============================] - 1s 76ms/step - loss: 7.0085 - accuracy: 0.8328 - val_loss: 7.5380 - val_accuracy: 0.8280\n",
            "Epoch 19/100\n",
            "7/7 [==============================] - 1s 76ms/step - loss: 6.8020 - accuracy: 0.8372 - val_loss: 7.3605 - val_accuracy: 0.8288\n",
            "Epoch 20/100\n",
            "7/7 [==============================] - 1s 75ms/step - loss: 6.6096 - accuracy: 0.8402 - val_loss: 7.2175 - val_accuracy: 0.8308\n",
            "Epoch 21/100\n",
            "7/7 [==============================] - 1s 75ms/step - loss: 6.4334 - accuracy: 0.8436 - val_loss: 7.0392 - val_accuracy: 0.8351\n",
            "Epoch 22/100\n",
            "7/7 [==============================] - 1s 76ms/step - loss: 6.2766 - accuracy: 0.8463 - val_loss: 6.8920 - val_accuracy: 0.8367\n",
            "Epoch 23/100\n",
            "7/7 [==============================] - 1s 74ms/step - loss: 6.1124 - accuracy: 0.8488 - val_loss: 6.7483 - val_accuracy: 0.8400\n",
            "Epoch 24/100\n",
            "7/7 [==============================] - 1s 75ms/step - loss: 5.9728 - accuracy: 0.8516 - val_loss: 6.6348 - val_accuracy: 0.8408\n",
            "Epoch 25/100\n",
            "7/7 [==============================] - 1s 73ms/step - loss: 5.8399 - accuracy: 0.8533 - val_loss: 6.5149 - val_accuracy: 0.8423\n",
            "Epoch 26/100\n",
            "7/7 [==============================] - 1s 75ms/step - loss: 5.7132 - accuracy: 0.8554 - val_loss: 6.4281 - val_accuracy: 0.8443\n",
            "Epoch 27/100\n",
            "7/7 [==============================] - 1s 75ms/step - loss: 5.5993 - accuracy: 0.8567 - val_loss: 6.2979 - val_accuracy: 0.8461\n",
            "Epoch 28/100\n",
            "7/7 [==============================] - 1s 75ms/step - loss: 5.4817 - accuracy: 0.8595 - val_loss: 6.1970 - val_accuracy: 0.8486\n",
            "Epoch 29/100\n",
            "7/7 [==============================] - 1s 74ms/step - loss: 5.3742 - accuracy: 0.8612 - val_loss: 6.1124 - val_accuracy: 0.8489\n",
            "Epoch 30/100\n",
            "7/7 [==============================] - 1s 77ms/step - loss: 5.2764 - accuracy: 0.8637 - val_loss: 6.0462 - val_accuracy: 0.8495\n",
            "Epoch 31/100\n",
            "7/7 [==============================] - 1s 75ms/step - loss: 5.1851 - accuracy: 0.8646 - val_loss: 5.9383 - val_accuracy: 0.8514\n",
            "Epoch 32/100\n",
            "7/7 [==============================] - 1s 75ms/step - loss: 5.0908 - accuracy: 0.8659 - val_loss: 5.8656 - val_accuracy: 0.8536\n",
            "Epoch 33/100\n",
            "7/7 [==============================] - 1s 76ms/step - loss: 5.0053 - accuracy: 0.8680 - val_loss: 5.7854 - val_accuracy: 0.8543\n",
            "Epoch 34/100\n",
            "7/7 [==============================] - 1s 77ms/step - loss: 4.9267 - accuracy: 0.8689 - val_loss: 5.7077 - val_accuracy: 0.8556\n",
            "Epoch 35/100\n",
            "7/7 [==============================] - 1s 75ms/step - loss: 4.8471 - accuracy: 0.8702 - val_loss: 5.6499 - val_accuracy: 0.8569\n",
            "Epoch 36/100\n",
            "7/7 [==============================] - 1s 75ms/step - loss: 4.7718 - accuracy: 0.8710 - val_loss: 5.5724 - val_accuracy: 0.8576\n",
            "Epoch 37/100\n",
            "7/7 [==============================] - 1s 75ms/step - loss: 4.7054 - accuracy: 0.8726 - val_loss: 5.5340 - val_accuracy: 0.8580\n",
            "Epoch 38/100\n",
            "7/7 [==============================] - 1s 77ms/step - loss: 4.6314 - accuracy: 0.8736 - val_loss: 5.4501 - val_accuracy: 0.8607\n",
            "Epoch 39/100\n",
            "7/7 [==============================] - 1s 76ms/step - loss: 4.5632 - accuracy: 0.8748 - val_loss: 5.3875 - val_accuracy: 0.8617\n",
            "Epoch 40/100\n",
            "7/7 [==============================] - 1s 74ms/step - loss: 4.5041 - accuracy: 0.8762 - val_loss: 5.3493 - val_accuracy: 0.8618\n",
            "Epoch 41/100\n",
            "7/7 [==============================] - 1s 74ms/step - loss: 4.4394 - accuracy: 0.8762 - val_loss: 5.2948 - val_accuracy: 0.8630\n",
            "Epoch 42/100\n",
            "7/7 [==============================] - 1s 78ms/step - loss: 4.3832 - accuracy: 0.8773 - val_loss: 5.2617 - val_accuracy: 0.8625\n",
            "Epoch 43/100\n",
            "7/7 [==============================] - 1s 74ms/step - loss: 4.3226 - accuracy: 0.8787 - val_loss: 5.1849 - val_accuracy: 0.8649\n",
            "Epoch 44/100\n",
            "7/7 [==============================] - 1s 75ms/step - loss: 4.2624 - accuracy: 0.8798 - val_loss: 5.1389 - val_accuracy: 0.8646\n",
            "Epoch 45/100\n",
            "7/7 [==============================] - 1s 76ms/step - loss: 4.2075 - accuracy: 0.8807 - val_loss: 5.0914 - val_accuracy: 0.8657\n",
            "Epoch 46/100\n",
            "7/7 [==============================] - 1s 74ms/step - loss: 4.1604 - accuracy: 0.8815 - val_loss: 5.0662 - val_accuracy: 0.8661\n",
            "Epoch 47/100\n",
            "7/7 [==============================] - 1s 77ms/step - loss: 4.1072 - accuracy: 0.8823 - val_loss: 5.0086 - val_accuracy: 0.8661\n",
            "Epoch 48/100\n",
            "7/7 [==============================] - 1s 75ms/step - loss: 4.0571 - accuracy: 0.8828 - val_loss: 4.9822 - val_accuracy: 0.8676\n",
            "Epoch 49/100\n",
            "7/7 [==============================] - 1s 76ms/step - loss: 4.0089 - accuracy: 0.8838 - val_loss: 4.9290 - val_accuracy: 0.8670\n",
            "Epoch 50/100\n",
            "7/7 [==============================] - 1s 80ms/step - loss: 3.9648 - accuracy: 0.8848 - val_loss: 4.9019 - val_accuracy: 0.8682\n",
            "Epoch 51/100\n",
            "7/7 [==============================] - 1s 76ms/step - loss: 3.9188 - accuracy: 0.8852 - val_loss: 4.8563 - val_accuracy: 0.8690\n",
            "Epoch 52/100\n",
            "7/7 [==============================] - 1s 74ms/step - loss: 3.8736 - accuracy: 0.8854 - val_loss: 4.8194 - val_accuracy: 0.8689\n",
            "Epoch 53/100\n",
            "7/7 [==============================] - 1s 77ms/step - loss: 3.8299 - accuracy: 0.8867 - val_loss: 4.7956 - val_accuracy: 0.8691\n",
            "Epoch 54/100\n",
            "7/7 [==============================] - 1s 75ms/step - loss: 3.7941 - accuracy: 0.8865 - val_loss: 4.7543 - val_accuracy: 0.8700\n",
            "Epoch 55/100\n",
            "7/7 [==============================] - 1s 77ms/step - loss: 3.7579 - accuracy: 0.8875 - val_loss: 4.7131 - val_accuracy: 0.8700\n",
            "Epoch 56/100\n",
            "7/7 [==============================] - 1s 76ms/step - loss: 3.7116 - accuracy: 0.8891 - val_loss: 4.6850 - val_accuracy: 0.8706\n",
            "Epoch 57/100\n",
            "7/7 [==============================] - 1s 76ms/step - loss: 3.6732 - accuracy: 0.8892 - val_loss: 4.6522 - val_accuracy: 0.8714\n",
            "Epoch 58/100\n",
            "7/7 [==============================] - 1s 74ms/step - loss: 3.6374 - accuracy: 0.8904 - val_loss: 4.6353 - val_accuracy: 0.8717\n",
            "Epoch 59/100\n",
            "7/7 [==============================] - 1s 77ms/step - loss: 3.6010 - accuracy: 0.8906 - val_loss: 4.5880 - val_accuracy: 0.8726\n",
            "Epoch 60/100\n",
            "7/7 [==============================] - 1s 76ms/step - loss: 3.5668 - accuracy: 0.8920 - val_loss: 4.5697 - val_accuracy: 0.8721\n",
            "Epoch 61/100\n",
            "7/7 [==============================] - 1s 77ms/step - loss: 3.5321 - accuracy: 0.8921 - val_loss: 4.5265 - val_accuracy: 0.8732\n",
            "Epoch 62/100\n",
            "7/7 [==============================] - 1s 76ms/step - loss: 3.5037 - accuracy: 0.8924 - val_loss: 4.5072 - val_accuracy: 0.8728\n",
            "Epoch 63/100\n",
            "7/7 [==============================] - 1s 76ms/step - loss: 3.4676 - accuracy: 0.8937 - val_loss: 4.4915 - val_accuracy: 0.8736\n",
            "Epoch 64/100\n",
            "7/7 [==============================] - 1s 75ms/step - loss: 3.4334 - accuracy: 0.8940 - val_loss: 4.4507 - val_accuracy: 0.8740\n",
            "Epoch 65/100\n",
            "7/7 [==============================] - 1s 75ms/step - loss: 3.4052 - accuracy: 0.8943 - val_loss: 4.4210 - val_accuracy: 0.8736\n",
            "Epoch 66/100\n",
            "7/7 [==============================] - 1s 76ms/step - loss: 3.3721 - accuracy: 0.8949 - val_loss: 4.4066 - val_accuracy: 0.8739\n",
            "Epoch 67/100\n",
            "7/7 [==============================] - 1s 78ms/step - loss: 3.3412 - accuracy: 0.8957 - val_loss: 4.3857 - val_accuracy: 0.8750\n",
            "Epoch 68/100\n",
            "7/7 [==============================] - 1s 75ms/step - loss: 3.3149 - accuracy: 0.8965 - val_loss: 4.3409 - val_accuracy: 0.8756\n",
            "Epoch 69/100\n",
            "7/7 [==============================] - 1s 81ms/step - loss: 3.2854 - accuracy: 0.8966 - val_loss: 4.3340 - val_accuracy: 0.8749\n",
            "Epoch 70/100\n",
            "7/7 [==============================] - 1s 75ms/step - loss: 3.2581 - accuracy: 0.8967 - val_loss: 4.2977 - val_accuracy: 0.8761\n",
            "Epoch 71/100\n",
            "7/7 [==============================] - 1s 75ms/step - loss: 3.2313 - accuracy: 0.8977 - val_loss: 4.2732 - val_accuracy: 0.8760\n",
            "Epoch 72/100\n",
            "7/7 [==============================] - 1s 75ms/step - loss: 3.2048 - accuracy: 0.8981 - val_loss: 4.2597 - val_accuracy: 0.8764\n",
            "Epoch 73/100\n",
            "7/7 [==============================] - 1s 74ms/step - loss: 3.1778 - accuracy: 0.8982 - val_loss: 4.2363 - val_accuracy: 0.8771\n",
            "Epoch 74/100\n",
            "7/7 [==============================] - 1s 77ms/step - loss: 3.1523 - accuracy: 0.8986 - val_loss: 4.2230 - val_accuracy: 0.8758\n",
            "Epoch 75/100\n",
            "7/7 [==============================] - 1s 76ms/step - loss: 3.1253 - accuracy: 0.8996 - val_loss: 4.1940 - val_accuracy: 0.8769\n",
            "Epoch 76/100\n",
            "7/7 [==============================] - 1s 77ms/step - loss: 3.1028 - accuracy: 0.9000 - val_loss: 4.1698 - val_accuracy: 0.8771\n",
            "Epoch 77/100\n",
            "7/7 [==============================] - 1s 77ms/step - loss: 3.0739 - accuracy: 0.9001 - val_loss: 4.1485 - val_accuracy: 0.8783\n",
            "Epoch 78/100\n",
            "7/7 [==============================] - 1s 79ms/step - loss: 3.0532 - accuracy: 0.9008 - val_loss: 4.1271 - val_accuracy: 0.8781\n",
            "Epoch 79/100\n",
            "7/7 [==============================] - 1s 76ms/step - loss: 3.0299 - accuracy: 0.9013 - val_loss: 4.1043 - val_accuracy: 0.8786\n",
            "Epoch 80/100\n",
            "7/7 [==============================] - 1s 79ms/step - loss: 3.0076 - accuracy: 0.9012 - val_loss: 4.0962 - val_accuracy: 0.8784\n",
            "Epoch 81/100\n",
            "7/7 [==============================] - 1s 75ms/step - loss: 2.9828 - accuracy: 0.9020 - val_loss: 4.0675 - val_accuracy: 0.8785\n",
            "Epoch 82/100\n",
            "7/7 [==============================] - 1s 75ms/step - loss: 2.9593 - accuracy: 0.9023 - val_loss: 4.0587 - val_accuracy: 0.8777\n",
            "Epoch 83/100\n",
            "7/7 [==============================] - 1s 79ms/step - loss: 2.9380 - accuracy: 0.9022 - val_loss: 4.0350 - val_accuracy: 0.8776\n",
            "Epoch 84/100\n",
            "7/7 [==============================] - 1s 77ms/step - loss: 2.9150 - accuracy: 0.9027 - val_loss: 4.0231 - val_accuracy: 0.8791\n",
            "Epoch 85/100\n",
            "7/7 [==============================] - 1s 77ms/step - loss: 2.8947 - accuracy: 0.9036 - val_loss: 4.0032 - val_accuracy: 0.8796\n",
            "Epoch 86/100\n",
            "7/7 [==============================] - 1s 77ms/step - loss: 2.8737 - accuracy: 0.9040 - val_loss: 3.9939 - val_accuracy: 0.8794\n",
            "Epoch 87/100\n",
            "7/7 [==============================] - 1s 74ms/step - loss: 2.8532 - accuracy: 0.9035 - val_loss: 3.9831 - val_accuracy: 0.8791\n",
            "Epoch 88/100\n",
            "7/7 [==============================] - 1s 76ms/step - loss: 2.8375 - accuracy: 0.9039 - val_loss: 3.9743 - val_accuracy: 0.8795\n",
            "Epoch 89/100\n",
            "7/7 [==============================] - 1s 80ms/step - loss: 2.8156 - accuracy: 0.9047 - val_loss: 3.9446 - val_accuracy: 0.8795\n",
            "Epoch 90/100\n",
            "7/7 [==============================] - 1s 78ms/step - loss: 2.7951 - accuracy: 0.9046 - val_loss: 3.9253 - val_accuracy: 0.8793\n",
            "Epoch 91/100\n",
            "7/7 [==============================] - 1s 76ms/step - loss: 2.7733 - accuracy: 0.9049 - val_loss: 3.9064 - val_accuracy: 0.8799\n",
            "Epoch 92/100\n",
            "7/7 [==============================] - 1s 76ms/step - loss: 2.7564 - accuracy: 0.9060 - val_loss: 3.8861 - val_accuracy: 0.8801\n",
            "Epoch 93/100\n",
            "7/7 [==============================] - 1s 77ms/step - loss: 2.7328 - accuracy: 0.9061 - val_loss: 3.8759 - val_accuracy: 0.8809\n",
            "Epoch 94/100\n",
            "7/7 [==============================] - 1s 76ms/step - loss: 2.7161 - accuracy: 0.9060 - val_loss: 3.8576 - val_accuracy: 0.8810\n",
            "Epoch 95/100\n",
            "7/7 [==============================] - 1s 76ms/step - loss: 2.6979 - accuracy: 0.9070 - val_loss: 3.8417 - val_accuracy: 0.8803\n",
            "Epoch 96/100\n",
            "7/7 [==============================] - 1s 76ms/step - loss: 2.6809 - accuracy: 0.9075 - val_loss: 3.8333 - val_accuracy: 0.8810\n",
            "Epoch 97/100\n",
            "7/7 [==============================] - 1s 78ms/step - loss: 2.6617 - accuracy: 0.9071 - val_loss: 3.8090 - val_accuracy: 0.8806\n",
            "Epoch 98/100\n",
            "7/7 [==============================] - 1s 79ms/step - loss: 2.6467 - accuracy: 0.9069 - val_loss: 3.7975 - val_accuracy: 0.8814\n",
            "Epoch 99/100\n",
            "7/7 [==============================] - 1s 77ms/step - loss: 2.6271 - accuracy: 0.9077 - val_loss: 3.7880 - val_accuracy: 0.8811\n",
            "Epoch 100/100\n",
            "7/7 [==============================] - 1s 77ms/step - loss: 2.6112 - accuracy: 0.9073 - val_loss: 3.7662 - val_accuracy: 0.8809\n"
          ]
        },
        {
          "output_type": "execute_result",
          "data": {
            "text/plain": [
              "<keras.callbacks.History at 0x7fbfd757a310>"
            ]
          },
          "metadata": {},
          "execution_count": 32
        }
      ],
      "source": [
        "model.fit(X_train, Y_train, epochs=100,batch_size=6000, validation_split = 0.2)"
      ]
    },
    {
      "cell_type": "code",
      "execution_count": 33,
      "metadata": {
        "id": "VNKICCFgB3j3"
      },
      "outputs": [],
      "source": [
        "results = model.evaluate(x_test,  y_test, verbose = 0)"
      ]
    },
    {
      "cell_type": "code",
      "execution_count": 34,
      "metadata": {
        "id": "ejxBV4cCB8oq",
        "colab": {
          "base_uri": "https://localhost:8080/"
        },
        "outputId": "d814036b-0a7a-4908-ee54-a465330a54a6"
      },
      "outputs": [
        {
          "output_type": "stream",
          "name": "stdout",
          "text": [
            "test loss, test acc: [3.534374237060547, 0.8873999714851379]\n"
          ]
        }
      ],
      "source": [
        "print('test loss, test acc:', results)"
      ]
    },
    {
      "cell_type": "code",
      "execution_count": 35,
      "metadata": {
        "id": "YOLJbvILCF8-"
      },
      "outputs": [],
      "source": [
        "model = Sequential([\n",
        "    Flatten(input_shape=(28, 28)),   \n",
        "    Dense(512, activation='selu'),\n",
        "    Dropout(0.6),                 \n",
        "    Dense(128, activation='selu'), \n",
        "    Dropout(0.4),                  \n",
        "    Dense(10, activation='softmax'),  \n",
        "])"
      ]
    },
    {
      "cell_type": "code",
      "execution_count": 36,
      "metadata": {
        "id": "hUj6rY_FCMwG"
      },
      "outputs": [],
      "source": [
        "model.compile(optimizer='Nadam',\n",
        "              loss='sparse_categorical_crossentropy',\n",
        "              metrics=['accuracy'])"
      ]
    },
    {
      "cell_type": "code",
      "execution_count": 37,
      "metadata": {
        "id": "fJUzRJwPCS5d",
        "colab": {
          "base_uri": "https://localhost:8080/"
        },
        "outputId": "dd2d5eb1-2226-4289-fa2b-bfe50a716a45"
      },
      "outputs": [
        {
          "output_type": "stream",
          "name": "stdout",
          "text": [
            "Epoch 1/100\n",
            "7/7 [==============================] - 3s 325ms/step - loss: 119.8088 - accuracy: 0.2262 - val_loss: 6.3699 - val_accuracy: 0.6818\n",
            "Epoch 2/100\n",
            "7/7 [==============================] - 2s 298ms/step - loss: 30.9007 - accuracy: 0.4664 - val_loss: 2.6164 - val_accuracy: 0.7765\n",
            "Epoch 3/100\n",
            "7/7 [==============================] - 2s 292ms/step - loss: 15.5575 - accuracy: 0.5801 - val_loss: 1.7984 - val_accuracy: 0.7922\n",
            "Epoch 4/100\n",
            "7/7 [==============================] - 2s 296ms/step - loss: 10.0896 - accuracy: 0.6344 - val_loss: 1.3148 - val_accuracy: 0.8095\n",
            "Epoch 5/100\n",
            "7/7 [==============================] - 2s 293ms/step - loss: 7.4657 - accuracy: 0.6607 - val_loss: 1.0554 - val_accuracy: 0.8184\n",
            "Epoch 6/100\n",
            "7/7 [==============================] - 2s 292ms/step - loss: 5.8878 - accuracy: 0.6851 - val_loss: 0.9884 - val_accuracy: 0.8092\n",
            "Epoch 7/100\n",
            "7/7 [==============================] - 2s 294ms/step - loss: 4.8797 - accuracy: 0.6946 - val_loss: 0.8967 - val_accuracy: 0.8010\n",
            "Epoch 8/100\n",
            "7/7 [==============================] - 2s 292ms/step - loss: 4.2199 - accuracy: 0.7011 - val_loss: 0.8541 - val_accuracy: 0.7872\n"
          ]
        },
        {
          "output_type": "execute_result",
          "data": {
            "text/plain": [
              "<keras.callbacks.History at 0x7fbfd73ffeb0>"
            ]
          },
          "metadata": {},
          "execution_count": 37
        }
      ],
      "source": [
        "callbacks = [EarlyStopping(monitor='val_accuracy', patience=3)] \n",
        "model.fit(X_train, Y_train, epochs=100,batch_size=6000, validation_split = 0.2, callbacks=callbacks)"
      ]
    },
    {
      "cell_type": "code",
      "execution_count": 38,
      "metadata": {
        "id": "18ttMTGaCWpF"
      },
      "outputs": [],
      "source": [
        "model = Sequential([\n",
        "    Flatten(input_shape=(28, 28)),   \n",
        "    Dense(512, activation='elu'),\n",
        "    Dropout(0.2),               \n",
        "    Dense(128, activation='elu'), \n",
        "    Dropout(0.2),                 \n",
        "    Dense(10, activation='softmax'), \n",
        "])"
      ]
    },
    {
      "cell_type": "code",
      "execution_count": 39,
      "metadata": {
        "id": "Av59Ra-0Ck85"
      },
      "outputs": [],
      "source": [
        "model.compile(optimizer='Nadam', \n",
        "              loss='sparse_categorical_crossentropy',\n",
        "              metrics=['accuracy'])"
      ]
    },
    {
      "cell_type": "code",
      "execution_count": 40,
      "metadata": {
        "id": "Ooyx3x5VCs_R",
        "colab": {
          "base_uri": "https://localhost:8080/"
        },
        "outputId": "2fd57a93-c18e-4fae-8c4f-c6166714d606"
      },
      "outputs": [
        {
          "output_type": "stream",
          "name": "stdout",
          "text": [
            "Epoch 1/100\n",
            "7/7 [==============================] - 3s 319ms/step - loss: 59.6086 - accuracy: 0.3339 - val_loss: 7.1816 - val_accuracy: 0.7295\n",
            "Epoch 2/100\n",
            "7/7 [==============================] - 2s 299ms/step - loss: 11.2590 - accuracy: 0.6583 - val_loss: 2.9378 - val_accuracy: 0.8241\n",
            "Epoch 3/100\n",
            "7/7 [==============================] - 2s 290ms/step - loss: 5.6969 - accuracy: 0.7296 - val_loss: 1.6737 - val_accuracy: 0.8364\n",
            "Epoch 4/100\n",
            "7/7 [==============================] - 2s 289ms/step - loss: 3.6151 - accuracy: 0.7409 - val_loss: 1.1298 - val_accuracy: 0.7955\n",
            "Epoch 5/100\n",
            "7/7 [==============================] - 2s 293ms/step - loss: 2.5701 - accuracy: 0.7156 - val_loss: 0.9690 - val_accuracy: 0.7351\n",
            "Epoch 6/100\n",
            "7/7 [==============================] - 2s 292ms/step - loss: 1.9731 - accuracy: 0.6834 - val_loss: 0.9295 - val_accuracy: 0.7008\n"
          ]
        },
        {
          "output_type": "execute_result",
          "data": {
            "text/plain": [
              "<keras.callbacks.History at 0x7fbfd7250f70>"
            ]
          },
          "metadata": {},
          "execution_count": 40
        }
      ],
      "source": [
        "callbacks = [EarlyStopping(monitor='val_accuracy', patience=3)]\n",
        "model.fit(X_train, Y_train, epochs=100,batch_size=6000, validation_split = 0.2, callbacks=callbacks)"
      ]
    },
    {
      "cell_type": "code",
      "execution_count": 41,
      "metadata": {
        "id": "Q7st7uMaCvwI"
      },
      "outputs": [],
      "source": [
        "results = model.evaluate(x_test,  y_test, verbose = 0)"
      ]
    },
    {
      "cell_type": "code",
      "execution_count": 42,
      "metadata": {
        "id": "m4bkLfgECzP0",
        "colab": {
          "base_uri": "https://localhost:8080/"
        },
        "outputId": "2caf1637-bb60-4d2f-8a64-bd45f9423edb"
      },
      "outputs": [
        {
          "output_type": "stream",
          "name": "stdout",
          "text": [
            "test loss, test acc: [0.8802816271781921, 0.7095999717712402]\n"
          ]
        }
      ],
      "source": [
        "print('test loss, test acc:', results)"
      ]
    },
    {
      "cell_type": "markdown",
      "metadata": {
        "id": "ITimcQmCC-4Z"
      },
      "source": [
        "IRIS DATASET"
      ]
    },
    {
      "cell_type": "code",
      "execution_count": 43,
      "metadata": {
        "id": "oS7XPSvjDA8E"
      },
      "outputs": [],
      "source": [
        "from sklearn import datasets\n",
        "iris = datasets.load_iris()\n",
        "X = iris.data\n",
        "Y = iris.target"
      ]
    },
    {
      "cell_type": "code",
      "execution_count": 44,
      "metadata": {
        "id": "eyR53nxTDEf0"
      },
      "outputs": [],
      "source": [
        "from sklearn.model_selection import train_test_split\n",
        "X_train, X_test, Y_train, Y_test = train_test_split(X, Y, test_size=0.3, stratify=Y, random_state=42)"
      ]
    },
    {
      "cell_type": "code",
      "execution_count": 45,
      "metadata": {
        "id": "VddAprInDH-M",
        "colab": {
          "base_uri": "https://localhost:8080/"
        },
        "outputId": "f1ff77d9-d0da-4919-9134-ef77ec222730"
      },
      "outputs": [
        {
          "output_type": "execute_result",
          "data": {
            "text/plain": [
              "((105, 4), (105,), (45, 4), (45,))"
            ]
          },
          "metadata": {},
          "execution_count": 45
        }
      ],
      "source": [
        "X_train.shape, Y_train.shape, X_test.shape, Y_test.shape"
      ]
    },
    {
      "cell_type": "code",
      "execution_count": 46,
      "metadata": {
        "id": "hmHJPiXFDQek"
      },
      "outputs": [],
      "source": [
        "model1 = Sequential([\n",
        "    Flatten(input_shape=(4,)),    \n",
        "    Dense(400, activation='sigmoid'),\n",
        "     Dropout(0.5), \n",
        "    Dense(150, activation='sigmoid'), \n",
        "     Dropout(0.5), \n",
        "    Dense(10, activation='softmax'), \n",
        "])"
      ]
    },
    {
      "cell_type": "code",
      "execution_count": 47,
      "metadata": {
        "id": "amCPHbkLDSXj"
      },
      "outputs": [],
      "source": [
        "model1.compile(optimizer='adam',\n",
        "              loss='sparse_categorical_crossentropy',\n",
        "              metrics=['accuracy'])"
      ]
    },
    {
      "cell_type": "code",
      "execution_count": 48,
      "metadata": {
        "id": "GRpMoK8vDVtj",
        "colab": {
          "base_uri": "https://localhost:8080/"
        },
        "outputId": "8a4cff31-2aea-452d-de8e-32553fce3fc0"
      },
      "outputs": [
        {
          "output_type": "stream",
          "name": "stdout",
          "text": [
            "Epoch 1/10\n",
            "1/1 [==============================] - 1s 798ms/step - loss: 3.0318 - accuracy: 0.1071 - val_loss: 2.3372 - val_accuracy: 0.0000e+00\n",
            "Epoch 2/10\n",
            "1/1 [==============================] - 0s 32ms/step - loss: 2.5440 - accuracy: 0.1190 - val_loss: 1.9924 - val_accuracy: 0.2381\n",
            "Epoch 3/10\n",
            "1/1 [==============================] - 0s 33ms/step - loss: 2.2372 - accuracy: 0.2024 - val_loss: 1.7357 - val_accuracy: 0.2381\n",
            "Epoch 4/10\n",
            "1/1 [==============================] - 0s 29ms/step - loss: 2.0681 - accuracy: 0.2262 - val_loss: 1.5511 - val_accuracy: 0.2381\n",
            "Epoch 5/10\n",
            "1/1 [==============================] - 0s 29ms/step - loss: 1.8973 - accuracy: 0.2619 - val_loss: 1.4193 - val_accuracy: 0.2381\n"
          ]
        },
        {
          "output_type": "execute_result",
          "data": {
            "text/plain": [
              "<keras.callbacks.History at 0x7fbfd4109e20>"
            ]
          },
          "metadata": {},
          "execution_count": 48
        }
      ],
      "source": [
        "callbacks = [EarlyStopping(monitor='val_accuracy', patience=3)] \n",
        "model1.fit(X_train, Y_train, epochs=10,batch_size=200, validation_split = 0.2, callbacks=callbacks)"
      ]
    },
    {
      "cell_type": "code",
      "execution_count": 49,
      "metadata": {
        "id": "m7TukqukDc4j"
      },
      "outputs": [],
      "source": [
        "from keras.utils.np_utils import to_categorical\n",
        "train_labels = to_categorical(Y_train)\n",
        "test_labels = to_categorical(Y_test)"
      ]
    },
    {
      "cell_type": "code",
      "execution_count": 50,
      "metadata": {
        "id": "U8OnMU3zDgoK",
        "colab": {
          "base_uri": "https://localhost:8080/"
        },
        "outputId": "cda42cab-d2d9-4e5d-cbe0-167bad6a95b8"
      },
      "outputs": [
        {
          "output_type": "stream",
          "name": "stdout",
          "text": [
            "Epoch 1/40\n",
            "2/2 [==============================] - 0s 7ms/step - loss: 1.5851 - accuracy: 0.3429\n",
            "Epoch 2/40\n",
            "2/2 [==============================] - 0s 7ms/step - loss: 1.4561 - accuracy: 0.3048\n",
            "Epoch 3/40\n",
            "2/2 [==============================] - 0s 7ms/step - loss: 1.3961 - accuracy: 0.4095\n",
            "Epoch 4/40\n",
            "2/2 [==============================] - 0s 6ms/step - loss: 1.3493 - accuracy: 0.3143\n",
            "Epoch 5/40\n",
            "2/2 [==============================] - 0s 7ms/step - loss: 1.3518 - accuracy: 0.3048\n",
            "Epoch 6/40\n",
            "2/2 [==============================] - 0s 7ms/step - loss: 1.3058 - accuracy: 0.3524\n",
            "Epoch 7/40\n",
            "2/2 [==============================] - 0s 6ms/step - loss: 1.2786 - accuracy: 0.3429\n",
            "Epoch 8/40\n",
            "2/2 [==============================] - 0s 6ms/step - loss: 1.1693 - accuracy: 0.4381\n",
            "Epoch 9/40\n",
            "2/2 [==============================] - 0s 6ms/step - loss: 1.1817 - accuracy: 0.3429\n",
            "Epoch 10/40\n",
            "2/2 [==============================] - 0s 6ms/step - loss: 1.3354 - accuracy: 0.3143\n",
            "Epoch 11/40\n",
            "2/2 [==============================] - 0s 7ms/step - loss: 1.2528 - accuracy: 0.3524\n",
            "Epoch 12/40\n",
            "2/2 [==============================] - 0s 10ms/step - loss: 1.2990 - accuracy: 0.2952\n",
            "Epoch 13/40\n",
            "2/2 [==============================] - 0s 9ms/step - loss: 1.3072 - accuracy: 0.3714\n",
            "Epoch 14/40\n",
            "2/2 [==============================] - 0s 6ms/step - loss: 1.2230 - accuracy: 0.4095\n",
            "Epoch 15/40\n",
            "2/2 [==============================] - 0s 6ms/step - loss: 1.2869 - accuracy: 0.3048\n",
            "Epoch 16/40\n",
            "2/2 [==============================] - 0s 6ms/step - loss: 1.2032 - accuracy: 0.3619\n",
            "Epoch 17/40\n",
            "2/2 [==============================] - 0s 7ms/step - loss: 1.1537 - accuracy: 0.4000\n",
            "Epoch 18/40\n",
            "2/2 [==============================] - 0s 7ms/step - loss: 1.2656 - accuracy: 0.3143\n",
            "Epoch 19/40\n",
            "2/2 [==============================] - 0s 6ms/step - loss: 1.1649 - accuracy: 0.4190\n",
            "Epoch 20/40\n",
            "2/2 [==============================] - 0s 8ms/step - loss: 1.2142 - accuracy: 0.3524\n",
            "Epoch 21/40\n",
            "2/2 [==============================] - 0s 6ms/step - loss: 1.3067 - accuracy: 0.3143\n",
            "Epoch 22/40\n",
            "2/2 [==============================] - 0s 6ms/step - loss: 1.1732 - accuracy: 0.4190\n",
            "Epoch 23/40\n",
            "2/2 [==============================] - 0s 4ms/step - loss: 1.2221 - accuracy: 0.3714\n",
            "Epoch 24/40\n",
            "2/2 [==============================] - 0s 7ms/step - loss: 1.2184 - accuracy: 0.3333\n",
            "Epoch 25/40\n",
            "2/2 [==============================] - 0s 8ms/step - loss: 1.1011 - accuracy: 0.4286\n",
            "Epoch 26/40\n",
            "2/2 [==============================] - 0s 6ms/step - loss: 1.1200 - accuracy: 0.4190\n",
            "Epoch 27/40\n",
            "2/2 [==============================] - 0s 6ms/step - loss: 1.0375 - accuracy: 0.5238\n",
            "Epoch 28/40\n",
            "2/2 [==============================] - 0s 8ms/step - loss: 1.1192 - accuracy: 0.4476\n",
            "Epoch 29/40\n",
            "2/2 [==============================] - 0s 7ms/step - loss: 1.1411 - accuracy: 0.4000\n",
            "Epoch 30/40\n",
            "2/2 [==============================] - 0s 6ms/step - loss: 1.1586 - accuracy: 0.4286\n",
            "Epoch 31/40\n",
            "2/2 [==============================] - 0s 6ms/step - loss: 1.1070 - accuracy: 0.4762\n",
            "Epoch 32/40\n",
            "2/2 [==============================] - 0s 6ms/step - loss: 1.1701 - accuracy: 0.4000\n",
            "Epoch 33/40\n",
            "2/2 [==============================] - 0s 6ms/step - loss: 1.0850 - accuracy: 0.4381\n",
            "Epoch 34/40\n",
            "2/2 [==============================] - 0s 7ms/step - loss: 1.0208 - accuracy: 0.4857\n",
            "Epoch 35/40\n",
            "2/2 [==============================] - 0s 6ms/step - loss: 1.2051 - accuracy: 0.3619\n",
            "Epoch 36/40\n",
            "2/2 [==============================] - 0s 7ms/step - loss: 1.1356 - accuracy: 0.4476\n",
            "Epoch 37/40\n",
            "2/2 [==============================] - 0s 6ms/step - loss: 1.1332 - accuracy: 0.4000\n",
            "Epoch 38/40\n",
            "2/2 [==============================] - 0s 6ms/step - loss: 1.1365 - accuracy: 0.4286\n",
            "Epoch 39/40\n",
            "2/2 [==============================] - 0s 7ms/step - loss: 1.1484 - accuracy: 0.3905\n",
            "Epoch 40/40\n",
            "2/2 [==============================] - 0s 6ms/step - loss: 1.0739 - accuracy: 0.4952\n"
          ]
        },
        {
          "output_type": "execute_result",
          "data": {
            "text/plain": [
              "<keras.callbacks.History at 0x7fbfd7403100>"
            ]
          },
          "metadata": {},
          "execution_count": 50
        }
      ],
      "source": [
        "model1.fit(X_train,Y_train, epochs=40, batch_size=100)\n"
      ]
    },
    {
      "cell_type": "markdown",
      "metadata": {
        "id": "4I0mxz-oDzGr"
      },
      "source": [
        "CIFAR 10 DATASET"
      ]
    },
    {
      "cell_type": "code",
      "execution_count": 51,
      "metadata": {
        "id": "3rwz9xKzDorr",
        "colab": {
          "base_uri": "https://localhost:8080/"
        },
        "outputId": "7194b5df-3b5f-46e4-f1cd-09a961ed4be1"
      },
      "outputs": [
        {
          "output_type": "stream",
          "name": "stdout",
          "text": [
            "Downloading data from https://www.cs.toronto.edu/~kriz/cifar-10-python.tar.gz\n",
            "170498071/170498071 [==============================] - 11s 0us/step\n"
          ]
        },
        {
          "output_type": "execute_result",
          "data": {
            "text/plain": [
              "array([[[[0.61960787, 0.4392157 , 0.19215687],\n",
              "         [0.62352943, 0.43529412, 0.18431373],\n",
              "         [0.64705884, 0.45490196, 0.2       ],\n",
              "         ...,\n",
              "         [0.5372549 , 0.37254903, 0.14117648],\n",
              "         [0.49411765, 0.35686275, 0.14117648],\n",
              "         [0.45490196, 0.33333334, 0.12941177]],\n",
              "\n",
              "        [[0.59607846, 0.4392157 , 0.2       ],\n",
              "         [0.5921569 , 0.43137255, 0.15686275],\n",
              "         [0.62352943, 0.44705883, 0.1764706 ],\n",
              "         ...,\n",
              "         [0.53333336, 0.37254903, 0.12156863],\n",
              "         [0.49019608, 0.35686275, 0.1254902 ],\n",
              "         [0.46666667, 0.34509805, 0.13333334]],\n",
              "\n",
              "        [[0.5921569 , 0.43137255, 0.18431373],\n",
              "         [0.5921569 , 0.42745098, 0.12941177],\n",
              "         [0.61960787, 0.43529412, 0.14117648],\n",
              "         ...,\n",
              "         [0.54509807, 0.38431373, 0.13333334],\n",
              "         [0.50980395, 0.37254903, 0.13333334],\n",
              "         [0.47058824, 0.34901962, 0.12941177]],\n",
              "\n",
              "        ...,\n",
              "\n",
              "        [[0.26666668, 0.4862745 , 0.69411767],\n",
              "         [0.16470589, 0.39215687, 0.5803922 ],\n",
              "         [0.12156863, 0.34509805, 0.5372549 ],\n",
              "         ...,\n",
              "         [0.14901961, 0.38039216, 0.57254905],\n",
              "         [0.05098039, 0.2509804 , 0.42352942],\n",
              "         [0.15686275, 0.33333334, 0.49803922]],\n",
              "\n",
              "        [[0.23921569, 0.45490196, 0.65882355],\n",
              "         [0.19215687, 0.4       , 0.5803922 ],\n",
              "         [0.13725491, 0.33333334, 0.5176471 ],\n",
              "         ...,\n",
              "         [0.10196079, 0.32156864, 0.50980395],\n",
              "         [0.11372549, 0.32156864, 0.49411765],\n",
              "         [0.07843138, 0.2509804 , 0.41960785]],\n",
              "\n",
              "        [[0.21176471, 0.41960785, 0.627451  ],\n",
              "         [0.21960784, 0.4117647 , 0.58431375],\n",
              "         [0.1764706 , 0.34901962, 0.5176471 ],\n",
              "         ...,\n",
              "         [0.09411765, 0.3019608 , 0.4862745 ],\n",
              "         [0.13333334, 0.32941177, 0.5058824 ],\n",
              "         [0.08235294, 0.2627451 , 0.43137255]]],\n",
              "\n",
              "\n",
              "       [[[0.92156863, 0.92156863, 0.92156863],\n",
              "         [0.90588236, 0.90588236, 0.90588236],\n",
              "         [0.9098039 , 0.9098039 , 0.9098039 ],\n",
              "         ...,\n",
              "         [0.9137255 , 0.9137255 , 0.9137255 ],\n",
              "         [0.9137255 , 0.9137255 , 0.9137255 ],\n",
              "         [0.9098039 , 0.9098039 , 0.9098039 ]],\n",
              "\n",
              "        [[0.93333334, 0.93333334, 0.93333334],\n",
              "         [0.92156863, 0.92156863, 0.92156863],\n",
              "         [0.92156863, 0.92156863, 0.92156863],\n",
              "         ...,\n",
              "         [0.9254902 , 0.9254902 , 0.9254902 ],\n",
              "         [0.9254902 , 0.9254902 , 0.9254902 ],\n",
              "         [0.92156863, 0.92156863, 0.92156863]],\n",
              "\n",
              "        [[0.92941177, 0.92941177, 0.92941177],\n",
              "         [0.91764706, 0.91764706, 0.91764706],\n",
              "         [0.91764706, 0.91764706, 0.91764706],\n",
              "         ...,\n",
              "         [0.92156863, 0.92156863, 0.92156863],\n",
              "         [0.92156863, 0.92156863, 0.92156863],\n",
              "         [0.91764706, 0.91764706, 0.91764706]],\n",
              "\n",
              "        ...,\n",
              "\n",
              "        [[0.34117648, 0.3882353 , 0.34901962],\n",
              "         [0.16862746, 0.2       , 0.14509805],\n",
              "         [0.07450981, 0.09019608, 0.04313726],\n",
              "         ...,\n",
              "         [0.6627451 , 0.72156864, 0.7019608 ],\n",
              "         [0.7137255 , 0.77254903, 0.75686276],\n",
              "         [0.7372549 , 0.7921569 , 0.7882353 ]],\n",
              "\n",
              "        [[0.32156864, 0.3764706 , 0.32156864],\n",
              "         [0.18039216, 0.22352941, 0.14117648],\n",
              "         [0.14117648, 0.17254902, 0.08627451],\n",
              "         ...,\n",
              "         [0.68235296, 0.7411765 , 0.7176471 ],\n",
              "         [0.7254902 , 0.78431374, 0.76862746],\n",
              "         [0.73333335, 0.7921569 , 0.78431374]],\n",
              "\n",
              "        [[0.33333334, 0.39607844, 0.3254902 ],\n",
              "         [0.24313726, 0.29411766, 0.1882353 ],\n",
              "         [0.22745098, 0.2627451 , 0.14901961],\n",
              "         ...,\n",
              "         [0.65882355, 0.7176471 , 0.69803923],\n",
              "         [0.7058824 , 0.7647059 , 0.7490196 ],\n",
              "         [0.7294118 , 0.78431374, 0.78039217]]],\n",
              "\n",
              "\n",
              "       [[[0.61960787, 0.74509805, 0.87058824],\n",
              "         [0.61960787, 0.73333335, 0.85490197],\n",
              "         [0.54509807, 0.6509804 , 0.7607843 ],\n",
              "         ...,\n",
              "         [0.89411765, 0.90588236, 0.91764706],\n",
              "         [0.92941177, 0.9372549 , 0.9529412 ],\n",
              "         [0.93333334, 0.94509804, 0.9647059 ]],\n",
              "\n",
              "        [[0.6666667 , 0.78431374, 0.8980392 ],\n",
              "         [0.6745098 , 0.78039217, 0.8862745 ],\n",
              "         [0.5921569 , 0.6901961 , 0.7882353 ],\n",
              "         ...,\n",
              "         [0.9098039 , 0.9098039 , 0.9254902 ],\n",
              "         [0.9647059 , 0.9647059 , 0.98039216],\n",
              "         [0.9647059 , 0.96862745, 0.9843137 ]],\n",
              "\n",
              "        [[0.68235296, 0.7882353 , 0.88235295],\n",
              "         [0.6901961 , 0.78431374, 0.87058824],\n",
              "         [0.6156863 , 0.7019608 , 0.78039217],\n",
              "         ...,\n",
              "         [0.9019608 , 0.8980392 , 0.9098039 ],\n",
              "         [0.98039216, 0.9764706 , 0.9843137 ],\n",
              "         [0.9607843 , 0.95686275, 0.96862745]],\n",
              "\n",
              "        ...,\n",
              "\n",
              "        [[0.12156863, 0.15686275, 0.1764706 ],\n",
              "         [0.11764706, 0.15294118, 0.17254902],\n",
              "         [0.10196079, 0.13725491, 0.15686275],\n",
              "         ...,\n",
              "         [0.14509805, 0.15686275, 0.18039216],\n",
              "         [0.03529412, 0.05098039, 0.05490196],\n",
              "         [0.01568628, 0.02745098, 0.01960784]],\n",
              "\n",
              "        [[0.09019608, 0.13333334, 0.15294118],\n",
              "         [0.10588235, 0.14901961, 0.16862746],\n",
              "         [0.09803922, 0.14117648, 0.16078432],\n",
              "         ...,\n",
              "         [0.07450981, 0.07843138, 0.09411765],\n",
              "         [0.01568628, 0.02352941, 0.01176471],\n",
              "         [0.01960784, 0.02745098, 0.01176471]],\n",
              "\n",
              "        [[0.10980392, 0.16078432, 0.18431373],\n",
              "         [0.11764706, 0.16862746, 0.19607843],\n",
              "         [0.1254902 , 0.1764706 , 0.20392157],\n",
              "         ...,\n",
              "         [0.01960784, 0.02352941, 0.03137255],\n",
              "         [0.01568628, 0.01960784, 0.01176471],\n",
              "         [0.02745098, 0.03137255, 0.02745098]]],\n",
              "\n",
              "\n",
              "       ...,\n",
              "\n",
              "\n",
              "       [[[0.07843138, 0.05882353, 0.04705882],\n",
              "         [0.07450981, 0.05490196, 0.04313726],\n",
              "         [0.05882353, 0.05490196, 0.04313726],\n",
              "         ...,\n",
              "         [0.03921569, 0.03529412, 0.02745098],\n",
              "         [0.04705882, 0.04313726, 0.03529412],\n",
              "         [0.05098039, 0.04705882, 0.03921569]],\n",
              "\n",
              "        [[0.08235294, 0.0627451 , 0.05098039],\n",
              "         [0.07843138, 0.0627451 , 0.05098039],\n",
              "         [0.07058824, 0.06666667, 0.04705882],\n",
              "         ...,\n",
              "         [0.03921569, 0.03529412, 0.02745098],\n",
              "         [0.03921569, 0.03529412, 0.02745098],\n",
              "         [0.04705882, 0.04313726, 0.03529412]],\n",
              "\n",
              "        [[0.08235294, 0.0627451 , 0.05098039],\n",
              "         [0.08235294, 0.06666667, 0.04705882],\n",
              "         [0.07843138, 0.07058824, 0.04313726],\n",
              "         ...,\n",
              "         [0.04705882, 0.04313726, 0.03529412],\n",
              "         [0.04705882, 0.04313726, 0.03529412],\n",
              "         [0.05098039, 0.04705882, 0.03921569]],\n",
              "\n",
              "        ...,\n",
              "\n",
              "        [[0.12941177, 0.09803922, 0.05098039],\n",
              "         [0.13333334, 0.10196079, 0.05882353],\n",
              "         [0.13333334, 0.10196079, 0.05882353],\n",
              "         ...,\n",
              "         [0.10980392, 0.09803922, 0.20392157],\n",
              "         [0.11372549, 0.09803922, 0.22745098],\n",
              "         [0.09019608, 0.07843138, 0.16470589]],\n",
              "\n",
              "        [[0.12941177, 0.09803922, 0.05490196],\n",
              "         [0.13333334, 0.10196079, 0.05882353],\n",
              "         [0.13333334, 0.10196079, 0.05882353],\n",
              "         ...,\n",
              "         [0.10588235, 0.09411765, 0.20392157],\n",
              "         [0.10588235, 0.09411765, 0.21960784],\n",
              "         [0.09803922, 0.08627451, 0.18431373]],\n",
              "\n",
              "        [[0.12156863, 0.09019608, 0.04705882],\n",
              "         [0.1254902 , 0.09411765, 0.05098039],\n",
              "         [0.12941177, 0.09803922, 0.05490196],\n",
              "         ...,\n",
              "         [0.09411765, 0.09019608, 0.19607843],\n",
              "         [0.10196079, 0.09019608, 0.20784314],\n",
              "         [0.09803922, 0.07843138, 0.18431373]]],\n",
              "\n",
              "\n",
              "       [[[0.09803922, 0.15686275, 0.04705882],\n",
              "         [0.05882353, 0.14117648, 0.01176471],\n",
              "         [0.09019608, 0.16078432, 0.07058824],\n",
              "         ...,\n",
              "         [0.23921569, 0.32156864, 0.30588236],\n",
              "         [0.36078432, 0.44313726, 0.4392157 ],\n",
              "         [0.29411766, 0.34901962, 0.36078432]],\n",
              "\n",
              "        [[0.04705882, 0.09803922, 0.02352941],\n",
              "         [0.07843138, 0.14509805, 0.02745098],\n",
              "         [0.09411765, 0.14117648, 0.05882353],\n",
              "         ...,\n",
              "         [0.4509804 , 0.5254902 , 0.5411765 ],\n",
              "         [0.58431375, 0.65882355, 0.69411767],\n",
              "         [0.40784314, 0.45882353, 0.5137255 ]],\n",
              "\n",
              "        [[0.04705882, 0.09803922, 0.04313726],\n",
              "         [0.05882353, 0.11372549, 0.02352941],\n",
              "         [0.13333334, 0.15686275, 0.09411765],\n",
              "         ...,\n",
              "         [0.6039216 , 0.6745098 , 0.7137255 ],\n",
              "         [0.6156863 , 0.6862745 , 0.7529412 ],\n",
              "         [0.45490196, 0.5058824 , 0.5921569 ]],\n",
              "\n",
              "        ...,\n",
              "\n",
              "        [[0.39215687, 0.5058824 , 0.31764707],\n",
              "         [0.40392157, 0.5176471 , 0.32941177],\n",
              "         [0.40784314, 0.5254902 , 0.3372549 ],\n",
              "         ...,\n",
              "         [0.38039216, 0.5019608 , 0.32941177],\n",
              "         [0.38431373, 0.49411765, 0.32941177],\n",
              "         [0.35686275, 0.4745098 , 0.30980393]],\n",
              "\n",
              "        [[0.40392157, 0.5176471 , 0.3254902 ],\n",
              "         [0.40784314, 0.5137255 , 0.3254902 ],\n",
              "         [0.41960785, 0.5294118 , 0.34117648],\n",
              "         ...,\n",
              "         [0.39607844, 0.5176471 , 0.34117648],\n",
              "         [0.3882353 , 0.49803922, 0.32941177],\n",
              "         [0.36078432, 0.4745098 , 0.30980393]],\n",
              "\n",
              "        [[0.37254903, 0.49411765, 0.30588236],\n",
              "         [0.37254903, 0.48235294, 0.29803923],\n",
              "         [0.39607844, 0.5019608 , 0.31764707],\n",
              "         ...,\n",
              "         [0.3647059 , 0.4862745 , 0.3137255 ],\n",
              "         [0.37254903, 0.48235294, 0.31764707],\n",
              "         [0.36078432, 0.47058824, 0.3137255 ]]],\n",
              "\n",
              "\n",
              "       [[[0.28627452, 0.30588236, 0.29411766],\n",
              "         [0.38431373, 0.40392157, 0.44313726],\n",
              "         [0.3882353 , 0.41568628, 0.44705883],\n",
              "         ...,\n",
              "         [0.5294118 , 0.5882353 , 0.59607846],\n",
              "         [0.5294118 , 0.58431375, 0.6039216 ],\n",
              "         [0.79607844, 0.84313726, 0.8745098 ]],\n",
              "\n",
              "        [[0.27058825, 0.28627452, 0.27450982],\n",
              "         [0.32941177, 0.34901962, 0.38039216],\n",
              "         [0.26666668, 0.29411766, 0.31764707],\n",
              "         ...,\n",
              "         [0.33333334, 0.37254903, 0.34901962],\n",
              "         [0.2784314 , 0.32156864, 0.3137255 ],\n",
              "         [0.47058824, 0.52156866, 0.5294118 ]],\n",
              "\n",
              "        [[0.27058825, 0.28627452, 0.27450982],\n",
              "         [0.3529412 , 0.37254903, 0.39215687],\n",
              "         [0.24313726, 0.2784314 , 0.2901961 ],\n",
              "         ...,\n",
              "         [0.2901961 , 0.31764707, 0.27450982],\n",
              "         [0.20784314, 0.24313726, 0.21176471],\n",
              "         [0.24313726, 0.2901961 , 0.27058825]],\n",
              "\n",
              "        ...,\n",
              "\n",
              "        [[0.48235294, 0.5019608 , 0.3764706 ],\n",
              "         [0.5176471 , 0.5176471 , 0.4       ],\n",
              "         [0.5058824 , 0.5019608 , 0.39215687],\n",
              "         ...,\n",
              "         [0.42352942, 0.41960785, 0.34509805],\n",
              "         [0.24313726, 0.23529412, 0.21568628],\n",
              "         [0.10588235, 0.10588235, 0.10980392]],\n",
              "\n",
              "        [[0.4509804 , 0.4745098 , 0.35686275],\n",
              "         [0.48235294, 0.4862745 , 0.37254903],\n",
              "         [0.5058824 , 0.49411765, 0.3882353 ],\n",
              "         ...,\n",
              "         [0.4509804 , 0.45490196, 0.36862746],\n",
              "         [0.25882354, 0.25490198, 0.23137255],\n",
              "         [0.10588235, 0.10588235, 0.10588235]],\n",
              "\n",
              "        [[0.45490196, 0.47058824, 0.3529412 ],\n",
              "         [0.4745098 , 0.47843137, 0.36862746],\n",
              "         [0.5058824 , 0.5019608 , 0.39607844],\n",
              "         ...,\n",
              "         [0.45490196, 0.4509804 , 0.36862746],\n",
              "         [0.26666668, 0.25490198, 0.22745098],\n",
              "         [0.10588235, 0.10196079, 0.10196079]]]], dtype=float32)"
            ]
          },
          "metadata": {},
          "execution_count": 51
        }
      ],
      "source": [
        "(x_train, y_train), (x_test, y_test) = tf.keras.datasets.cifar10.load_data()\n",
        "x_train = x_train.astype('float32')\n",
        "x_test = x_test.astype('float32')\n",
        "\n",
        "scale = 255\n",
        "x_train /scale\n",
        "x_test /scale"
      ]
    },
    {
      "cell_type": "code",
      "execution_count": 52,
      "metadata": {
        "id": "S9BK_WynDwAb",
        "colab": {
          "base_uri": "https://localhost:8080/"
        },
        "outputId": "361815b6-574d-44a0-ade5-183119c159d2"
      },
      "outputs": [
        {
          "output_type": "execute_result",
          "data": {
            "text/plain": [
              "((50000, 32, 32, 3), (10000, 32, 32, 3), (50000, 1), (10000, 1))"
            ]
          },
          "metadata": {},
          "execution_count": 52
        }
      ],
      "source": [
        "x_train.shape,x_test.shape,y_train.shape,y_test.shape"
      ]
    },
    {
      "cell_type": "code",
      "execution_count": 53,
      "metadata": {
        "id": "Vw4dbQseD7uy"
      },
      "outputs": [],
      "source": [
        "model = Sequential([\n",
        "    Dense(256, activation='sigmoid'), \n",
        "    Dropout(0.6), #\n",
        "    Dense(128, activation='sigmoid'), \n",
        "    Dropout(0.4), \n",
        "    Dense(10, activation='softmax'),  \n",
        "])"
      ]
    },
    {
      "cell_type": "code",
      "execution_count": 54,
      "metadata": {
        "id": "zwsYW3smECVC"
      },
      "outputs": [],
      "source": [
        "model.compile(optimizer='adam',\n",
        "              loss='sparse_categorical_crossentropy',\n",
        "              metrics=['accuracy'])"
      ]
    },
    {
      "cell_type": "code",
      "execution_count": 55,
      "metadata": {
        "id": "GALKW8fzEHj0",
        "colab": {
          "base_uri": "https://localhost:8080/"
        },
        "outputId": "ec5acce5-d7cd-4131-ad03-3a4cfe15afa3"
      },
      "outputs": [
        {
          "output_type": "execute_result",
          "data": {
            "text/plain": [
              "((50000, 32, 32, 3), (50000, 1))"
            ]
          },
          "metadata": {},
          "execution_count": 55
        }
      ],
      "source": [
        "x_train.shape, y_train.shape"
      ]
    },
    {
      "cell_type": "code",
      "execution_count": null,
      "metadata": {
        "id": "wLkxBwjpEI5F"
      },
      "outputs": [],
      "source": []
    }
  ],
  "metadata": {
    "colab": {
      "provenance": []
    },
    "kernelspec": {
      "display_name": "Python 3",
      "name": "python3"
    },
    "language_info": {
      "name": "python"
    }
  },
  "nbformat": 4,
  "nbformat_minor": 0
}