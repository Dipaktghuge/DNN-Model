{
 "cells": [
  {
   "cell_type": "code",
   "execution_count": 1,
   "id": "fe20cf40",
   "metadata": {},
   "outputs": [],
   "source": [
    "from sklearn.datasets import load_breast_cancer"
   ]
  },
  {
   "cell_type": "code",
   "execution_count": 2,
   "id": "dc133c49",
   "metadata": {},
   "outputs": [],
   "source": [
    "data=load_breast_cancer()"
   ]
  },
  {
   "cell_type": "code",
   "execution_count": 3,
   "id": "6e0bab60",
   "metadata": {},
   "outputs": [
    {
     "data": {
      "text/plain": [
       "array([0, 0, 0, 0, 0, 0, 0, 0, 0, 0, 0, 0, 0, 0, 0, 0, 0, 0, 0, 1, 1, 1,\n",
       "       0, 0, 0, 0, 0, 0, 0, 0, 0, 0, 0, 0, 0, 0, 0, 1, 0, 0, 0, 0, 0, 0,\n",
       "       0, 0, 1, 0, 1, 1, 1, 1, 1, 0, 0, 1, 0, 0, 1, 1, 1, 1, 0, 1, 0, 0,\n",
       "       1, 1, 1, 1, 0, 1, 0, 0, 1, 0, 1, 0, 0, 1, 1, 1, 0, 0, 1, 0, 0, 0,\n",
       "       1, 1, 1, 0, 1, 1, 0, 0, 1, 1, 1, 0, 0, 1, 1, 1, 1, 0, 1, 1, 0, 1,\n",
       "       1, 1, 1, 1, 1, 1, 1, 0, 0, 0, 1, 0, 0, 1, 1, 1, 0, 0, 1, 0, 1, 0,\n",
       "       0, 1, 0, 0, 1, 1, 0, 1, 1, 0, 1, 1, 1, 1, 0, 1, 1, 1, 1, 1, 1, 1,\n",
       "       1, 1, 0, 1, 1, 1, 1, 0, 0, 1, 0, 1, 1, 0, 0, 1, 1, 0, 0, 1, 1, 1,\n",
       "       1, 0, 1, 1, 0, 0, 0, 1, 0, 1, 0, 1, 1, 1, 0, 1, 1, 0, 0, 1, 0, 0,\n",
       "       0, 0, 1, 0, 0, 0, 1, 0, 1, 0, 1, 1, 0, 1, 0, 0, 0, 0, 1, 1, 0, 0,\n",
       "       1, 1, 1, 0, 1, 1, 1, 1, 1, 0, 0, 1, 1, 0, 1, 1, 0, 0, 1, 0, 1, 1,\n",
       "       1, 1, 0, 1, 1, 1, 1, 1, 0, 1, 0, 0, 0, 0, 0, 0, 0, 0, 0, 0, 0, 0,\n",
       "       0, 0, 1, 1, 1, 1, 1, 1, 0, 1, 0, 1, 1, 0, 1, 1, 0, 1, 0, 0, 1, 1,\n",
       "       1, 1, 1, 1, 1, 1, 1, 1, 1, 1, 1, 0, 1, 1, 0, 1, 0, 1, 1, 1, 1, 1,\n",
       "       1, 1, 1, 1, 1, 1, 1, 1, 1, 0, 1, 1, 1, 0, 1, 0, 1, 1, 1, 1, 0, 0,\n",
       "       0, 1, 1, 1, 1, 0, 1, 0, 1, 0, 1, 1, 1, 0, 1, 1, 1, 1, 1, 1, 1, 0,\n",
       "       0, 0, 1, 1, 1, 1, 1, 1, 1, 1, 1, 1, 1, 0, 0, 1, 0, 0, 0, 1, 0, 0,\n",
       "       1, 1, 1, 1, 1, 0, 1, 1, 1, 1, 1, 0, 1, 1, 1, 0, 1, 1, 0, 0, 1, 1,\n",
       "       1, 1, 1, 1, 0, 1, 1, 1, 1, 1, 1, 1, 0, 1, 1, 1, 1, 1, 0, 1, 1, 0,\n",
       "       1, 1, 1, 1, 1, 1, 1, 1, 1, 1, 1, 1, 0, 1, 0, 0, 1, 0, 1, 1, 1, 1,\n",
       "       1, 0, 1, 1, 0, 1, 0, 1, 1, 0, 1, 0, 1, 1, 1, 1, 1, 1, 1, 1, 0, 0,\n",
       "       1, 1, 1, 1, 1, 1, 0, 1, 1, 1, 1, 1, 1, 1, 1, 1, 1, 0, 1, 1, 1, 1,\n",
       "       1, 1, 1, 0, 1, 0, 1, 1, 0, 1, 1, 1, 1, 1, 0, 0, 1, 0, 1, 0, 1, 1,\n",
       "       1, 1, 1, 0, 1, 1, 0, 1, 0, 1, 0, 0, 1, 1, 1, 0, 1, 1, 1, 1, 1, 1,\n",
       "       1, 1, 1, 1, 1, 0, 1, 0, 0, 1, 1, 1, 1, 1, 1, 1, 1, 1, 1, 1, 1, 1,\n",
       "       1, 1, 1, 1, 1, 1, 1, 1, 1, 1, 1, 1, 0, 0, 0, 0, 0, 0, 1])"
      ]
     },
     "execution_count": 3,
     "metadata": {},
     "output_type": "execute_result"
    }
   ],
   "source": [
    "data.target"
   ]
  },
  {
   "cell_type": "code",
   "execution_count": 4,
   "id": "3882b9e2",
   "metadata": {},
   "outputs": [
    {
     "data": {
      "text/plain": [
       "array(['mean radius', 'mean texture', 'mean perimeter', 'mean area',\n",
       "       'mean smoothness', 'mean compactness', 'mean concavity',\n",
       "       'mean concave points', 'mean symmetry', 'mean fractal dimension',\n",
       "       'radius error', 'texture error', 'perimeter error', 'area error',\n",
       "       'smoothness error', 'compactness error', 'concavity error',\n",
       "       'concave points error', 'symmetry error',\n",
       "       'fractal dimension error', 'worst radius', 'worst texture',\n",
       "       'worst perimeter', 'worst area', 'worst smoothness',\n",
       "       'worst compactness', 'worst concavity', 'worst concave points',\n",
       "       'worst symmetry', 'worst fractal dimension'], dtype='<U23')"
      ]
     },
     "execution_count": 4,
     "metadata": {},
     "output_type": "execute_result"
    }
   ],
   "source": [
    "data.feature_names"
   ]
  },
  {
   "cell_type": "code",
   "execution_count": 5,
   "id": "1b70a24f",
   "metadata": {},
   "outputs": [],
   "source": [
    "import pandas as pd\n",
    "import numpy as np"
   ]
  },
  {
   "cell_type": "code",
   "execution_count": 6,
   "id": "c538509b",
   "metadata": {},
   "outputs": [],
   "source": [
    "df= pd.DataFrame(data.data, columns = data.feature_names)"
   ]
  },
  {
   "cell_type": "code",
   "execution_count": 7,
   "id": "3546163b",
   "metadata": {},
   "outputs": [
    {
     "data": {
      "text/html": [
       "<div>\n",
       "<style scoped>\n",
       "    .dataframe tbody tr th:only-of-type {\n",
       "        vertical-align: middle;\n",
       "    }\n",
       "\n",
       "    .dataframe tbody tr th {\n",
       "        vertical-align: top;\n",
       "    }\n",
       "\n",
       "    .dataframe thead th {\n",
       "        text-align: right;\n",
       "    }\n",
       "</style>\n",
       "<table border=\"1\" class=\"dataframe\">\n",
       "  <thead>\n",
       "    <tr style=\"text-align: right;\">\n",
       "      <th></th>\n",
       "      <th>mean radius</th>\n",
       "      <th>mean texture</th>\n",
       "      <th>mean perimeter</th>\n",
       "      <th>mean area</th>\n",
       "      <th>mean smoothness</th>\n",
       "      <th>mean compactness</th>\n",
       "      <th>mean concavity</th>\n",
       "      <th>mean concave points</th>\n",
       "      <th>mean symmetry</th>\n",
       "      <th>mean fractal dimension</th>\n",
       "      <th>...</th>\n",
       "      <th>worst radius</th>\n",
       "      <th>worst texture</th>\n",
       "      <th>worst perimeter</th>\n",
       "      <th>worst area</th>\n",
       "      <th>worst smoothness</th>\n",
       "      <th>worst compactness</th>\n",
       "      <th>worst concavity</th>\n",
       "      <th>worst concave points</th>\n",
       "      <th>worst symmetry</th>\n",
       "      <th>worst fractal dimension</th>\n",
       "    </tr>\n",
       "  </thead>\n",
       "  <tbody>\n",
       "    <tr>\n",
       "      <th>0</th>\n",
       "      <td>17.99</td>\n",
       "      <td>10.38</td>\n",
       "      <td>122.80</td>\n",
       "      <td>1001.0</td>\n",
       "      <td>0.11840</td>\n",
       "      <td>0.27760</td>\n",
       "      <td>0.3001</td>\n",
       "      <td>0.14710</td>\n",
       "      <td>0.2419</td>\n",
       "      <td>0.07871</td>\n",
       "      <td>...</td>\n",
       "      <td>25.38</td>\n",
       "      <td>17.33</td>\n",
       "      <td>184.60</td>\n",
       "      <td>2019.0</td>\n",
       "      <td>0.1622</td>\n",
       "      <td>0.6656</td>\n",
       "      <td>0.7119</td>\n",
       "      <td>0.2654</td>\n",
       "      <td>0.4601</td>\n",
       "      <td>0.11890</td>\n",
       "    </tr>\n",
       "    <tr>\n",
       "      <th>1</th>\n",
       "      <td>20.57</td>\n",
       "      <td>17.77</td>\n",
       "      <td>132.90</td>\n",
       "      <td>1326.0</td>\n",
       "      <td>0.08474</td>\n",
       "      <td>0.07864</td>\n",
       "      <td>0.0869</td>\n",
       "      <td>0.07017</td>\n",
       "      <td>0.1812</td>\n",
       "      <td>0.05667</td>\n",
       "      <td>...</td>\n",
       "      <td>24.99</td>\n",
       "      <td>23.41</td>\n",
       "      <td>158.80</td>\n",
       "      <td>1956.0</td>\n",
       "      <td>0.1238</td>\n",
       "      <td>0.1866</td>\n",
       "      <td>0.2416</td>\n",
       "      <td>0.1860</td>\n",
       "      <td>0.2750</td>\n",
       "      <td>0.08902</td>\n",
       "    </tr>\n",
       "    <tr>\n",
       "      <th>2</th>\n",
       "      <td>19.69</td>\n",
       "      <td>21.25</td>\n",
       "      <td>130.00</td>\n",
       "      <td>1203.0</td>\n",
       "      <td>0.10960</td>\n",
       "      <td>0.15990</td>\n",
       "      <td>0.1974</td>\n",
       "      <td>0.12790</td>\n",
       "      <td>0.2069</td>\n",
       "      <td>0.05999</td>\n",
       "      <td>...</td>\n",
       "      <td>23.57</td>\n",
       "      <td>25.53</td>\n",
       "      <td>152.50</td>\n",
       "      <td>1709.0</td>\n",
       "      <td>0.1444</td>\n",
       "      <td>0.4245</td>\n",
       "      <td>0.4504</td>\n",
       "      <td>0.2430</td>\n",
       "      <td>0.3613</td>\n",
       "      <td>0.08758</td>\n",
       "    </tr>\n",
       "    <tr>\n",
       "      <th>3</th>\n",
       "      <td>11.42</td>\n",
       "      <td>20.38</td>\n",
       "      <td>77.58</td>\n",
       "      <td>386.1</td>\n",
       "      <td>0.14250</td>\n",
       "      <td>0.28390</td>\n",
       "      <td>0.2414</td>\n",
       "      <td>0.10520</td>\n",
       "      <td>0.2597</td>\n",
       "      <td>0.09744</td>\n",
       "      <td>...</td>\n",
       "      <td>14.91</td>\n",
       "      <td>26.50</td>\n",
       "      <td>98.87</td>\n",
       "      <td>567.7</td>\n",
       "      <td>0.2098</td>\n",
       "      <td>0.8663</td>\n",
       "      <td>0.6869</td>\n",
       "      <td>0.2575</td>\n",
       "      <td>0.6638</td>\n",
       "      <td>0.17300</td>\n",
       "    </tr>\n",
       "    <tr>\n",
       "      <th>4</th>\n",
       "      <td>20.29</td>\n",
       "      <td>14.34</td>\n",
       "      <td>135.10</td>\n",
       "      <td>1297.0</td>\n",
       "      <td>0.10030</td>\n",
       "      <td>0.13280</td>\n",
       "      <td>0.1980</td>\n",
       "      <td>0.10430</td>\n",
       "      <td>0.1809</td>\n",
       "      <td>0.05883</td>\n",
       "      <td>...</td>\n",
       "      <td>22.54</td>\n",
       "      <td>16.67</td>\n",
       "      <td>152.20</td>\n",
       "      <td>1575.0</td>\n",
       "      <td>0.1374</td>\n",
       "      <td>0.2050</td>\n",
       "      <td>0.4000</td>\n",
       "      <td>0.1625</td>\n",
       "      <td>0.2364</td>\n",
       "      <td>0.07678</td>\n",
       "    </tr>\n",
       "  </tbody>\n",
       "</table>\n",
       "<p>5 rows × 30 columns</p>\n",
       "</div>"
      ],
      "text/plain": [
       "   mean radius  mean texture  mean perimeter  mean area  mean smoothness  \\\n",
       "0        17.99         10.38          122.80     1001.0          0.11840   \n",
       "1        20.57         17.77          132.90     1326.0          0.08474   \n",
       "2        19.69         21.25          130.00     1203.0          0.10960   \n",
       "3        11.42         20.38           77.58      386.1          0.14250   \n",
       "4        20.29         14.34          135.10     1297.0          0.10030   \n",
       "\n",
       "   mean compactness  mean concavity  mean concave points  mean symmetry  \\\n",
       "0           0.27760          0.3001              0.14710         0.2419   \n",
       "1           0.07864          0.0869              0.07017         0.1812   \n",
       "2           0.15990          0.1974              0.12790         0.2069   \n",
       "3           0.28390          0.2414              0.10520         0.2597   \n",
       "4           0.13280          0.1980              0.10430         0.1809   \n",
       "\n",
       "   mean fractal dimension  ...  worst radius  worst texture  worst perimeter  \\\n",
       "0                 0.07871  ...         25.38          17.33           184.60   \n",
       "1                 0.05667  ...         24.99          23.41           158.80   \n",
       "2                 0.05999  ...         23.57          25.53           152.50   \n",
       "3                 0.09744  ...         14.91          26.50            98.87   \n",
       "4                 0.05883  ...         22.54          16.67           152.20   \n",
       "\n",
       "   worst area  worst smoothness  worst compactness  worst concavity  \\\n",
       "0      2019.0            0.1622             0.6656           0.7119   \n",
       "1      1956.0            0.1238             0.1866           0.2416   \n",
       "2      1709.0            0.1444             0.4245           0.4504   \n",
       "3       567.7            0.2098             0.8663           0.6869   \n",
       "4      1575.0            0.1374             0.2050           0.4000   \n",
       "\n",
       "   worst concave points  worst symmetry  worst fractal dimension  \n",
       "0                0.2654          0.4601                  0.11890  \n",
       "1                0.1860          0.2750                  0.08902  \n",
       "2                0.2430          0.3613                  0.08758  \n",
       "3                0.2575          0.6638                  0.17300  \n",
       "4                0.1625          0.2364                  0.07678  \n",
       "\n",
       "[5 rows x 30 columns]"
      ]
     },
     "execution_count": 7,
     "metadata": {},
     "output_type": "execute_result"
    }
   ],
   "source": [
    "df.head()"
   ]
  },
  {
   "cell_type": "code",
   "execution_count": 8,
   "id": "97ddbde0",
   "metadata": {},
   "outputs": [],
   "source": [
    "df['Diagnosis']=data.target"
   ]
  },
  {
   "cell_type": "code",
   "execution_count": 9,
   "id": "d9254af8",
   "metadata": {},
   "outputs": [
    {
     "data": {
      "text/html": [
       "<div>\n",
       "<style scoped>\n",
       "    .dataframe tbody tr th:only-of-type {\n",
       "        vertical-align: middle;\n",
       "    }\n",
       "\n",
       "    .dataframe tbody tr th {\n",
       "        vertical-align: top;\n",
       "    }\n",
       "\n",
       "    .dataframe thead th {\n",
       "        text-align: right;\n",
       "    }\n",
       "</style>\n",
       "<table border=\"1\" class=\"dataframe\">\n",
       "  <thead>\n",
       "    <tr style=\"text-align: right;\">\n",
       "      <th></th>\n",
       "      <th>mean radius</th>\n",
       "      <th>mean texture</th>\n",
       "      <th>mean perimeter</th>\n",
       "      <th>mean area</th>\n",
       "      <th>mean smoothness</th>\n",
       "      <th>mean compactness</th>\n",
       "      <th>mean concavity</th>\n",
       "      <th>mean concave points</th>\n",
       "      <th>mean symmetry</th>\n",
       "      <th>mean fractal dimension</th>\n",
       "      <th>...</th>\n",
       "      <th>worst texture</th>\n",
       "      <th>worst perimeter</th>\n",
       "      <th>worst area</th>\n",
       "      <th>worst smoothness</th>\n",
       "      <th>worst compactness</th>\n",
       "      <th>worst concavity</th>\n",
       "      <th>worst concave points</th>\n",
       "      <th>worst symmetry</th>\n",
       "      <th>worst fractal dimension</th>\n",
       "      <th>Diagnosis</th>\n",
       "    </tr>\n",
       "  </thead>\n",
       "  <tbody>\n",
       "    <tr>\n",
       "      <th>0</th>\n",
       "      <td>17.99</td>\n",
       "      <td>10.38</td>\n",
       "      <td>122.80</td>\n",
       "      <td>1001.0</td>\n",
       "      <td>0.11840</td>\n",
       "      <td>0.27760</td>\n",
       "      <td>0.30010</td>\n",
       "      <td>0.14710</td>\n",
       "      <td>0.2419</td>\n",
       "      <td>0.07871</td>\n",
       "      <td>...</td>\n",
       "      <td>17.33</td>\n",
       "      <td>184.60</td>\n",
       "      <td>2019.0</td>\n",
       "      <td>0.16220</td>\n",
       "      <td>0.66560</td>\n",
       "      <td>0.7119</td>\n",
       "      <td>0.2654</td>\n",
       "      <td>0.4601</td>\n",
       "      <td>0.11890</td>\n",
       "      <td>0</td>\n",
       "    </tr>\n",
       "    <tr>\n",
       "      <th>1</th>\n",
       "      <td>20.57</td>\n",
       "      <td>17.77</td>\n",
       "      <td>132.90</td>\n",
       "      <td>1326.0</td>\n",
       "      <td>0.08474</td>\n",
       "      <td>0.07864</td>\n",
       "      <td>0.08690</td>\n",
       "      <td>0.07017</td>\n",
       "      <td>0.1812</td>\n",
       "      <td>0.05667</td>\n",
       "      <td>...</td>\n",
       "      <td>23.41</td>\n",
       "      <td>158.80</td>\n",
       "      <td>1956.0</td>\n",
       "      <td>0.12380</td>\n",
       "      <td>0.18660</td>\n",
       "      <td>0.2416</td>\n",
       "      <td>0.1860</td>\n",
       "      <td>0.2750</td>\n",
       "      <td>0.08902</td>\n",
       "      <td>0</td>\n",
       "    </tr>\n",
       "    <tr>\n",
       "      <th>2</th>\n",
       "      <td>19.69</td>\n",
       "      <td>21.25</td>\n",
       "      <td>130.00</td>\n",
       "      <td>1203.0</td>\n",
       "      <td>0.10960</td>\n",
       "      <td>0.15990</td>\n",
       "      <td>0.19740</td>\n",
       "      <td>0.12790</td>\n",
       "      <td>0.2069</td>\n",
       "      <td>0.05999</td>\n",
       "      <td>...</td>\n",
       "      <td>25.53</td>\n",
       "      <td>152.50</td>\n",
       "      <td>1709.0</td>\n",
       "      <td>0.14440</td>\n",
       "      <td>0.42450</td>\n",
       "      <td>0.4504</td>\n",
       "      <td>0.2430</td>\n",
       "      <td>0.3613</td>\n",
       "      <td>0.08758</td>\n",
       "      <td>0</td>\n",
       "    </tr>\n",
       "    <tr>\n",
       "      <th>3</th>\n",
       "      <td>11.42</td>\n",
       "      <td>20.38</td>\n",
       "      <td>77.58</td>\n",
       "      <td>386.1</td>\n",
       "      <td>0.14250</td>\n",
       "      <td>0.28390</td>\n",
       "      <td>0.24140</td>\n",
       "      <td>0.10520</td>\n",
       "      <td>0.2597</td>\n",
       "      <td>0.09744</td>\n",
       "      <td>...</td>\n",
       "      <td>26.50</td>\n",
       "      <td>98.87</td>\n",
       "      <td>567.7</td>\n",
       "      <td>0.20980</td>\n",
       "      <td>0.86630</td>\n",
       "      <td>0.6869</td>\n",
       "      <td>0.2575</td>\n",
       "      <td>0.6638</td>\n",
       "      <td>0.17300</td>\n",
       "      <td>0</td>\n",
       "    </tr>\n",
       "    <tr>\n",
       "      <th>4</th>\n",
       "      <td>20.29</td>\n",
       "      <td>14.34</td>\n",
       "      <td>135.10</td>\n",
       "      <td>1297.0</td>\n",
       "      <td>0.10030</td>\n",
       "      <td>0.13280</td>\n",
       "      <td>0.19800</td>\n",
       "      <td>0.10430</td>\n",
       "      <td>0.1809</td>\n",
       "      <td>0.05883</td>\n",
       "      <td>...</td>\n",
       "      <td>16.67</td>\n",
       "      <td>152.20</td>\n",
       "      <td>1575.0</td>\n",
       "      <td>0.13740</td>\n",
       "      <td>0.20500</td>\n",
       "      <td>0.4000</td>\n",
       "      <td>0.1625</td>\n",
       "      <td>0.2364</td>\n",
       "      <td>0.07678</td>\n",
       "      <td>0</td>\n",
       "    </tr>\n",
       "    <tr>\n",
       "      <th>...</th>\n",
       "      <td>...</td>\n",
       "      <td>...</td>\n",
       "      <td>...</td>\n",
       "      <td>...</td>\n",
       "      <td>...</td>\n",
       "      <td>...</td>\n",
       "      <td>...</td>\n",
       "      <td>...</td>\n",
       "      <td>...</td>\n",
       "      <td>...</td>\n",
       "      <td>...</td>\n",
       "      <td>...</td>\n",
       "      <td>...</td>\n",
       "      <td>...</td>\n",
       "      <td>...</td>\n",
       "      <td>...</td>\n",
       "      <td>...</td>\n",
       "      <td>...</td>\n",
       "      <td>...</td>\n",
       "      <td>...</td>\n",
       "      <td>...</td>\n",
       "    </tr>\n",
       "    <tr>\n",
       "      <th>564</th>\n",
       "      <td>21.56</td>\n",
       "      <td>22.39</td>\n",
       "      <td>142.00</td>\n",
       "      <td>1479.0</td>\n",
       "      <td>0.11100</td>\n",
       "      <td>0.11590</td>\n",
       "      <td>0.24390</td>\n",
       "      <td>0.13890</td>\n",
       "      <td>0.1726</td>\n",
       "      <td>0.05623</td>\n",
       "      <td>...</td>\n",
       "      <td>26.40</td>\n",
       "      <td>166.10</td>\n",
       "      <td>2027.0</td>\n",
       "      <td>0.14100</td>\n",
       "      <td>0.21130</td>\n",
       "      <td>0.4107</td>\n",
       "      <td>0.2216</td>\n",
       "      <td>0.2060</td>\n",
       "      <td>0.07115</td>\n",
       "      <td>0</td>\n",
       "    </tr>\n",
       "    <tr>\n",
       "      <th>565</th>\n",
       "      <td>20.13</td>\n",
       "      <td>28.25</td>\n",
       "      <td>131.20</td>\n",
       "      <td>1261.0</td>\n",
       "      <td>0.09780</td>\n",
       "      <td>0.10340</td>\n",
       "      <td>0.14400</td>\n",
       "      <td>0.09791</td>\n",
       "      <td>0.1752</td>\n",
       "      <td>0.05533</td>\n",
       "      <td>...</td>\n",
       "      <td>38.25</td>\n",
       "      <td>155.00</td>\n",
       "      <td>1731.0</td>\n",
       "      <td>0.11660</td>\n",
       "      <td>0.19220</td>\n",
       "      <td>0.3215</td>\n",
       "      <td>0.1628</td>\n",
       "      <td>0.2572</td>\n",
       "      <td>0.06637</td>\n",
       "      <td>0</td>\n",
       "    </tr>\n",
       "    <tr>\n",
       "      <th>566</th>\n",
       "      <td>16.60</td>\n",
       "      <td>28.08</td>\n",
       "      <td>108.30</td>\n",
       "      <td>858.1</td>\n",
       "      <td>0.08455</td>\n",
       "      <td>0.10230</td>\n",
       "      <td>0.09251</td>\n",
       "      <td>0.05302</td>\n",
       "      <td>0.1590</td>\n",
       "      <td>0.05648</td>\n",
       "      <td>...</td>\n",
       "      <td>34.12</td>\n",
       "      <td>126.70</td>\n",
       "      <td>1124.0</td>\n",
       "      <td>0.11390</td>\n",
       "      <td>0.30940</td>\n",
       "      <td>0.3403</td>\n",
       "      <td>0.1418</td>\n",
       "      <td>0.2218</td>\n",
       "      <td>0.07820</td>\n",
       "      <td>0</td>\n",
       "    </tr>\n",
       "    <tr>\n",
       "      <th>567</th>\n",
       "      <td>20.60</td>\n",
       "      <td>29.33</td>\n",
       "      <td>140.10</td>\n",
       "      <td>1265.0</td>\n",
       "      <td>0.11780</td>\n",
       "      <td>0.27700</td>\n",
       "      <td>0.35140</td>\n",
       "      <td>0.15200</td>\n",
       "      <td>0.2397</td>\n",
       "      <td>0.07016</td>\n",
       "      <td>...</td>\n",
       "      <td>39.42</td>\n",
       "      <td>184.60</td>\n",
       "      <td>1821.0</td>\n",
       "      <td>0.16500</td>\n",
       "      <td>0.86810</td>\n",
       "      <td>0.9387</td>\n",
       "      <td>0.2650</td>\n",
       "      <td>0.4087</td>\n",
       "      <td>0.12400</td>\n",
       "      <td>0</td>\n",
       "    </tr>\n",
       "    <tr>\n",
       "      <th>568</th>\n",
       "      <td>7.76</td>\n",
       "      <td>24.54</td>\n",
       "      <td>47.92</td>\n",
       "      <td>181.0</td>\n",
       "      <td>0.05263</td>\n",
       "      <td>0.04362</td>\n",
       "      <td>0.00000</td>\n",
       "      <td>0.00000</td>\n",
       "      <td>0.1587</td>\n",
       "      <td>0.05884</td>\n",
       "      <td>...</td>\n",
       "      <td>30.37</td>\n",
       "      <td>59.16</td>\n",
       "      <td>268.6</td>\n",
       "      <td>0.08996</td>\n",
       "      <td>0.06444</td>\n",
       "      <td>0.0000</td>\n",
       "      <td>0.0000</td>\n",
       "      <td>0.2871</td>\n",
       "      <td>0.07039</td>\n",
       "      <td>1</td>\n",
       "    </tr>\n",
       "  </tbody>\n",
       "</table>\n",
       "<p>569 rows × 31 columns</p>\n",
       "</div>"
      ],
      "text/plain": [
       "     mean radius  mean texture  mean perimeter  mean area  mean smoothness  \\\n",
       "0          17.99         10.38          122.80     1001.0          0.11840   \n",
       "1          20.57         17.77          132.90     1326.0          0.08474   \n",
       "2          19.69         21.25          130.00     1203.0          0.10960   \n",
       "3          11.42         20.38           77.58      386.1          0.14250   \n",
       "4          20.29         14.34          135.10     1297.0          0.10030   \n",
       "..           ...           ...             ...        ...              ...   \n",
       "564        21.56         22.39          142.00     1479.0          0.11100   \n",
       "565        20.13         28.25          131.20     1261.0          0.09780   \n",
       "566        16.60         28.08          108.30      858.1          0.08455   \n",
       "567        20.60         29.33          140.10     1265.0          0.11780   \n",
       "568         7.76         24.54           47.92      181.0          0.05263   \n",
       "\n",
       "     mean compactness  mean concavity  mean concave points  mean symmetry  \\\n",
       "0             0.27760         0.30010              0.14710         0.2419   \n",
       "1             0.07864         0.08690              0.07017         0.1812   \n",
       "2             0.15990         0.19740              0.12790         0.2069   \n",
       "3             0.28390         0.24140              0.10520         0.2597   \n",
       "4             0.13280         0.19800              0.10430         0.1809   \n",
       "..                ...             ...                  ...            ...   \n",
       "564           0.11590         0.24390              0.13890         0.1726   \n",
       "565           0.10340         0.14400              0.09791         0.1752   \n",
       "566           0.10230         0.09251              0.05302         0.1590   \n",
       "567           0.27700         0.35140              0.15200         0.2397   \n",
       "568           0.04362         0.00000              0.00000         0.1587   \n",
       "\n",
       "     mean fractal dimension  ...  worst texture  worst perimeter  worst area  \\\n",
       "0                   0.07871  ...          17.33           184.60      2019.0   \n",
       "1                   0.05667  ...          23.41           158.80      1956.0   \n",
       "2                   0.05999  ...          25.53           152.50      1709.0   \n",
       "3                   0.09744  ...          26.50            98.87       567.7   \n",
       "4                   0.05883  ...          16.67           152.20      1575.0   \n",
       "..                      ...  ...            ...              ...         ...   \n",
       "564                 0.05623  ...          26.40           166.10      2027.0   \n",
       "565                 0.05533  ...          38.25           155.00      1731.0   \n",
       "566                 0.05648  ...          34.12           126.70      1124.0   \n",
       "567                 0.07016  ...          39.42           184.60      1821.0   \n",
       "568                 0.05884  ...          30.37            59.16       268.6   \n",
       "\n",
       "     worst smoothness  worst compactness  worst concavity  \\\n",
       "0             0.16220            0.66560           0.7119   \n",
       "1             0.12380            0.18660           0.2416   \n",
       "2             0.14440            0.42450           0.4504   \n",
       "3             0.20980            0.86630           0.6869   \n",
       "4             0.13740            0.20500           0.4000   \n",
       "..                ...                ...              ...   \n",
       "564           0.14100            0.21130           0.4107   \n",
       "565           0.11660            0.19220           0.3215   \n",
       "566           0.11390            0.30940           0.3403   \n",
       "567           0.16500            0.86810           0.9387   \n",
       "568           0.08996            0.06444           0.0000   \n",
       "\n",
       "     worst concave points  worst symmetry  worst fractal dimension  Diagnosis  \n",
       "0                  0.2654          0.4601                  0.11890          0  \n",
       "1                  0.1860          0.2750                  0.08902          0  \n",
       "2                  0.2430          0.3613                  0.08758          0  \n",
       "3                  0.2575          0.6638                  0.17300          0  \n",
       "4                  0.1625          0.2364                  0.07678          0  \n",
       "..                    ...             ...                      ...        ...  \n",
       "564                0.2216          0.2060                  0.07115          0  \n",
       "565                0.1628          0.2572                  0.06637          0  \n",
       "566                0.1418          0.2218                  0.07820          0  \n",
       "567                0.2650          0.4087                  0.12400          0  \n",
       "568                0.0000          0.2871                  0.07039          1  \n",
       "\n",
       "[569 rows x 31 columns]"
      ]
     },
     "execution_count": 9,
     "metadata": {},
     "output_type": "execute_result"
    }
   ],
   "source": [
    "df"
   ]
  },
  {
   "cell_type": "code",
   "execution_count": 10,
   "id": "a6889476",
   "metadata": {},
   "outputs": [
    {
     "data": {
      "text/plain": [
       "mean radius                0\n",
       "mean texture               0\n",
       "mean perimeter             0\n",
       "mean area                  0\n",
       "mean smoothness            0\n",
       "mean compactness           0\n",
       "mean concavity             0\n",
       "mean concave points        0\n",
       "mean symmetry              0\n",
       "mean fractal dimension     0\n",
       "radius error               0\n",
       "texture error              0\n",
       "perimeter error            0\n",
       "area error                 0\n",
       "smoothness error           0\n",
       "compactness error          0\n",
       "concavity error            0\n",
       "concave points error       0\n",
       "symmetry error             0\n",
       "fractal dimension error    0\n",
       "worst radius               0\n",
       "worst texture              0\n",
       "worst perimeter            0\n",
       "worst area                 0\n",
       "worst smoothness           0\n",
       "worst compactness          0\n",
       "worst concavity            0\n",
       "worst concave points       0\n",
       "worst symmetry             0\n",
       "worst fractal dimension    0\n",
       "Diagnosis                  0\n",
       "dtype: int64"
      ]
     },
     "execution_count": 10,
     "metadata": {},
     "output_type": "execute_result"
    }
   ],
   "source": [
    "df.isnull().sum()"
   ]
  },
  {
   "cell_type": "code",
   "execution_count": 11,
   "id": "bc016218",
   "metadata": {},
   "outputs": [],
   "source": [
    "x=df.drop('Diagnosis',axis=1)\n",
    "y=df['Diagnosis']"
   ]
  },
  {
   "cell_type": "code",
   "execution_count": 12,
   "id": "c67913b5",
   "metadata": {},
   "outputs": [],
   "source": [
    "from sklearn.model_selection import train_test_split\n",
    "x_train, x_test, y_train, y_test = train_test_split(x, y, test_size =0.7, random_state = 10)"
   ]
  },
  {
   "cell_type": "code",
   "execution_count": 13,
   "id": "66e39866",
   "metadata": {},
   "outputs": [],
   "source": [
    "x_train = x_train.astype('float32') / 255\n",
    "x_test = x_test.astype('float32') / 255"
   ]
  },
  {
   "cell_type": "code",
   "execution_count": 14,
   "id": "ce0a9c39",
   "metadata": {},
   "outputs": [
    {
     "data": {
      "text/plain": [
       "((170, 30), (399, 30))"
      ]
     },
     "execution_count": 14,
     "metadata": {},
     "output_type": "execute_result"
    }
   ],
   "source": [
    "x_train.shape,x_test.shape"
   ]
  },
  {
   "cell_type": "code",
   "execution_count": 15,
   "id": "a3ce9a36",
   "metadata": {},
   "outputs": [
    {
     "data": {
      "text/plain": [
       "((170,), (399,))"
      ]
     },
     "execution_count": 15,
     "metadata": {},
     "output_type": "execute_result"
    }
   ],
   "source": [
    "y_train.shape,y_test.shape"
   ]
  },
  {
   "cell_type": "code",
   "execution_count": 16,
   "id": "d4cd308f",
   "metadata": {},
   "outputs": [],
   "source": [
    "from keras.models import Sequential\n",
    "from keras.layers import Dense , Activation"
   ]
  },
  {
   "cell_type": "markdown",
   "id": "f7c2a3c9",
   "metadata": {},
   "source": [
    "# RMSProp"
   ]
  },
  {
   "cell_type": "code",
   "execution_count": 17,
   "id": "f88f320e",
   "metadata": {},
   "outputs": [],
   "source": [
    "model = Sequential()\n",
    "model.add(Dense(16, input_dim=30, activation = 'relu'))\n",
    "model.add(Dense(8, activation = 'relu'))\n",
    "model.add(Dense(1, activation ='sigmoid')) "
   ]
  },
  {
   "cell_type": "code",
   "execution_count": 18,
   "id": "f1087a53",
   "metadata": {},
   "outputs": [],
   "source": [
    "model.compile(optimizer = 'rmsprop', loss = 'binary_crossentropy', metrics = ['accuracy'])"
   ]
  },
  {
   "cell_type": "code",
   "execution_count": 19,
   "id": "c61d141e",
   "metadata": {},
   "outputs": [
    {
     "name": "stdout",
     "output_type": "stream",
     "text": [
      "Epoch 1/20\n",
      "170/170 [==============================] - 2s 6ms/step - loss: 0.6692 - accuracy: 0.5000 - val_loss: 0.6584 - val_accuracy: 0.7018\n",
      "Epoch 2/20\n",
      "170/170 [==============================] - 1s 5ms/step - loss: 0.6435 - accuracy: 0.8353 - val_loss: 0.6299 - val_accuracy: 0.7945\n",
      "Epoch 3/20\n",
      "170/170 [==============================] - 1s 5ms/step - loss: 0.6138 - accuracy: 0.7765 - val_loss: 0.6006 - val_accuracy: 0.8972\n",
      "Epoch 4/20\n",
      "170/170 [==============================] - 1s 5ms/step - loss: 0.5816 - accuracy: 0.9118 - val_loss: 0.5617 - val_accuracy: 0.9173\n",
      "Epoch 5/20\n",
      "170/170 [==============================] - 1s 5ms/step - loss: 0.5475 - accuracy: 0.8706 - val_loss: 0.5258 - val_accuracy: 0.9048\n",
      "Epoch 6/20\n",
      "170/170 [==============================] - 1s 5ms/step - loss: 0.5109 - accuracy: 0.8706 - val_loss: 0.4863 - val_accuracy: 0.9273\n",
      "Epoch 7/20\n",
      "170/170 [==============================] - 1s 5ms/step - loss: 0.4764 - accuracy: 0.9000 - val_loss: 0.4495 - val_accuracy: 0.9198\n",
      "Epoch 8/20\n",
      "170/170 [==============================] - 1s 5ms/step - loss: 0.4436 - accuracy: 0.8941 - val_loss: 0.4146 - val_accuracy: 0.9073\n",
      "Epoch 9/20\n",
      "170/170 [==============================] - 1s 5ms/step - loss: 0.4129 - accuracy: 0.8824 - val_loss: 0.3809 - val_accuracy: 0.9148\n",
      "Epoch 10/20\n",
      "170/170 [==============================] - 1s 5ms/step - loss: 0.3842 - accuracy: 0.8765 - val_loss: 0.3532 - val_accuracy: 0.8997\n",
      "Epoch 11/20\n",
      "170/170 [==============================] - 1s 5ms/step - loss: 0.3623 - accuracy: 0.8882 - val_loss: 0.3316 - val_accuracy: 0.8972\n",
      "Epoch 12/20\n",
      "170/170 [==============================] - 1s 5ms/step - loss: 0.3453 - accuracy: 0.8824 - val_loss: 0.3091 - val_accuracy: 0.9073\n",
      "Epoch 13/20\n",
      "170/170 [==============================] - 1s 5ms/step - loss: 0.3304 - accuracy: 0.8882 - val_loss: 0.2941 - val_accuracy: 0.9023\n",
      "Epoch 14/20\n",
      "170/170 [==============================] - 1s 5ms/step - loss: 0.3123 - accuracy: 0.8882 - val_loss: 0.2775 - val_accuracy: 0.9098\n",
      "Epoch 15/20\n",
      "170/170 [==============================] - 1s 5ms/step - loss: 0.3081 - accuracy: 0.8941 - val_loss: 0.2641 - val_accuracy: 0.9198\n",
      "Epoch 16/20\n",
      "170/170 [==============================] - 1s 5ms/step - loss: 0.2970 - accuracy: 0.8765 - val_loss: 0.2546 - val_accuracy: 0.9173\n",
      "Epoch 17/20\n",
      "170/170 [==============================] - 1s 5ms/step - loss: 0.2918 - accuracy: 0.8824 - val_loss: 0.2471 - val_accuracy: 0.9148\n",
      "Epoch 18/20\n",
      "170/170 [==============================] - 1s 5ms/step - loss: 0.2859 - accuracy: 0.8882 - val_loss: 0.2434 - val_accuracy: 0.9073\n",
      "Epoch 19/20\n",
      "170/170 [==============================] - 1s 5ms/step - loss: 0.2784 - accuracy: 0.8882 - val_loss: 0.2477 - val_accuracy: 0.8922\n",
      "Epoch 20/20\n",
      "170/170 [==============================] - 1s 5ms/step - loss: 0.2804 - accuracy: 0.8824 - val_loss: 0.2292 - val_accuracy: 0.9198\n"
     ]
    }
   ],
   "source": [
    "history=model.fit(x_train, y_train,validation_data=(x_test,y_test), batch_size = 1, epochs = 20,verbose=1)"
   ]
  },
  {
   "cell_type": "code",
   "execution_count": 20,
   "id": "af7f3a12",
   "metadata": {},
   "outputs": [],
   "source": [
    "import matplotlib.pyplot as plt"
   ]
  },
  {
   "cell_type": "code",
   "execution_count": 22,
   "id": "b9e503b5",
   "metadata": {},
   "outputs": [
    {
     "data": {
      "text/plain": [
       "[<matplotlib.lines.Line2D at 0x2c0e4dc66d0>]"
      ]
     },
     "execution_count": 22,
     "metadata": {},
     "output_type": "execute_result"
    },
    {
     "data": {
      "image/png": "[encoded data removed]",
      "text/plain": [
       "<Figure size 640x480 with 1 Axes>"
      ]
     },
     "metadata": {},
     "output_type": "display_data"
    }
   ],
   "source": [
    "plt.plot(history.history['loss'],color='orange')\n",
    "plt.plot(history.history['val_loss'],color='black')"
   ]
  },
  {
   "cell_type": "code",
   "execution_count": 23,
   "id": "bb6d55c2",
   "metadata": {
    "scrolled": true
   },
   "outputs": [
    {
     "data": {
      "text/plain": [
       "[<matplotlib.lines.Line2D at 0x2c0e4e307f0>]"
      ]
     },
     "execution_count": 23,
     "metadata": {},
     "output_type": "execute_result"
    },
    {
     "data": {
      "image/png": "[encoded data removed]",
      "text/plain": [
       "<Figure size 640x480 with 1 Axes>"
      ]
     },
     "metadata": {},
     "output_type": "display_data"
    }
   ],
   "source": [
    "plt.plot(history.history['accuracy'] ,color='r')\n",
    "plt.plot(history.history['val_accuracy'],color='blue')"
   ]
  },
  {
   "cell_type": "code",
   "execution_count": 25,
   "id": "1de171d9",
   "metadata": {},
   "outputs": [
    {
     "name": "stdout",
     "output_type": "stream",
     "text": [
      "Epoch 1/20\n",
      "5/5 [==============================] - 0s 33ms/step - loss: 0.2625 - accuracy: 0.9044 - val_loss: 0.2805 - val_accuracy: 0.8529\n",
      "Epoch 2/20\n",
      "5/5 [==============================] - 0s 16ms/step - loss: 0.2628 - accuracy: 0.8971 - val_loss: 0.2802 - val_accuracy: 0.8529\n",
      "Epoch 3/20\n",
      "5/5 [==============================] - 0s 40ms/step - loss: 0.2635 - accuracy: 0.9044 - val_loss: 0.2798 - val_accuracy: 0.8529\n",
      "Epoch 4/20\n",
      "5/5 [==============================] - 0s 21ms/step - loss: 0.2625 - accuracy: 0.8971 - val_loss: 0.2796 - val_accuracy: 0.8529\n"
     ]
    }
   ],
   "source": [
    "from keras.callbacks import EarlyStopping #Early Stopping deployed for better accuracy.\n",
    "earlystop= EarlyStopping(monitor='val_accuracy', patience=3)\n",
    "history= model.fit(x_train,y_train,epochs=20,validation_split=0.20,callbacks=earlystop)"
   ]
  },
  {
   "cell_type": "markdown",
   "id": "a853ae59",
   "metadata": {},
   "source": [
    "# ADAM"
   ]
  },
  {
   "cell_type": "code",
   "execution_count": 26,
   "id": "804731bd",
   "metadata": {},
   "outputs": [],
   "source": [
    "model = Sequential()\n",
    "model.add(Dense(16, input_dim=30, activation = 'relu'))\n",
    "model.add(Dense(8, activation = 'relu'))\n",
    "model.add(Dense(1, activation ='sigmoid')) "
   ]
  },
  {
   "cell_type": "code",
   "execution_count": 27,
   "id": "b71745fd",
   "metadata": {},
   "outputs": [],
   "source": [
    "model.compile(optimizer = 'adam', loss = 'binary_crossentropy', metrics = ['accuracy'])"
   ]
  },
  {
   "cell_type": "code",
   "execution_count": 28,
   "id": "b6ab992d",
   "metadata": {},
   "outputs": [
    {
     "name": "stdout",
     "output_type": "stream",
     "text": [
      "Epoch 1/20\n",
      "170/170 [==============================] - 2s 6ms/step - loss: 0.5873 - accuracy: 0.7176 - val_loss: 0.5130 - val_accuracy: 0.8747\n",
      "Epoch 2/20\n",
      "170/170 [==============================] - 1s 5ms/step - loss: 0.4753 - accuracy: 0.8706 - val_loss: 0.4156 - val_accuracy: 0.8997\n",
      "Epoch 3/20\n",
      "170/170 [==============================] - 1s 5ms/step - loss: 0.3947 - accuracy: 0.8824 - val_loss: 0.3500 - val_accuracy: 0.9023\n",
      "Epoch 4/20\n",
      "170/170 [==============================] - 1s 5ms/step - loss: 0.3434 - accuracy: 0.8941 - val_loss: 0.3441 - val_accuracy: 0.8571\n",
      "Epoch 5/20\n",
      "170/170 [==============================] - 1s 5ms/step - loss: 0.3046 - accuracy: 0.8941 - val_loss: 0.2684 - val_accuracy: 0.9123\n",
      "Epoch 6/20\n",
      "170/170 [==============================] - 1s 5ms/step - loss: 0.2900 - accuracy: 0.8882 - val_loss: 0.2900 - val_accuracy: 0.8847\n",
      "Epoch 7/20\n",
      "170/170 [==============================] - 1s 5ms/step - loss: 0.2787 - accuracy: 0.8941 - val_loss: 0.2574 - val_accuracy: 0.8972\n",
      "Epoch 8/20\n",
      "170/170 [==============================] - 1s 5ms/step - loss: 0.2606 - accuracy: 0.8941 - val_loss: 0.2380 - val_accuracy: 0.9298\n",
      "Epoch 9/20\n",
      "170/170 [==============================] - 1s 5ms/step - loss: 0.2646 - accuracy: 0.8765 - val_loss: 0.2371 - val_accuracy: 0.9023\n",
      "Epoch 10/20\n",
      "170/170 [==============================] - 1s 5ms/step - loss: 0.2502 - accuracy: 0.9000 - val_loss: 0.2632 - val_accuracy: 0.8897\n",
      "Epoch 11/20\n",
      "170/170 [==============================] - 1s 5ms/step - loss: 0.2482 - accuracy: 0.9000 - val_loss: 0.2177 - val_accuracy: 0.9098\n",
      "Epoch 12/20\n",
      "170/170 [==============================] - 1s 5ms/step - loss: 0.2587 - accuracy: 0.8941 - val_loss: 0.1905 - val_accuracy: 0.9348\n",
      "Epoch 13/20\n",
      "170/170 [==============================] - 1s 6ms/step - loss: 0.2357 - accuracy: 0.9059 - val_loss: 0.1875 - val_accuracy: 0.9298\n",
      "Epoch 14/20\n",
      "170/170 [==============================] - 1s 5ms/step - loss: 0.2358 - accuracy: 0.8882 - val_loss: 0.1846 - val_accuracy: 0.9298\n",
      "Epoch 15/20\n",
      "170/170 [==============================] - 1s 5ms/step - loss: 0.2256 - accuracy: 0.9176 - val_loss: 0.2126 - val_accuracy: 0.9073\n",
      "Epoch 16/20\n",
      "170/170 [==============================] - 1s 5ms/step - loss: 0.2187 - accuracy: 0.9059 - val_loss: 0.1754 - val_accuracy: 0.9348\n",
      "Epoch 17/20\n",
      "170/170 [==============================] - 1s 5ms/step - loss: 0.2269 - accuracy: 0.9059 - val_loss: 0.1777 - val_accuracy: 0.9373\n",
      "Epoch 18/20\n",
      "170/170 [==============================] - 1s 5ms/step - loss: 0.2175 - accuracy: 0.8941 - val_loss: 0.1740 - val_accuracy: 0.9323\n",
      "Epoch 19/20\n",
      "170/170 [==============================] - 1s 5ms/step - loss: 0.2156 - accuracy: 0.8941 - val_loss: 0.1945 - val_accuracy: 0.9198\n",
      "Epoch 20/20\n",
      "170/170 [==============================] - 1s 5ms/step - loss: 0.2140 - accuracy: 0.9235 - val_loss: 0.1690 - val_accuracy: 0.9273\n"
     ]
    }
   ],
   "source": [
    "history=model.fit(x_train, y_train,validation_data=(x_test,y_test), batch_size = 1, epochs = 20,verbose=1)"
   ]
  },
  {
   "cell_type": "code",
   "execution_count": 29,
   "id": "20f0cd75",
   "metadata": {},
   "outputs": [
    {
     "data": {
      "text/plain": [
       "[<matplotlib.lines.Line2D at 0x2c0e717e430>]"
      ]
     },
     "execution_count": 29,
     "metadata": {},
     "output_type": "execute_result"
    },
    {
     "data": {
      "image/png": "[encoded data removed]",
      "text/plain": [
       "<Figure size 640x480 with 1 Axes>"
      ]
     },
     "metadata": {},
     "output_type": "display_data"
    }
   ],
   "source": [
    "plt.plot(history.history['loss'],color='orange')\n",
    "plt.plot(history.history['val_loss'],color='black')"
   ]
  },
  {
   "cell_type": "code",
   "execution_count": 30,
   "id": "5b176976",
   "metadata": {},
   "outputs": [
    {
     "data": {
      "text/plain": [
       "[<matplotlib.lines.Line2D at 0x2c0e71e51c0>]"
      ]
     },
     "execution_count": 30,
     "metadata": {},
     "output_type": "execute_result"
    },
    {
     "data": {
      "image/png": "[encoded data removed]",
      "text/plain": [
       "<Figure size 640x480 with 1 Axes>"
      ]
     },
     "metadata": {},
     "output_type": "display_data"
    }
   ],
   "source": [
    "plt.plot(history.history['accuracy'] ,color='r')\n",
    "plt.plot(history.history['val_accuracy'],color='blue')"
   ]
  },
  {
   "cell_type": "code",
   "execution_count": 31,
   "id": "6bf809e9",
   "metadata": {},
   "outputs": [
    {
     "name": "stdout",
     "output_type": "stream",
     "text": [
      "Epoch 1/20\n",
      "5/5 [==============================] - 1s 60ms/step - loss: 0.2030 - accuracy: 0.9118 - val_loss: 0.2079 - val_accuracy: 0.8824\n",
      "Epoch 2/20\n",
      "5/5 [==============================] - 0s 33ms/step - loss: 0.2036 - accuracy: 0.9118 - val_loss: 0.2084 - val_accuracy: 0.8824\n",
      "Epoch 3/20\n",
      "5/5 [==============================] - 0s 17ms/step - loss: 0.2042 - accuracy: 0.9191 - val_loss: 0.2088 - val_accuracy: 0.8824\n",
      "Epoch 4/20\n",
      "5/5 [==============================] - 0s 17ms/step - loss: 0.2051 - accuracy: 0.9118 - val_loss: 0.2093 - val_accuracy: 0.8824\n"
     ]
    }
   ],
   "source": [
    "from keras.callbacks import EarlyStopping #Early Stopping deployed for better accuracy.\n",
    "earlystop= EarlyStopping(monitor='val_accuracy', patience=3)\n",
    "history= model.fit(x_train,y_train,epochs=20,validation_split=0.20,callbacks=earlystop)"
   ]
  },
  {
   "cell_type": "markdown",
   "id": "5a8ab36b",
   "metadata": {},
   "source": [
    "# SGD"
   ]
  },
  {
   "cell_type": "code",
   "execution_count": 32,
   "id": "d65f5965",
   "metadata": {},
   "outputs": [],
   "source": [
    "model = Sequential()\n",
    "model.add(Dense(16, input_dim=30, activation = 'relu'))\n",
    "model.add(Dense(8, activation = 'relu'))\n",
    "model.add(Dense(1, activation ='sigmoid')) "
   ]
  },
  {
   "cell_type": "code",
   "execution_count": 33,
   "id": "1526e595",
   "metadata": {},
   "outputs": [],
   "source": [
    "model.compile(optimizer = 'sgd', loss = 'binary_crossentropy', metrics = ['accuracy'])"
   ]
  },
  {
   "cell_type": "code",
   "execution_count": 34,
   "id": "fc13b72d",
   "metadata": {},
   "outputs": [
    {
     "name": "stdout",
     "output_type": "stream",
     "text": [
      "Epoch 1/20\n",
      "170/170 [==============================] - 2s 6ms/step - loss: 0.6362 - accuracy: 0.6059 - val_loss: 0.5944 - val_accuracy: 0.9098\n",
      "Epoch 2/20\n",
      "170/170 [==============================] - 1s 5ms/step - loss: 0.5718 - accuracy: 0.8235 - val_loss: 0.5282 - val_accuracy: 0.9073\n",
      "Epoch 3/20\n",
      "170/170 [==============================] - 1s 5ms/step - loss: 0.5100 - accuracy: 0.8882 - val_loss: 0.4617 - val_accuracy: 0.9198\n",
      "Epoch 4/20\n",
      "170/170 [==============================] - 1s 5ms/step - loss: 0.4504 - accuracy: 0.8765 - val_loss: 0.4210 - val_accuracy: 0.8697\n",
      "Epoch 5/20\n",
      "170/170 [==============================] - 1s 5ms/step - loss: 0.4043 - accuracy: 0.8941 - val_loss: 0.3570 - val_accuracy: 0.9148\n",
      "Epoch 6/20\n",
      "170/170 [==============================] - 1s 5ms/step - loss: 0.3632 - accuracy: 0.8765 - val_loss: 0.3186 - val_accuracy: 0.9023\n",
      "Epoch 7/20\n",
      "170/170 [==============================] - 1s 5ms/step - loss: 0.3296 - accuracy: 0.8765 - val_loss: 0.2841 - val_accuracy: 0.9298\n",
      "Epoch 8/20\n",
      "170/170 [==============================] - 1s 5ms/step - loss: 0.3151 - accuracy: 0.8706 - val_loss: 0.2691 - val_accuracy: 0.9148\n",
      "Epoch 9/20\n",
      "170/170 [==============================] - 1s 5ms/step - loss: 0.2963 - accuracy: 0.8824 - val_loss: 0.2631 - val_accuracy: 0.9123\n",
      "Epoch 10/20\n",
      "170/170 [==============================] - 1s 5ms/step - loss: 0.2772 - accuracy: 0.8765 - val_loss: 0.2831 - val_accuracy: 0.8822\n",
      "Epoch 11/20\n",
      "170/170 [==============================] - 1s 5ms/step - loss: 0.2873 - accuracy: 0.8765 - val_loss: 0.2195 - val_accuracy: 0.9298\n",
      "Epoch 12/20\n",
      "170/170 [==============================] - 1s 5ms/step - loss: 0.2653 - accuracy: 0.9000 - val_loss: 0.2111 - val_accuracy: 0.9298\n",
      "Epoch 13/20\n",
      "170/170 [==============================] - 1s 5ms/step - loss: 0.2844 - accuracy: 0.8706 - val_loss: 0.2051 - val_accuracy: 0.9323\n",
      "Epoch 14/20\n",
      "170/170 [==============================] - 1s 5ms/step - loss: 0.2587 - accuracy: 0.8882 - val_loss: 0.2460 - val_accuracy: 0.8947\n",
      "Epoch 15/20\n",
      "170/170 [==============================] - 1s 5ms/step - loss: 0.2419 - accuracy: 0.9059 - val_loss: 0.1927 - val_accuracy: 0.9323\n",
      "Epoch 16/20\n",
      "170/170 [==============================] - 1s 7ms/step - loss: 0.2625 - accuracy: 0.9000 - val_loss: 0.1919 - val_accuracy: 0.9348\n",
      "Epoch 17/20\n",
      "170/170 [==============================] - 1s 5ms/step - loss: 0.2531 - accuracy: 0.9176 - val_loss: 0.1932 - val_accuracy: 0.9248\n",
      "Epoch 18/20\n",
      "170/170 [==============================] - 1s 5ms/step - loss: 0.2609 - accuracy: 0.8765 - val_loss: 0.1892 - val_accuracy: 0.9298\n",
      "Epoch 19/20\n",
      "170/170 [==============================] - 1s 4ms/step - loss: 0.2403 - accuracy: 0.9000 - val_loss: 0.1845 - val_accuracy: 0.9273\n",
      "Epoch 20/20\n",
      "170/170 [==============================] - 1s 5ms/step - loss: 0.2616 - accuracy: 0.8765 - val_loss: 0.2583 - val_accuracy: 0.8972\n"
     ]
    }
   ],
   "source": [
    "history=model.fit(x_train, y_train,validation_data=(x_test,y_test), batch_size = 1, epochs = 20,verbose=1)"
   ]
  },
  {
   "cell_type": "code",
   "execution_count": 35,
   "id": "a4e49716",
   "metadata": {},
   "outputs": [
    {
     "data": {
      "text/plain": [
       "[<matplotlib.lines.Line2D at 0x2c0e9516a90>]"
      ]
     },
     "execution_count": 35,
     "metadata": {},
     "output_type": "execute_result"
    },
    {
     "data": {
      "image/png": "[encoded data removed]",
      "text/plain": [
       "<Figure size 640x480 with 1 Axes>"
      ]
     },
     "metadata": {},
     "output_type": "display_data"
    }
   ],
   "source": [
    "plt.plot(history.history['loss'],color='orange')\n",
    "plt.plot(history.history['val_loss'],color='black')"
   ]
  },
  {
   "cell_type": "code",
   "execution_count": 36,
   "id": "50e5bf3b",
   "metadata": {},
   "outputs": [
    {
     "data": {
      "text/plain": [
       "[<matplotlib.lines.Line2D at 0x2c0e96ad8e0>]"
      ]
     },
     "execution_count": 36,
     "metadata": {},
     "output_type": "execute_result"
    },
    {
     "data": {
      "image/png": "[encoded data removed]",
      "text/plain": [
       "<Figure size 640x480 with 1 Axes>"
      ]
     },
     "metadata": {},
     "output_type": "display_data"
    }
   ],
   "source": [
    "plt.plot(history.history['accuracy'] ,color='r')\n",
    "plt.plot(history.history['val_accuracy'],color='blue')"
   ]
  },
  {
   "cell_type": "code",
   "execution_count": 37,
   "id": "18f3f688",
   "metadata": {},
   "outputs": [
    {
     "name": "stdout",
     "output_type": "stream",
     "text": [
      "Epoch 1/20\n",
      "5/5 [==============================] - 1s 65ms/step - loss: 0.2833 - accuracy: 0.8824 - val_loss: 0.2540 - val_accuracy: 0.9412\n",
      "Epoch 2/20\n",
      "5/5 [==============================] - 0s 16ms/step - loss: 0.2328 - accuracy: 0.9118 - val_loss: 0.2263 - val_accuracy: 0.8824\n",
      "Epoch 3/20\n",
      "5/5 [==============================] - 0s 14ms/step - loss: 0.2195 - accuracy: 0.9044 - val_loss: 0.2274 - val_accuracy: 0.8824\n",
      "Epoch 4/20\n",
      "5/5 [==============================] - 0s 14ms/step - loss: 0.2197 - accuracy: 0.9044 - val_loss: 0.2235 - val_accuracy: 0.8529\n"
     ]
    }
   ],
   "source": [
    "from keras.callbacks import EarlyStopping #Early Stopping deployed for better accuracy.\n",
    "earlystop= EarlyStopping(monitor='val_accuracy', patience=3)\n",
    "history= model.fit(x_train,y_train,epochs=20,validation_split=0.20,callbacks=earlystop)"
   ]
  },
  {
   "cell_type": "markdown",
   "id": "b5660174",
   "metadata": {},
   "source": [
    "# Adagrad"
   ]
  },
  {
   "cell_type": "code",
   "execution_count": 53,
   "id": "68a8cc6b",
   "metadata": {},
   "outputs": [],
   "source": [
    "model = Sequential()\n",
    "model.add(Dense(16, input_dim=30, activation = 'LeakyReLU'))\n",
    "model.add(Dense(8, activation = 'LeakyReLU'))\n",
    "model.add(Dense(1, activation ='sigmoid')) "
   ]
  },
  {
   "cell_type": "code",
   "execution_count": 54,
   "id": "83449617",
   "metadata": {},
   "outputs": [],
   "source": [
    "model.compile(optimizer = 'Adagrad', loss = 'binary_crossentropy', metrics = ['accuracy'])"
   ]
  },
  {
   "cell_type": "code",
   "execution_count": 55,
   "id": "0259f5f3",
   "metadata": {},
   "outputs": [
    {
     "name": "stdout",
     "output_type": "stream",
     "text": [
      "Epoch 1/20\n",
      "170/170 [==============================] - 2s 6ms/step - loss: 0.7044 - accuracy: 0.3882 - val_loss: 0.6772 - val_accuracy: 0.3659\n",
      "Epoch 2/20\n",
      "170/170 [==============================] - 1s 6ms/step - loss: 0.6632 - accuracy: 0.3882 - val_loss: 0.6544 - val_accuracy: 0.3659\n",
      "Epoch 3/20\n",
      "170/170 [==============================] - 1s 5ms/step - loss: 0.6403 - accuracy: 0.3882 - val_loss: 0.6310 - val_accuracy: 0.3684\n",
      "Epoch 4/20\n",
      "170/170 [==============================] - 1s 5ms/step - loss: 0.6223 - accuracy: 0.4000 - val_loss: 0.6207 - val_accuracy: 0.4211\n",
      "Epoch 5/20\n",
      "170/170 [==============================] - 1s 5ms/step - loss: 0.6140 - accuracy: 0.4176 - val_loss: 0.6143 - val_accuracy: 0.5063\n",
      "Epoch 6/20\n",
      "170/170 [==============================] - 1s 5ms/step - loss: 0.6083 - accuracy: 0.5118 - val_loss: 0.6094 - val_accuracy: 0.5865\n",
      "Epoch 7/20\n",
      "170/170 [==============================] - 1s 5ms/step - loss: 0.6039 - accuracy: 0.5824 - val_loss: 0.6054 - val_accuracy: 0.7093\n",
      "Epoch 8/20\n",
      "170/170 [==============================] - 1s 5ms/step - loss: 0.6002 - accuracy: 0.6529 - val_loss: 0.6019 - val_accuracy: 0.7719\n",
      "Epoch 9/20\n",
      "170/170 [==============================] - 1s 5ms/step - loss: 0.5969 - accuracy: 0.7000 - val_loss: 0.5987 - val_accuracy: 0.8120\n",
      "Epoch 10/20\n",
      "170/170 [==============================] - 1s 6ms/step - loss: 0.5940 - accuracy: 0.7765 - val_loss: 0.5958 - val_accuracy: 0.8421\n",
      "Epoch 11/20\n",
      "170/170 [==============================] - 1s 5ms/step - loss: 0.5913 - accuracy: 0.8000 - val_loss: 0.5931 - val_accuracy: 0.8722\n",
      "Epoch 12/20\n",
      "170/170 [==============================] - 1s 5ms/step - loss: 0.5888 - accuracy: 0.8412 - val_loss: 0.5906 - val_accuracy: 0.8772\n",
      "Epoch 13/20\n",
      "170/170 [==============================] - 1s 5ms/step - loss: 0.5864 - accuracy: 0.8412 - val_loss: 0.5881 - val_accuracy: 0.8897\n",
      "Epoch 14/20\n",
      "170/170 [==============================] - 1s 5ms/step - loss: 0.5841 - accuracy: 0.8706 - val_loss: 0.5857 - val_accuracy: 0.9073\n",
      "Epoch 15/20\n",
      "170/170 [==============================] - 1s 5ms/step - loss: 0.5818 - accuracy: 0.8882 - val_loss: 0.5834 - val_accuracy: 0.9123\n",
      "Epoch 16/20\n",
      "170/170 [==============================] - 1s 5ms/step - loss: 0.5796 - accuracy: 0.8941 - val_loss: 0.5809 - val_accuracy: 0.9223\n",
      "Epoch 17/20\n",
      "170/170 [==============================] - 1s 5ms/step - loss: 0.5773 - accuracy: 0.8882 - val_loss: 0.5785 - val_accuracy: 0.9198\n",
      "Epoch 18/20\n",
      "170/170 [==============================] - 1s 5ms/step - loss: 0.5749 - accuracy: 0.8882 - val_loss: 0.5759 - val_accuracy: 0.9323\n",
      "Epoch 19/20\n",
      "170/170 [==============================] - 1s 5ms/step - loss: 0.5724 - accuracy: 0.8882 - val_loss: 0.5734 - val_accuracy: 0.9323\n",
      "Epoch 20/20\n",
      "170/170 [==============================] - 1s 5ms/step - loss: 0.5700 - accuracy: 0.9118 - val_loss: 0.5710 - val_accuracy: 0.9323\n"
     ]
    }
   ],
   "source": [
    "history=model.fit(x_train, y_train,validation_data=(x_test,y_test), batch_size = 1, epochs = 20,verbose=1)"
   ]
  },
  {
   "cell_type": "code",
   "execution_count": 56,
   "id": "46e8ddec",
   "metadata": {},
   "outputs": [
    {
     "data": {
      "text/plain": [
       "[<matplotlib.lines.Line2D at 0x2c0e723f7c0>]"
      ]
     },
     "execution_count": 56,
     "metadata": {},
     "output_type": "execute_result"
    },
    {
     "data": {
      "image/png": "[encoded data removed]",
      "text/plain": [
       "<Figure size 640x480 with 1 Axes>"
      ]
     },
     "metadata": {},
     "output_type": "display_data"
    }
   ],
   "source": [
    "plt.plot(history.history['loss'],color='orange')\n",
    "plt.plot(history.history['val_loss'],color='black')"
   ]
  },
  {
   "cell_type": "code",
   "execution_count": 57,
   "id": "cbfb0e54",
   "metadata": {},
   "outputs": [
    {
     "data": {
      "text/plain": [
       "[<matplotlib.lines.Line2D at 0x2c0e61041c0>]"
      ]
     },
     "execution_count": 57,
     "metadata": {},
     "output_type": "execute_result"
    },
    {
     "data": {
      "image/png": "[encoded data removed]",
      "text/plain": [
       "<Figure size 640x480 with 1 Axes>"
      ]
     },
     "metadata": {},
     "output_type": "display_data"
    }
   ],
   "source": [
    "plt.plot(history.history['accuracy'] ,color='r')\n",
    "plt.plot(history.history['val_accuracy'],color='blue')"
   ]
  },
  {
   "cell_type": "code",
   "execution_count": 58,
   "id": "21406d7c",
   "metadata": {},
   "outputs": [
    {
     "name": "stdout",
     "output_type": "stream",
     "text": [
      "Epoch 1/20\n",
      "5/5 [==============================] - 1s 59ms/step - loss: 0.5691 - accuracy: 0.9191 - val_loss: 0.5670 - val_accuracy: 0.9412\n",
      "Epoch 2/20\n",
      "5/5 [==============================] - 0s 15ms/step - loss: 0.5690 - accuracy: 0.9191 - val_loss: 0.5669 - val_accuracy: 0.9412\n",
      "Epoch 3/20\n",
      "5/5 [==============================] - 0s 17ms/step - loss: 0.5689 - accuracy: 0.9191 - val_loss: 0.5669 - val_accuracy: 0.9412\n",
      "Epoch 4/20\n",
      "5/5 [==============================] - 0s 16ms/step - loss: 0.5689 - accuracy: 0.9191 - val_loss: 0.5668 - val_accuracy: 0.9412\n"
     ]
    }
   ],
   "source": [
    "from keras.callbacks import EarlyStopping #Early Stopping deployed for better accuracy.\n",
    "earlystop= EarlyStopping(monitor='val_accuracy', patience=3)\n",
    "history= model.fit(x_train,y_train,epochs=20,validation_split=0.20,callbacks=earlystop)"
   ]
  },
  {
   "cell_type": "code",
   "execution_count": null,
   "id": "79c18f7d",
   "metadata": {},
   "outputs": [],
   "source": []
  }
 ],
 "metadata": {
  "kernelspec": {
   "display_name": "Python 3 (ipykernel)",
   "language": "python",
   "name": "python3"
  },
  "language_info": {
   "codemirror_mode": {
    "name": "ipython",
    "version": 3
   },
   "file_extension": ".py",
   "mimetype": "text/x-python",
   "name": "python",
   "nbconvert_exporter": "python",
   "pygments_lexer": "ipython3",
   "version": "3.9.13"
  }
 },
 "nbformat": 4,
 "nbformat_minor": 5
}
